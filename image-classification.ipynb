{
 "cells": [
  {
   "cell_type": "markdown",
   "metadata": {},
   "source": [
    "## Import Libraries"
   ]
  },
  {
   "cell_type": "code",
   "execution_count": 20,
   "metadata": {},
   "outputs": [],
   "source": [
    "import numpy as np\n",
    "import random \n",
    "from PIL import Image\n",
    "import matplotlib.pyplot as plt\n",
    "import os"
   ]
  },
  {
   "cell_type": "markdown",
   "metadata": {},
   "source": [
    "## Import Data-CroppedYaleB"
   ]
  },
  {
   "cell_type": "code",
   "execution_count": 21,
   "metadata": {},
   "outputs": [
    {
     "name": "stdout",
     "output_type": "stream",
     "text": [
      "Files and directories in ' C:/Users/Administrator/Downloads/COMP5328/Data/CroppedYaleB ' :\n",
      "['.DS_Store', 'yaleB01', 'yaleB02', 'yaleB03', 'yaleB04', 'yaleB05', 'yaleB06', 'yaleB07', 'yaleB08', 'yaleB09', 'yaleB10', 'yaleB11', 'yaleB12', 'yaleB13', 'yaleB15', 'yaleB16', 'yaleB17', 'yaleB18', 'yaleB19', 'yaleB20', 'yaleB21', 'yaleB22', 'yaleB23', 'yaleB24', 'yaleB25', 'yaleB26', 'yaleB27', 'yaleB28', 'yaleB29', 'yaleB30', 'yaleB31', 'yaleB32', 'yaleB33', 'yaleB34', 'yaleB35', 'yaleB36', 'yaleB37', 'yaleB38', 'yaleB39']\n"
     ]
    }
   ],
   "source": [
    "# Get the list of all files and directories \n",
    "# in the root directory \n",
    "path = \"./Data/CroppedYaleB\"\n",
    "dir_list = os.listdir(path) \n",
    "  \n",
    "print(\"Files and directories in '\", path, \"' :\")  \n",
    "  \n",
    "# print the list \n",
    "print(dir_list)"
   ]
  },
  {
   "cell_type": "code",
   "execution_count": 22,
   "metadata": {},
   "outputs": [],
   "source": [
    "images, labels = [], []\n",
    "reduce_size = 4\n",
    "root = \"./Data/CroppedYaleB\"\n",
    "for i, person in enumerate(sorted(os.listdir(root))):\n",
    "    if not os.path.isdir(os.path.join(root, person)):\n",
    "        continue\n",
    "    else:    \n",
    "        for fname in os.listdir(os.path.join(root, person)):            \n",
    "            # Remove background images in Extended YaleB dataset.\n",
    "            if fname.endswith('Ambient.pgm'):\n",
    "                continue\n",
    "            \n",
    "            elif fname.endswith('.pgm'):           \n",
    "                # load image.\n",
    "                img = Image.open(os.path.join(root, person, fname))\n",
    "                img = img.convert('L') # grey image.\n",
    "\n",
    "                #reduce computation complexity.\n",
    "                \n",
    "                img = img.resize([s//reduce_size for s in img.size])\n",
    "\n",
    "                # convert image to numpy array.\n",
    "                img = np.asarray(img)\n",
    "\n",
    "                # collect data and label.\n",
    "                images.append(img)\n",
    "                labels.append(i)\n"
   ]
  },
  {
   "cell_type": "markdown",
   "metadata": {},
   "source": [
    "### Explore data info"
   ]
  },
  {
   "cell_type": "code",
   "execution_count": 23,
   "metadata": {
    "scrolled": true
   },
   "outputs": [
    {
     "data": {
      "text/plain": [
       "(48, 42)"
      ]
     },
     "execution_count": 23,
     "metadata": {},
     "output_type": "execute_result"
    }
   ],
   "source": [
    "np.shape(img)"
   ]
  },
  {
   "cell_type": "code",
   "execution_count": 24,
   "metadata": {},
   "outputs": [
    {
     "data": {
      "text/plain": [
       "(2414, 48, 42)"
      ]
     },
     "execution_count": 24,
     "metadata": {},
     "output_type": "execute_result"
    }
   ],
   "source": [
    "np.shape(np.array(images))"
   ]
  },
  {
   "cell_type": "markdown",
   "metadata": {},
   "source": [
    "### Display a random image"
   ]
  },
  {
   "cell_type": "code",
   "execution_count": 25,
   "metadata": {
    "scrolled": true
   },
   "outputs": [
    {
     "data": {
      "text/plain": [
       "<matplotlib.image.AxesImage at 0x1a896f12520>"
      ]
     },
     "execution_count": 25,
     "metadata": {},
     "output_type": "execute_result"
    },
    {
     "data": {
      "image/png": "[encoded data removed]",
      "text/plain": [
       "<Figure size 432x288 with 1 Axes>"
      ]
     },
     "metadata": {
      "needs_background": "light"
     },
     "output_type": "display_data"
    }
   ],
   "source": [
    "plt.imshow(images[10], cmap=\"gray\")"
   ]
  },
  {
   "cell_type": "markdown",
   "metadata": {},
   "source": [
    "As computational complexity has been reduced by dividing the image size by a reduce size of 4 for both height and weight, the shape of a single image has been reduced from (192, 168) to (48, 42)"
   ]
  },
  {
   "cell_type": "code",
   "execution_count": 26,
   "metadata": {
    "scrolled": true
   },
   "outputs": [
    {
     "name": "stdout",
     "output_type": "stream",
     "text": [
      "<class 'list'>\n"
     ]
    }
   ],
   "source": [
    "print(type(images))"
   ]
  },
  {
   "cell_type": "markdown",
   "metadata": {},
   "source": [
    "The type of image is list, it could be converted into array type by numpy.array()"
   ]
  },
  {
   "cell_type": "markdown",
   "metadata": {},
   "source": [
    "### add noises"
   ]
  },
  {
   "cell_type": "code",
   "execution_count": 27,
   "metadata": {},
   "outputs": [],
   "source": [
    "##add noise - method 1\n",
    "# Saltpepper noise\n",
    "import copy\n",
    "def salt_pepper(image, pr, r, w, h):\n",
    "    ##create a deep copy of data,recursively inserts copies into it of the objects found in the original.\n",
    "    image_copy = copy.deepcopy(image) ##avoid alter the original data\n",
    "    image_copy = np.array(image_copy)\n",
    "    for idx in range(len(image_copy)):\n",
    "    # start index of the block\n",
    "    # define width w and height h\n",
    "        for i in range (int(pr*w*h)):\n",
    "            index_w = np.random.randint(0, w)\n",
    "            index_h = np.random.randint(0, h)\n",
    "            if np.random.random() > r :\n",
    "                image_copy[idx][index_w][index_h] = 0\n",
    "            else:\n",
    "                image_copy[idx][index_w][index_h] = 255\n",
    "    return image_copy"
   ]
  },
  {
   "cell_type": "code",
   "execution_count": 28,
   "metadata": {},
   "outputs": [],
   "source": [
    "salt_pepper_noise = salt_pepper(images, 0.1, 0.5, 48, 42)"
   ]
  },
  {
   "cell_type": "markdown",
   "metadata": {},
   "source": [
    "p and r are hyperparameters, p is set to control the noise level (no. of modified pixels / total no. of pixels) and equals to 0.1, r is set to control the ratio of being w255 (white) to the number of modified pixel values and equals to 0.5"
   ]
  },
  {
   "cell_type": "markdown",
   "metadata": {},
   "source": [
    "### display a random image after saltpepper noise"
   ]
  },
  {
   "cell_type": "code",
   "execution_count": 29,
   "metadata": {
    "scrolled": true
   },
   "outputs": [
    {
     "data": {
      "text/plain": [
       "<matplotlib.image.AxesImage at 0x1a896f7c190>"
      ]
     },
     "execution_count": 29,
     "metadata": {},
     "output_type": "execute_result"
    },
    {
     "data": {
      "image/png": "[encoded data removed]",
      "text/plain": [
       "<Figure size 432x288 with 1 Axes>"
      ]
     },
     "metadata": {
      "needs_background": "light"
     },
     "output_type": "display_data"
    }
   ],
   "source": [
    "plt.imshow(salt_pepper_noise[10], cmap=\"gray\")"
   ]
  },
  {
   "cell_type": "code",
   "execution_count": 30,
   "metadata": {},
   "outputs": [
    {
     "data": {
      "image/png": "[encoded data removed]",
      "text/plain": [
       "<Figure size 432x288 with 2 Axes>"
      ]
     },
     "metadata": {
      "needs_background": "light"
     },
     "output_type": "display_data"
    }
   ],
   "source": [
    "##see effect of adding saltpepper noise\n",
    "plt.subplot(121)\n",
    "plt.imshow(images[10], cmap=\"gray\")\n",
    "plt.title('original image')\n",
    "plt.subplot(122)\n",
    "restructured = salt_pepper(images, 0.1, 0.5, 48, 42)\n",
    "plt.imshow(salt_pepper_noise[10], cmap=\"gray\")\n",
    "plt.title('saltpepper noise image')\n",
    "plt.show()"
   ]
  },
  {
   "cell_type": "code",
   "execution_count": 31,
   "metadata": {},
   "outputs": [],
   "source": [
    "#method 2 gaussian noise\n",
    "#image_size = (w, h) = (images[0][1], images[0][0])\n",
    "\n",
    "def gau_generation(image, image_size, g_ratio = 1):\n",
    "    \n",
    "    image_copy = copy.deepcopy(image)\n",
    "    image_copy = np.array(image_copy)\n",
    "    image_copy = image_copy.reshape(image_copy.shape[0], image_size[0], image_size[1])\n",
    "    \n",
    "    ##define gaussian noise\n",
    "    mean = 0\n",
    "    var = 10 \n",
    "    sigma = var**0.5 #standard dev\n",
    "    \n",
    "    for i in range(len(image_copy)):\n",
    "        gauss = np.random.normal(mean, sigma,(image_size[0],image_size[1]))\n",
    "        gauss = gauss * g_ratio\n",
    "        image_copy[i] = image_copy[i] + gauss\n",
    "    \n",
    "    return image_copy\n",
    "  "
   ]
  },
  {
   "cell_type": "code",
   "execution_count": 32,
   "metadata": {},
   "outputs": [
    {
     "data": {
      "text/plain": [
       "<matplotlib.image.AxesImage at 0x1a8984b4130>"
      ]
     },
     "execution_count": 32,
     "metadata": {},
     "output_type": "execute_result"
    },
    {
     "data": {
      "image/png": "[encoded data removed]",
      "text/plain": [
       "<Figure size 432x288 with 1 Axes>"
      ]
     },
     "metadata": {
      "needs_background": "light"
     },
     "output_type": "display_data"
    }
   ],
   "source": [
    "# gaussion noise visualization\n",
    "mean = 0\n",
    "var = 10\n",
    "sigma = var**0.5\n",
    "gauss = np.random.normal(mean, sigma, (19,16))\n",
    "plt.imshow(gauss, cmap = \"gray\")"
   ]
  },
  {
   "cell_type": "code",
   "execution_count": 33,
   "metadata": {},
   "outputs": [],
   "source": [
    "image_size = (images[0].shape[0], images[0].shape[1])\n",
    "image_gause = gau_generation(images, image_size, g_ratio = 1)"
   ]
  },
  {
   "cell_type": "code",
   "execution_count": 34,
   "metadata": {},
   "outputs": [
    {
     "data": {
      "text/plain": [
       "(48, 42)"
      ]
     },
     "execution_count": 34,
     "metadata": {},
     "output_type": "execute_result"
    }
   ],
   "source": [
    "image_size"
   ]
  },
  {
   "cell_type": "code",
   "execution_count": 35,
   "metadata": {
    "scrolled": true
   },
   "outputs": [
    {
     "data": {
      "text/plain": [
       "<matplotlib.image.AxesImage at 0x1a8989e0220>"
      ]
     },
     "execution_count": 35,
     "metadata": {},
     "output_type": "execute_result"
    },
    {
     "data": {
      "image/png": "[encoded data removed]",
      "text/plain": [
       "<Figure size 432x288 with 1 Axes>"
      ]
     },
     "metadata": {
      "needs_background": "light"
     },
     "output_type": "display_data"
    }
   ],
   "source": [
    "plt.imshow(image_gause[10], cmap=\"gray\")"
   ]
  },
  {
   "cell_type": "code",
   "execution_count": 36,
   "metadata": {},
   "outputs": [
    {
     "data": {
      "image/png": "[encoded data removed]",
      "text/plain": [
       "<Figure size 432x288 with 2 Axes>"
      ]
     },
     "metadata": {
      "needs_background": "light"
     },
     "output_type": "display_data"
    }
   ],
   "source": [
    "##see effect of adding gaussian noise\n",
    "plt.subplot(121)\n",
    "plt.imshow(images[10], cmap=\"gray\")\n",
    "plt.title('original image')\n",
    "plt.subplot(122)\n",
    "restructured = gau_generation(images, image_size, g_ratio = 2)\n",
    "plt.imshow(image_gause[10], cmap=\"gray\")\n",
    "plt.title('gaussian noise image')\n",
    "plt.show()"
   ]
  },
  {
   "cell_type": "code",
   "execution_count": 37,
   "metadata": {},
   "outputs": [
    {
     "data": {
      "image/png": "[encoded data removed]",
      "text/plain": [
       "<Figure size 432x288 with 2 Axes>"
      ]
     },
     "metadata": {
      "needs_background": "light"
     },
     "output_type": "display_data"
    }
   ],
   "source": [
    "##comparisons of two noise effect\n",
    "plt.subplot(121)\n",
    "gau = gau_generation(images, image_size, g_ratio = 2)\n",
    "plt.imshow(image_gause[10], cmap=\"gray\")\n",
    "plt.title('gaussian noise image')\n",
    "plt.subplot(122)\n",
    "salt = salt_pepper(images, 0.1, 0.5, 48, 42)\n",
    "plt.imshow(salt_pepper_noise[10], cmap=\"gray\")\n",
    "plt.title('saltpepper noise image')\n",
    "plt.show()"
   ]
  },
  {
   "cell_type": "markdown",
   "metadata": {},
   "source": [
    "### Data Preprocessing"
   ]
  },
  {
   "cell_type": "code",
   "execution_count": 38,
   "metadata": {},
   "outputs": [
    {
     "data": {
      "text/plain": [
       "(2414, 48, 42)"
      ]
     },
     "execution_count": 38,
     "metadata": {},
     "output_type": "execute_result"
    }
   ],
   "source": [
    "np.array(images).shape"
   ]
  },
  {
   "cell_type": "code",
   "execution_count": 39,
   "metadata": {},
   "outputs": [
    {
     "data": {
      "text/plain": [
       "(2414, 48, 42)"
      ]
     },
     "execution_count": 39,
     "metadata": {},
     "output_type": "execute_result"
    }
   ],
   "source": [
    "image_faces = (images)\n",
    "image_faces = np.array(image_faces)\n",
    "image_faces.shape"
   ]
  },
  {
   "cell_type": "code",
   "execution_count": 40,
   "metadata": {},
   "outputs": [
    {
     "data": {
      "text/plain": [
       "482.8"
      ]
     },
     "execution_count": 40,
     "metadata": {},
     "output_type": "execute_result"
    }
   ],
   "source": [
    "subsample_size = image_faces.shape[0]*0.2\n",
    "subsample_size"
   ]
  },
  {
   "cell_type": "code",
   "execution_count": 41,
   "metadata": {},
   "outputs": [
    {
     "name": "stdout",
     "output_type": "stream",
     "text": [
      "image_faces_train shape: (482, 48, 42)\n",
      "n_samples size: 482\n",
      "image shape is: (48, 42)\n"
     ]
    }
   ],
   "source": [
    "# use a subsample for training\n",
    "image_faces_train = image_faces[:482,:,:]\n",
    "print(\"image_faces_train shape:\",image_faces_train.shape)\n",
    "n_samples = len(image_faces_train)\n",
    "print(\"n_samples size:\",n_samples)\n",
    "image_shape = image_faces_train[0].shape\n",
    "print(\"image shape is:\", image_shape)"
   ]
  },
  {
   "cell_type": "code",
   "execution_count": 42,
   "metadata": {},
   "outputs": [],
   "source": [
    "from random import sample"
   ]
  },
  {
   "cell_type": "code",
   "execution_count": 43,
   "metadata": {},
   "outputs": [
    {
     "data": {
      "text/plain": [
       "(482, 48, 42)"
      ]
     },
     "execution_count": 43,
     "metadata": {},
     "output_type": "execute_result"
    }
   ],
   "source": [
    "trial1 = sample(images, 482)\n",
    "np.array(trial1).shape"
   ]
  },
  {
   "cell_type": "code",
   "execution_count": 44,
   "metadata": {},
   "outputs": [
    {
     "data": {
      "text/plain": [
       "[array([[114, 107, 106, ...,   9,   6,   2],\n",
       "        [106, 107, 100, ...,  10,   7,   3],\n",
       "        [106,  90,  65, ...,  11,   9,   6],\n",
       "        ...,\n",
       "        [154, 159, 152, ...,   8,  10,   9],\n",
       "        [156, 161, 162, ...,   8,  10,  10],\n",
       "        [157, 163, 171, ...,   8,   9,  10]], dtype=uint8),\n",
       " array([[245, 196, 140, ...,   9,   9,   9],\n",
       "        [249, 209, 152, ...,   9,   9,   9],\n",
       "        [255, 219, 160, ...,   9,   9,   9],\n",
       "        ...,\n",
       "        [201, 165, 131, ...,   9,   5,   3],\n",
       "        [177, 167, 147, ...,   8,   4,   2],\n",
       "        [147, 150, 157, ...,   8,   4,   0]], dtype=uint8),\n",
       " array([[ 18,  38,  51, ..., 175, 157, 134],\n",
       "        [ 25,  45,  52, ..., 115, 140, 153],\n",
       "        [ 23,  34,  38, ...,  74,  81, 116],\n",
       "        ...,\n",
       "        [  0,   0,   2, ..., 104,  84,  74],\n",
       "        [  0,   0,   0, ...,  82,  79, 102],\n",
       "        [  0,   0,   0, ...,  77, 106,  97]], dtype=uint8),\n",
       " array([[  1,   2,   4, ..., 157,  82,  23],\n",
       "        [  3,   3,   4, ..., 122, 133,  88],\n",
       "        [  4,   3,   3, ...,  68,  93, 116],\n",
       "        ...,\n",
       "        [  0,   0,   0, ...,  48,  39,  35],\n",
       "        [  0,   0,   0, ...,  34,  33,  56],\n",
       "        [  0,   0,   0, ...,  23,  52,  57]], dtype=uint8),\n",
       " array([[236, 232, 205, ...,  38,  31,  27],\n",
       "        [201, 171, 155, ...,  29,  28,  28],\n",
       "        [177, 171, 154, ...,  14,  16,  22],\n",
       "        ...,\n",
       "        [106, 109, 108, ...,  16,  16,  16],\n",
       "        [101, 103, 108, ...,  15,  15,  15],\n",
       "        [ 92,  97, 101, ...,  15,  15,  14]], dtype=uint8),\n",
       " array([[ 1,  1,  3, ...,  2,  1,  2],\n",
       "        [ 1,  1,  3, ...,  2,  1,  1],\n",
       "        [ 1,  2,  5, ...,  1,  0,  1],\n",
       "        ...,\n",
       "        [17,  9,  0, ...,  1,  0,  1],\n",
       "        [17, 20,  4, ...,  1,  0,  4],\n",
       "        [16, 22, 13, ...,  0,  2,  8]], dtype=uint8),\n",
       " array([[185, 187, 181, ...,  14,  14,  15],\n",
       "        [178, 180, 171, ...,  13,  13,  15],\n",
       "        [166, 166, 153, ...,  13,  14,  14],\n",
       "        ...,\n",
       "        [189, 201, 221, ...,  13,  12,  12],\n",
       "        [186, 195, 213, ...,  13,  12,  13],\n",
       "        [180, 204, 216, ...,  12,  11,  13]], dtype=uint8),\n",
       " array([[ 99,  81,  85, ...,  60,  44,  56],\n",
       "        [102,  90,  95, ...,  53,  40,  47],\n",
       "        [ 98, 103, 108, ...,  44,  30,  37],\n",
       "        ...,\n",
       "        [ 60,  67,  68, ...,  62,  61,  60],\n",
       "        [ 51,  59,  62, ...,  57,  52,  51],\n",
       "        [ 42,  51,  54, ...,  49,  45,  42]], dtype=uint8),\n",
       " array([[  5,   5,   7, ..., 122,  79,  64],\n",
       "        [  4,   4,   7, ..., 104,  72,  63],\n",
       "        [  4,   4,   6, ...,  80,  72,  65],\n",
       "        ...,\n",
       "        [  5,   5,   5, ..., 165, 159, 158],\n",
       "        [  5,   5,   5, ..., 165, 153, 150],\n",
       "        [  5,   5,   5, ..., 157, 153, 151]], dtype=uint8),\n",
       " array([[120, 127, 109, ...,  74,  76,  50],\n",
       "        [123, 131, 121, ...,  68,  65,  47],\n",
       "        [126, 124, 125, ...,  62,  57,  43],\n",
       "        ...,\n",
       "        [108, 121, 125, ...,  54,  53,  53],\n",
       "        [102, 114, 119, ...,  52,  50,  48],\n",
       "        [ 96, 108, 113, ...,  47,  47,  44]], dtype=uint8),\n",
       " array([[25, 71, 92, ...,  4,  9, 12],\n",
       "        [30, 80, 95, ...,  3,  6,  9],\n",
       "        [42, 87, 95, ...,  4,  4,  8],\n",
       "        ...,\n",
       "        [33, 21, 14, ...,  9, 13,  9],\n",
       "        [33, 24, 15, ...,  6, 13, 13],\n",
       "        [28, 25, 18, ...,  6, 10, 11]], dtype=uint8),\n",
       " array([[  4,   4,   4, ...,  89,  82,  73],\n",
       "        [  4,   4,   4, ...,  96,  84,  78],\n",
       "        [  4,   4,   4, ...,  99,  91,  86],\n",
       "        ...,\n",
       "        [  3,   3,   3, ..., 154, 137, 124],\n",
       "        [  2,   3,   3, ..., 145, 129, 112],\n",
       "        [  2,   2,   3, ..., 131, 124, 106]], dtype=uint8),\n",
       " array([[ 23,  20,  20, ...,  96, 118, 115],\n",
       "        [ 18,  16,  14, ...,  65,  88, 105],\n",
       "        [  9,   8,   8, ...,  30,  40,  58],\n",
       "        ...,\n",
       "        [  7,   6,   5, ...,  13,  13,  12],\n",
       "        [  7,   6,   5, ...,  13,  11,  12],\n",
       "        [  7,   7,   5, ...,  11,   9,  12]], dtype=uint8),\n",
       " array([[  5,   7,  17, ..., 250, 249, 240],\n",
       "        [  4,   7,  16, ..., 250, 245, 241],\n",
       "        [  4,   6,  16, ..., 230, 236, 230],\n",
       "        ...,\n",
       "        [  7,   5,   6, ..., 193, 189, 185],\n",
       "        [  7,   6,   6, ..., 186, 184, 185],\n",
       "        [  6,   6,   6, ..., 177, 172, 179]], dtype=uint8),\n",
       " array([[  3,   3,   2, ..., 165, 168, 173],\n",
       "        [  3,   3,   3, ..., 161, 164, 169],\n",
       "        [  3,   3,   3, ..., 159, 158, 165],\n",
       "        ...,\n",
       "        [  8,   7,   6, ..., 163, 158, 170],\n",
       "        [  7,   8,   7, ..., 157, 163, 173],\n",
       "        [  5,   8,   8, ..., 157, 168, 168]], dtype=uint8),\n",
       " array([[10,  4,  5, ..., 21, 17, 13],\n",
       "        [38, 13,  6, ..., 20, 17, 13],\n",
       "        [68, 57, 30, ..., 23, 17, 13],\n",
       "        ...,\n",
       "        [11, 16, 15, ..., 10, 10,  9],\n",
       "        [11, 13, 12, ..., 10,  9,  8],\n",
       "        [11, 12, 10, ..., 10,  8,  9]], dtype=uint8),\n",
       " array([[147, 153, 140, ...,  18,  53,  13],\n",
       "        [150, 154, 147, ...,  23,  53,  13],\n",
       "        [151, 145, 142, ...,  25,  50,  16],\n",
       "        ...,\n",
       "        [151, 159, 161, ...,   8,   8,   8],\n",
       "        [146, 152, 152, ...,   8,   7,   8],\n",
       "        [141, 146, 147, ...,   8,   8,   8]], dtype=uint8),\n",
       " array([[ 57,  67,  51, ...,  73,  62,  52],\n",
       "        [ 63,  66,  61, ...,  73,  65,  59],\n",
       "        [ 64,  61,  72, ...,  74,  68,  65],\n",
       "        ...,\n",
       "        [  3,  13, 106, ..., 194, 255, 241],\n",
       "        [121, 142, 207, ..., 169, 255, 255],\n",
       "        [250, 243, 221, ..., 125, 253, 255]], dtype=uint8),\n",
       " array([[ 2,  3,  2, ..., 42, 47, 54],\n",
       "        [ 2,  3,  2, ..., 44, 46, 51],\n",
       "        [ 3,  2,  2, ..., 47, 45, 48],\n",
       "        ...,\n",
       "        [ 4,  4,  5, ..., 22, 25, 24],\n",
       "        [ 3,  4,  5, ..., 28, 26, 17],\n",
       "        [ 3,  3,  4, ..., 27, 19, 16]], dtype=uint8),\n",
       " array([[43, 73, 88, ..., 19, 24, 20],\n",
       "        [49, 80, 91, ..., 16, 23, 25],\n",
       "        [55, 83, 90, ..., 16, 24, 28],\n",
       "        ...,\n",
       "        [20, 17, 15, ..., 28, 27, 21],\n",
       "        [22, 19, 16, ..., 21, 22, 18],\n",
       "        [24, 21, 15, ..., 19, 27, 19]], dtype=uint8),\n",
       " array([[128, 126, 127, ...,  12,  12,  11],\n",
       "        [138, 133, 133, ...,  12,  12,  10],\n",
       "        [142, 135, 127, ...,  12,  12,  10],\n",
       "        ...,\n",
       "        [136, 160, 172, ...,  12,  13,   3],\n",
       "        [154, 144, 171, ...,  13,  13,   3],\n",
       "        [169, 150, 155, ...,  13,  13,   3]], dtype=uint8),\n",
       " array([[ 0,  0,  2, ...,  8,  6,  3],\n",
       "        [ 0,  0,  2, ..., 10,  9,  6],\n",
       "        [ 0,  0,  1, ..., 12, 13, 11],\n",
       "        ...,\n",
       "        [ 0,  1,  5, ...,  0,  2,  8],\n",
       "        [ 0,  1,  6, ...,  3,  6,  7],\n",
       "        [ 0,  2,  6, ..., 12, 17, 16]], dtype=uint8),\n",
       " array([[122,  94,  94, ...,  25,  32,  26],\n",
       "        [ 74,  66,  58, ...,  15,  20,  22],\n",
       "        [ 40,  47,  50, ...,   7,   7,  10],\n",
       "        ...,\n",
       "        [ 69,  76,  78, ...,   9,  10,  10],\n",
       "        [ 51,  68,  77, ...,   9,   9,  10],\n",
       "        [ 70,  49,  63, ...,   8,   9,  10]], dtype=uint8),\n",
       " array([[  4,   3,   4, ...,  76,  66,  55],\n",
       "        [  3,   4,   4, ...,  66,  75,  68],\n",
       "        [  3,   3,   5, ...,  60,  81,  90],\n",
       "        ...,\n",
       "        [  5,   5,   5, ..., 164, 163, 163],\n",
       "        [  5,   5,   5, ..., 157, 149, 150],\n",
       "        [  4,   4,   4, ..., 146, 141, 137]], dtype=uint8),\n",
       " array([[80, 87, 94, ..., 85, 79, 76],\n",
       "        [81, 85, 93, ..., 82, 79, 78],\n",
       "        [80, 84, 95, ..., 84, 77, 76],\n",
       "        ...,\n",
       "        [33, 44, 53, ..., 43, 33, 25],\n",
       "        [25, 37, 47, ..., 39, 30, 22],\n",
       "        [19, 29, 41, ..., 35, 25, 22]], dtype=uint8),\n",
       " array([[126, 139, 142, ..., 108,  91,  78],\n",
       "        [126, 143, 146, ..., 105,  91,  76],\n",
       "        [129, 145, 144, ..., 103,  89,  78],\n",
       "        ...,\n",
       "        [ 23,  23,  41, ...,  45,  34,  21],\n",
       "        [ 45,  17,  26, ...,  37,  28,  16],\n",
       "        [ 56,  32,  17, ...,  29,  20,  17]], dtype=uint8),\n",
       " array([[ 1,  1,  1, ..., 82, 74, 69],\n",
       "        [ 1,  1,  2, ..., 85, 78, 73],\n",
       "        [ 1,  1,  1, ..., 85, 85, 78],\n",
       "        ...,\n",
       "        [ 4,  6, 12, ...,  1,  2,  0],\n",
       "        [ 7,  8, 10, ...,  0,  1,  0],\n",
       "        [11, 11, 12, ...,  0,  0,  0]], dtype=uint8),\n",
       " array([[172, 188, 194, ..., 135, 122, 111],\n",
       "        [165, 182, 194, ..., 131, 121, 105],\n",
       "        [158, 180, 191, ..., 131, 112,  95],\n",
       "        ...,\n",
       "        [ 97, 113, 123, ...,  53,  58,  65],\n",
       "        [ 87, 108, 117, ...,  54,  60,  71],\n",
       "        [ 80, 105, 117, ...,  56,  65,  73]], dtype=uint8),\n",
       " array([[  3,   3,   3, ..., 247, 248, 186],\n",
       "        [  3,   3,   3, ..., 138, 239, 224],\n",
       "        [  3,   3,   1, ...,  52, 144, 228],\n",
       "        ...,\n",
       "        [  2,   2,   2, ...,  33,  39,  38],\n",
       "        [  2,   2,   2, ...,  34,  36,  40],\n",
       "        [  2,   2,   2, ...,  30,  37,  42]], dtype=uint8),\n",
       " array([[200, 207, 205, ...,   9,  10,   9],\n",
       "        [194, 198, 202, ...,   9,  10,  10],\n",
       "        [194, 198, 201, ...,   9,  10,  10],\n",
       "        ...,\n",
       "        [123, 123, 131, ...,  10,   9,   9],\n",
       "        [118, 125, 132, ...,   9,   8,   8],\n",
       "        [114, 121, 135, ...,   8,   8,   8]], dtype=uint8),\n",
       " array([[  2,   3,   4, ..., 148, 154, 161],\n",
       "        [  2,   3,   5, ..., 105, 130, 153],\n",
       "        [  3,   2,   2, ...,  75,  90, 116],\n",
       "        ...,\n",
       "        [  4,   4,   4, ..., 165, 158, 146],\n",
       "        [  4,   4,   4, ..., 154, 149, 138],\n",
       "        [  4,   4,   4, ..., 148, 141, 132]], dtype=uint8),\n",
       " array([[ 17,  26,  32, ..., 137, 123, 117],\n",
       "        [ 15,  22,  28, ..., 131, 128, 123],\n",
       "        [ 10,  17,  26, ..., 128, 122, 115],\n",
       "        ...,\n",
       "        [  4,   4,   5, ...,  24,  26,  19],\n",
       "        [  4,   4,   4, ...,  21,  19,  12],\n",
       "        [  5,   4,   5, ...,  21,  12,  11]], dtype=uint8),\n",
       " array([[182, 193, 201, ...,  15,  16,  17],\n",
       "        [183, 191, 200, ...,  15,  16,  16],\n",
       "        [183, 188, 201, ...,  16,  15,  14],\n",
       "        ...,\n",
       "        [ 69,  65,  59, ...,  13,  13,  11],\n",
       "        [ 85,  55,  55, ...,  12,  12,  10],\n",
       "        [107,  66,  46, ...,  12,  11,  10]], dtype=uint8),\n",
       " array([[  2,   2,   2, ..., 155, 157, 150],\n",
       "        [  2,   2,   2, ..., 152, 155, 150],\n",
       "        [  2,   2,   2, ..., 145, 150, 151],\n",
       "        ...,\n",
       "        [  4,   3,   4, ...,  69,  59,  51],\n",
       "        [  3,   4,   4, ...,  58,  47,  62],\n",
       "        [  3,   4,   3, ...,  42,  52,  81]], dtype=uint8),\n",
       " array([[136, 147, 168, ...,  24,   1,   0],\n",
       "        [139, 146, 155, ...,  32,   8,   0],\n",
       "        [131, 125,  90, ...,  34,  12,   0],\n",
       "        ...,\n",
       "        [  2,   0,  54, ...,   9,   8,   9],\n",
       "        [  1,   0,  44, ...,   9,   9,   9],\n",
       "        [  1,   0,  35, ...,   8,   8,   9]], dtype=uint8),\n",
       " array([[ 58,  59,  55, ...,  62,  79,  74],\n",
       "        [ 57,  48,  43, ...,  66,  67,  66],\n",
       "        [ 50,  43,  62, ..., 116,  95,  76],\n",
       "        ...,\n",
       "        [ 46,  54,  61, ...,  98,  94,  88],\n",
       "        [ 36,  48,  55, ...,  94,  88,  81],\n",
       "        [ 26,  39,  47, ...,  90,  84,  77]], dtype=uint8),\n",
       " array([[ 85,  96, 103, ...,  24,  18,  14],\n",
       "        [ 83,  93,  96, ...,  19,  16,  13],\n",
       "        [ 75,  73,  60, ...,  16,  14,  12],\n",
       "        ...,\n",
       "        [ 51,  46,  73, ...,  55,  45,  26],\n",
       "        [ 59,  46,  60, ...,  46,  31,  17],\n",
       "        [ 62,  61,  59, ...,  37,  25,  17]], dtype=uint8),\n",
       " array([[ 49,  40,  26, ...,  10,   9,   6],\n",
       "        [137,  82,  43, ...,   5,   8,   9],\n",
       "        [192,  91,  34, ...,   3,   4,   8],\n",
       "        ...,\n",
       "        [  0,   0,   4, ...,   9,   7,   4],\n",
       "        [  0,   0,   0, ...,   7,   4,   2],\n",
       "        [  0,   0,   0, ...,   5,   3,   1]], dtype=uint8),\n",
       " array([[  6,   7,   7, ..., 255, 250, 144],\n",
       "        [  6,   7,   7, ..., 255, 255, 228],\n",
       "        [  6,   7,   7, ..., 255, 255, 251],\n",
       "        ...,\n",
       "        [  2,   2,   3, ...,  32,  59,  86],\n",
       "        [  2,   2,   2, ...,  36,  71,  82],\n",
       "        [  3,   2,   2, ...,  47,  60,  65]], dtype=uint8),\n",
       " array([[  8,  11,  20, ...,  91,  87,  83],\n",
       "        [  9,  11,  21, ...,  98,  84,  85],\n",
       "        [  8,  11,  17, ...,  95,  87,  79],\n",
       "        ...,\n",
       "        [120, 113,  25, ...,  70,  53,  55],\n",
       "        [117, 124,  43, ...,  57,  54,  61],\n",
       "        [124, 135,  58, ...,  54,  66,  64]], dtype=uint8),\n",
       " array([[  7,   7,   6, ..., 114, 144, 175],\n",
       "        [  7,   6,   6, ..., 112, 144, 179],\n",
       "        [  6,   7,   7, ...,  98, 140, 181],\n",
       "        ...,\n",
       "        [  3,   3,   3, ..., 164, 161, 134],\n",
       "        [  4,   3,   3, ..., 151, 133, 104],\n",
       "        [  4,   3,   4, ..., 133, 122, 136]], dtype=uint8),\n",
       " array([[183, 185, 190, ...,  12,  12,  11],\n",
       "        [186, 191, 193, ...,  12,  12,  10],\n",
       "        [181, 187, 189, ...,  12,  12,  11],\n",
       "        ...,\n",
       "        [117, 137, 149, ...,  16,  16,   4],\n",
       "        [141, 119, 142, ...,  17,  16,   5],\n",
       "        [167, 130, 122, ...,  17,  16,   4]], dtype=uint8),\n",
       " array([[ 20,  78,  96, ...,   0,   1,   1],\n",
       "        [ 35,  86,  96, ...,   0,   0,   1],\n",
       "        [ 50,  90, 100, ...,   0,   0,   1],\n",
       "        ...,\n",
       "        [  0,   0,   0, ...,   0,   0,   0],\n",
       "        [  1,   0,   0, ...,   0,   0,   0],\n",
       "        [  1,   0,   0, ...,   0,   0,   0]], dtype=uint8),\n",
       " array([[  5,   5,   5, ..., 243, 229, 219],\n",
       "        [  5,   5,   4, ..., 241, 227, 213],\n",
       "        [  5,   5,   5, ..., 229, 226, 215],\n",
       "        ...,\n",
       "        [  4,   4,   5, ..., 137, 138, 106],\n",
       "        [  5,   4,   4, ..., 129, 110,  82],\n",
       "        [  5,   4,   4, ..., 109, 100, 111]], dtype=uint8),\n",
       " array([[20, 19, 13, ...,  0,  0,  0],\n",
       "        [11, 11,  8, ...,  0,  0,  0],\n",
       "        [ 8,  9,  8, ...,  0,  0,  0],\n",
       "        ...,\n",
       "        [ 8,  1,  0, ...,  0,  0,  0],\n",
       "        [ 7,  4,  0, ...,  0,  0,  0],\n",
       "        [ 6,  6,  0, ...,  0,  0,  0]], dtype=uint8),\n",
       " array([[ 65,  95, 106, ...,  98,  82,  67],\n",
       "        [ 90, 105, 108, ...,  60,  66,  70],\n",
       "        [ 93,  92,  83, ...,  41,  41,  47],\n",
       "        ...,\n",
       "        [  9,   9,  20, ..., 103,  84,  64],\n",
       "        [  9,  14,  12, ...,  87,  69,  62],\n",
       "        [  6,  14,  15, ...,  75,  80,  69]], dtype=uint8),\n",
       " array([[  2,   2,   2, ..., 102, 110, 116],\n",
       "        [  2,   1,   1, ...,  96, 102, 111],\n",
       "        [  1,   0,   0, ...,  75,  92, 108],\n",
       "        ...,\n",
       "        [  1,   1,   0, ..., 127, 144, 134],\n",
       "        [  2,   1,   1, ..., 139, 142, 135],\n",
       "        [  2,   2,   2, ..., 138, 139, 133]], dtype=uint8),\n",
       " array([[ 43,  44,  47, ..., 138, 128, 124],\n",
       "        [ 42,  43,  48, ..., 139, 131, 125],\n",
       "        [ 43,  46,  51, ..., 140, 130, 123],\n",
       "        ...,\n",
       "        [  8,   8,   8, ...,  63,  57,  49],\n",
       "        [  6,   9,   8, ...,  58,  50,  59],\n",
       "        [  4,   6,   9, ...,  49,  61,  66]], dtype=uint8),\n",
       " array([[131, 132, 128, ...,  13,  12,   9],\n",
       "        [138, 137, 136, ...,  13,  12,   9],\n",
       "        [143, 131, 134, ...,  12,  12,   8],\n",
       "        ...,\n",
       "        [179, 194, 200, ...,  13,  12,   1],\n",
       "        [169, 188, 196, ...,  13,  12,   1],\n",
       "        [192, 176, 189, ...,  14,  11,   1]], dtype=uint8),\n",
       " array([[  5,   5,   5, ..., 166, 164, 155],\n",
       "        [  6,   5,   5, ..., 176, 171, 165],\n",
       "        [  6,   6,   5, ..., 172, 175, 174],\n",
       "        ...,\n",
       "        [  6,   7,   9, ...,  71,  74, 100],\n",
       "        [  6,   7,   7, ...,  66,  89, 109],\n",
       "        [  6,   6,   7, ...,  75,  99, 114]], dtype=uint8),\n",
       " array([[ 77, 129, 165, ...,   7,   5,   2],\n",
       "        [ 98, 144, 167, ...,   7,   6,   3],\n",
       "        [132, 159, 174, ...,   9,   7,   6],\n",
       "        ...,\n",
       "        [118,  94,  88, ...,  12,  20,  45],\n",
       "        [141, 105,  89, ...,  13,  23,  45],\n",
       "        [162, 126,  94, ...,  12,  22,  33]], dtype=uint8),\n",
       " array([[69, 76, 82, ..., 12,  2,  3],\n",
       "        [72, 69, 62, ..., 12,  4,  1],\n",
       "        [64, 44, 31, ...,  9,  5,  1],\n",
       "        ...,\n",
       "        [ 2,  1, 62, ...,  9, 26, 38],\n",
       "        [ 2,  0, 51, ..., 28, 46, 41],\n",
       "        [ 2,  0, 43, ..., 46, 50, 41]], dtype=uint8),\n",
       " array([[  3,   4,   3, ...,  48,  40,  30],\n",
       "        [  4,   4,   4, ...,  62,  49,  35],\n",
       "        [  4,   4,   4, ...,  57,  59,  51],\n",
       "        ...,\n",
       "        [  5,   5,   4, ..., 118, 118, 117],\n",
       "        [  5,   4,   4, ..., 107, 102, 100],\n",
       "        [  4,   4,   4, ...,  94,  88,  82]], dtype=uint8),\n",
       " array([[  3,   3,   3, ...,  88,  97,  99],\n",
       "        [  3,   3,   4, ...,  84,  93,  97],\n",
       "        [  3,   3,   4, ...,  82,  92,  97],\n",
       "        ...,\n",
       "        [  3,   3,   2, ..., 182, 178, 180],\n",
       "        [  3,   3,   2, ..., 173, 173, 174],\n",
       "        [  2,   3,   2, ..., 170, 166, 163]], dtype=uint8),\n",
       " array([[ 14,  16,  26, ...,  76,  72,  68],\n",
       "        [ 15,  17,  27, ...,  79,  68,  70],\n",
       "        [ 12,  16,  21, ...,  76,  70,  65],\n",
       "        ...,\n",
       "        [117, 105,  25, ...,  64,  47,  48],\n",
       "        [116, 114,  38, ...,  51,  48,  53],\n",
       "        [115, 116,  50, ...,  48,  57,  54]], dtype=uint8),\n",
       " array([[142, 113,  90, ...,  16,  20,  26],\n",
       "        [111,  84,  78, ...,  14,  16,  23],\n",
       "        [ 90,  97, 114, ...,  15,  15,  18],\n",
       "        ...,\n",
       "        [214, 219, 221, ...,  16,  16,  16],\n",
       "        [208, 209, 216, ...,  15,  15,  15],\n",
       "        [206, 204, 204, ...,  14,  15,  15]], dtype=uint8),\n",
       " array([[111, 129, 131, ...,  44,  41,  32],\n",
       "        [107, 110,  90, ...,  28,  35,  31],\n",
       "        [ 90,  74,  46, ...,  16,  24,  26],\n",
       "        ...,\n",
       "        [ 30,  31,  34, ...,  22,  23,  24],\n",
       "        [ 29,  28,  28, ...,  23,  25,  25],\n",
       "        [ 33,  31,  28, ...,  24,  25,  26]], dtype=uint8),\n",
       " array([[ 2,  4,  7, ..., 18, 33, 16],\n",
       "        [ 3,  6, 10, ..., 19, 36, 17],\n",
       "        [ 7, 10, 14, ..., 20, 35, 19],\n",
       "        ...,\n",
       "        [ 2,  2,  3, ...,  8,  8,  9],\n",
       "        [ 2,  2,  3, ...,  8,  9,  9],\n",
       "        [ 1,  2,  2, ...,  9,  8,  8]], dtype=uint8),\n",
       " array([[246, 247, 243, ...,  10,  10,   9],\n",
       "        [231, 230, 239, ...,  11,  11,  10],\n",
       "        [223, 220, 236, ...,  11,  10,  11],\n",
       "        ...,\n",
       "        [139, 137, 144, ...,  10,   9,   9],\n",
       "        [135, 141, 145, ...,   9,   8,   7],\n",
       "        [131, 138, 150, ...,   8,   8,   7]], dtype=uint8),\n",
       " array([[ 73,  73,  73, ...,  11,  11,  11],\n",
       "        [ 76,  76,  74, ...,  11,  11,  11],\n",
       "        [ 76,  77,  72, ...,  11,  11,  11],\n",
       "        ...,\n",
       "        [ 95, 115, 125, ...,   9,  12,   7],\n",
       "        [ 92, 109, 116, ...,  11,  14,   5],\n",
       "        [ 91, 111, 116, ...,  12,  14,   4]], dtype=uint8),\n",
       " array([[ 36,  42,  56, ...,  62,  55,  51],\n",
       "        [ 41,  46,  65, ...,  68,  54,  53],\n",
       "        [ 39,  50,  66, ...,  69,  58,  49],\n",
       "        ...,\n",
       "        [133, 121,  29, ...,  24,  11,   6],\n",
       "        [131, 129,  45, ...,  14,   6,   6],\n",
       "        [131, 133,  59, ...,   7,   6,   7]], dtype=uint8),\n",
       " array([[ 50,  65,  77, ..., 186, 176, 161],\n",
       "        [ 48,  62,  75, ..., 176, 171, 160],\n",
       "        [ 45,  57,  70, ..., 175, 172, 158],\n",
       "        ...,\n",
       "        [  7,  10,  10, ..., 106,  69,   6],\n",
       "        [  7,   8,  10, ..., 115,  62,   3],\n",
       "        [  6,   7,   8, ..., 113,  56,   1]], dtype=uint8),\n",
       " array([[141, 149, 160, ...,   8,   7,   7],\n",
       "        [148, 155, 166, ...,   8,   8,   8],\n",
       "        [158, 166, 177, ...,   8,   7,   7],\n",
       "        ...,\n",
       "        [ 69,  72,  71, ...,  10,  11,   9],\n",
       "        [ 85,  65,  68, ...,  11,  10,   9],\n",
       "        [101,  74,  60, ...,  10,   9,   9]], dtype=uint8),\n",
       " array([[ 42,  42,  46, ..., 108,  97,  86],\n",
       "        [ 40,  41,  45, ..., 107,  98,  88],\n",
       "        [ 39,  40,  43, ..., 105,  93,  87],\n",
       "        ...,\n",
       "        [  3,   3,   4, ...,   9,   5,   6],\n",
       "        [  3,   3,   4, ...,   5,   5,   5],\n",
       "        [  3,   3,   4, ...,   4,   5,   6]], dtype=uint8),\n",
       " array([[113, 119, 120, ...,  50,  29,  17],\n",
       "        [103, 110, 118, ...,  51,  37,  26],\n",
       "        [ 98, 105, 118, ...,  49,  39,  27],\n",
       "        ...,\n",
       "        [ 14,  16,  12, ...,  11,   9,   9],\n",
       "        [ 13,  17,  14, ...,  10,   9,   8],\n",
       "        [ 11,  15,  20, ...,   9,   8,   8]], dtype=uint8),\n",
       " array([[  9,  15,  22, ..., 168, 151, 136],\n",
       "        [  8,  15,  19, ..., 170, 157, 141],\n",
       "        [  8,  12,  15, ..., 172, 161, 146],\n",
       "        ...,\n",
       "        [  5,   5,   7, ..., 134, 124, 112],\n",
       "        [  5,   6,   6, ..., 129, 112,  93],\n",
       "        [  5,   5,   6, ..., 120, 102,  86]], dtype=uint8),\n",
       " array([[  2,   3,   3, ...,  16,  16,  21],\n",
       "        [  2,   3,   3, ...,  14,  16,  23],\n",
       "        [  3,   3,   2, ...,  16,  16,  22],\n",
       "        ...,\n",
       "        [  1,   4,  18, ...,   5,   3,   6],\n",
       "        [  1,   3,  17, ...,  22,  12,   5],\n",
       "        [  0,   4,  17, ...,  73, 137, 121]], dtype=uint8),\n",
       " array([[136, 141, 140, ...,  62,  52,  46],\n",
       "        [141, 135, 127, ...,  56,  46,  42],\n",
       "        [133, 120, 123, ...,  45,  42,  38],\n",
       "        ...,\n",
       "        [155, 152, 130, ...,  23,  27,  46],\n",
       "        [153, 159, 154, ...,  24,  29,  42],\n",
       "        [155, 165, 167, ...,  36,  35,  42]], dtype=uint8),\n",
       " array([[153, 155, 143, ...,   5,   2,   2],\n",
       "        [157, 152, 146, ...,   5,   7,   4],\n",
       "        [154, 138, 127, ...,   3,  32,  12],\n",
       "        ...,\n",
       "        [220, 229, 226, ...,   8,   8,   8],\n",
       "        [220, 223, 221, ...,   8,   8,   7],\n",
       "        [221, 222, 220, ...,   8,   7,   7]], dtype=uint8),\n",
       " array([[199, 216, 235, ...,  92,  82,  65],\n",
       "        [186, 207, 230, ...,  97,  83,  68],\n",
       "        [183, 201, 231, ...,  98,  88,  71],\n",
       "        ...,\n",
       "        [ 97, 103, 113, ...,  13,  12,  11],\n",
       "        [ 83,  94, 110, ...,  13,  12,  11],\n",
       "        [ 52,  90, 109, ...,  12,  11,  11]], dtype=uint8),\n",
       " array([[  2,   2,   2, ..., 147, 142, 145],\n",
       "        [  2,   2,   1, ..., 145, 139, 138],\n",
       "        [  2,   1,   0, ..., 107, 123, 129],\n",
       "        ...,\n",
       "        [  3,   2,   1, ...,  90, 158, 169],\n",
       "        [  3,   1,   1, ..., 144, 166, 164],\n",
       "        [  3,   1,   2, ..., 162, 165, 162]], dtype=uint8),\n",
       " array([[  6,   6,   7, ...,  13,  13,  13],\n",
       "        [ 17,  30,  41, ...,  14,  13,  13],\n",
       "        [ 47, 100,  70, ...,  15,  14,  13],\n",
       "        ...,\n",
       "        [ 44,  33,  25, ...,   8,   8,   8],\n",
       "        [ 57,  36,  23, ...,   8,   8,   9],\n",
       "        [ 78,  45,  27, ...,   7,   9,  11]], dtype=uint8),\n",
       " array([[11,  6,  5, ..., 12, 12, 14],\n",
       "        [15,  4,  4, ..., 12, 12, 13],\n",
       "        [23,  6,  4, ..., 11, 13, 12],\n",
       "        ...,\n",
       "        [ 8, 13, 33, ...,  2,  0,  1],\n",
       "        [ 5, 11, 53, ...,  5,  2,  2],\n",
       "        [ 5, 21, 68, ..., 13, 13, 12]], dtype=uint8),\n",
       " array([[131, 141, 147, ...,   9,   9,   9],\n",
       "        [134, 141, 150, ...,  10,   9,   9],\n",
       "        [134, 143, 152, ...,  11,  10,  10],\n",
       "        ...,\n",
       "        [137, 129, 116, ...,  13,  15,  13],\n",
       "        [140, 141, 130, ...,  15,  15,  12],\n",
       "        [146, 149, 144, ...,  16,  13,  12]], dtype=uint8),\n",
       " array([[159, 148, 119, ...,  17,  16,  17],\n",
       "        [153, 121,  99, ...,  19,  18,  17],\n",
       "        [127, 107, 136, ...,  34,  26,  20],\n",
       "        ...,\n",
       "        [165, 177, 180, ...,  16,  16,  16],\n",
       "        [155, 168, 174, ...,  15,  15,  15],\n",
       "        [142, 154, 163, ...,  15,  14,  14]], dtype=uint8),\n",
       " array([[  2,   0,   0, ..., 191, 215, 228],\n",
       "        [  1,   0,   1, ..., 198, 248, 249],\n",
       "        [  1,   1,   0, ..., 175, 255, 244],\n",
       "        ...,\n",
       "        [  0,   5,   3, ...,   1,   0,   0],\n",
       "        [  0,   5,   3, ...,   1,   0,   0],\n",
       "        [  0,   5,   3, ...,   1,   0,   0]], dtype=uint8),\n",
       " array([[  3,   3,   3, ..., 202, 188, 171],\n",
       "        [  3,   3,   3, ..., 185, 165, 145],\n",
       "        [  3,   2,   3, ..., 158, 143, 124],\n",
       "        ...,\n",
       "        [  5,   5,   4, ..., 124, 141,  24],\n",
       "        [  4,   5,   4, ..., 133, 141,  22],\n",
       "        [  4,   4,   5, ..., 141, 138,  17]], dtype=uint8),\n",
       " array([[222, 240, 252, ...,  12,  12,  13],\n",
       "        [211, 236, 250, ...,  11,  12,  13],\n",
       "        [207, 236, 254, ...,  11,  11,  12],\n",
       "        ...,\n",
       "        [105,  97, 101, ...,  13,  13,  12],\n",
       "        [ 97,  93, 100, ...,  13,  12,  13],\n",
       "        [ 86,  96, 101, ...,  12,  11,  12]], dtype=uint8),\n",
       " array([[  1,   2,   2, ..., 107, 109, 115],\n",
       "        [  2,   1,   1, ..., 105, 108, 111],\n",
       "        [  1,   1,   1, ..., 103, 107, 112],\n",
       "        ...,\n",
       "        [  3,   4,   6, ..., 171, 168, 162],\n",
       "        [  3,   2,   4, ..., 165, 164, 158],\n",
       "        [  2,   2,   2, ..., 167, 166, 156]], dtype=uint8),\n",
       " array([[ 99, 110, 129, ...,  33,  28,  18],\n",
       "        [ 97, 111, 130, ...,  32,  26,  19],\n",
       "        [ 96,  96,  94, ...,  34,  25,  21],\n",
       "        ...,\n",
       "        [117, 114,  91, ...,   9,   9,   9],\n",
       "        [119, 121, 103, ...,   9,   9,   9],\n",
       "        [121, 125, 115, ...,   8,   9,   9]], dtype=uint8),\n",
       " array([[107, 140, 149, ...,  93,  75,  57],\n",
       "        [137, 150, 145, ...,  51,  58,  60],\n",
       "        [132, 119, 105, ...,  44,  38,  40],\n",
       "        ...,\n",
       "        [ 13,  16,  22, ...,  47,  33,  16],\n",
       "        [ 11,  15,  14, ...,  34,  18,   6],\n",
       "        [  8,  13,  11, ...,  17,   8,   6]], dtype=uint8),\n",
       " array([[2, 3, 3, ..., 6, 6, 7],\n",
       "        [3, 3, 3, ..., 5, 7, 7],\n",
       "        [3, 3, 3, ..., 6, 6, 6],\n",
       "        ...,\n",
       "        [2, 2, 2, ..., 2, 6, 6],\n",
       "        [2, 1, 2, ..., 5, 6, 6],\n",
       "        [2, 2, 2, ..., 5, 6, 7]], dtype=uint8),\n",
       " array([[  2,   2,   2, ...,  88,  88,  80],\n",
       "        [  2,   2,   2, ...,  87,  86,  80],\n",
       "        [  2,   3,   2, ...,  83,  84,  81],\n",
       "        ...,\n",
       "        [  4,  11,  14, ..., 138, 134, 127],\n",
       "        [  3,   7,  11, ..., 141, 127, 117],\n",
       "        [  1,   2,   5, ..., 131, 118, 106]], dtype=uint8),\n",
       " array([[255, 255, 255, ...,  14,  12,   9],\n",
       "        [255, 255, 255, ...,  13,  12,   9],\n",
       "        [255, 255, 255, ...,  14,  13,  11],\n",
       "        ...,\n",
       "        [154, 115, 101, ...,  10,  12,   5],\n",
       "        [141, 121, 104, ...,  11,  13,   4],\n",
       "        [145, 124, 109, ...,  11,  12,   5]], dtype=uint8),\n",
       " array([[76, 80, 86, ..., 96, 87, 80],\n",
       "        [77, 81, 87, ..., 97, 89, 82],\n",
       "        [79, 84, 87, ..., 99, 90, 83],\n",
       "        ...,\n",
       "        [10, 16, 21, ..., 18, 15, 10],\n",
       "        [ 9, 11, 15, ..., 14, 10,  9],\n",
       "        [ 4,  9, 10, ..., 10,  8,  9]], dtype=uint8),\n",
       " array([[70, 74, 79, ..., 62, 49, 36],\n",
       "        [70, 76, 83, ..., 63, 50, 38],\n",
       "        [73, 80, 88, ..., 70, 54, 39],\n",
       "        ...,\n",
       "        [ 3,  3,  4, ...,  4,  6,  5],\n",
       "        [ 3,  3,  3, ...,  7,  7,  6],\n",
       "        [ 2,  3,  3, ...,  8,  8,  8]], dtype=uint8),\n",
       " array([[214, 241, 244, ...,  10,  11,  10],\n",
       "        [211, 239, 245, ...,  10,  10,  10],\n",
       "        [206, 224, 230, ...,   9,  10,  11],\n",
       "        ...,\n",
       "        [104,  98,  99, ...,   8,   8,   8],\n",
       "        [ 87,  90,  90, ...,   8,   7,   7],\n",
       "        [ 82,  80,  84, ...,   6,   6,   8]], dtype=uint8),\n",
       " array([[84, 77, 69, ...,  4,  7,  8],\n",
       "        [74, 67, 54, ...,  2,  3,  6],\n",
       "        [47, 38, 25, ...,  1,  1,  3],\n",
       "        ...,\n",
       "        [ 9,  7,  7, ...,  7,  8, 12],\n",
       "        [10,  8,  7, ...,  7, 10, 12],\n",
       "        [23, 10,  8, ...,  9, 10, 12]], dtype=uint8),\n",
       " array([[115, 144, 160, ...,  14,  10,   8],\n",
       "        [151, 166, 162, ...,   9,   9,  10],\n",
       "        [153, 141, 128, ...,   7,   6,   8],\n",
       "        ...,\n",
       "        [  8,   8,  25, ...,  17,  14,   8],\n",
       "        [  6,   9,   9, ...,  16,   8,   1],\n",
       "        [  3,   9,   8, ...,   9,   3,   1]], dtype=uint8),\n",
       " array([[ 83,  91,  97, ...,  42,  31,  23],\n",
       "        [ 84,  93, 100, ...,  41,  33,  25],\n",
       "        [ 86,  94,  97, ...,  39,  34,  26],\n",
       "        ...,\n",
       "        [ 73,  80,  95, ...,  24,  14,   5],\n",
       "        [ 77,  86,  82, ...,  15,  14,   4],\n",
       "        [ 77,  97,  94, ...,  13,  15,   3]], dtype=uint8),\n",
       " array([[ 17,  31,  43, ..., 113,  93,  61],\n",
       "        [ 21,  31,  41, ..., 113,  94,  73],\n",
       "        [ 25,  31,  41, ..., 115,  99,  85],\n",
       "        ...,\n",
       "        [  6,   7,   7, ...,  68,  61,  38],\n",
       "        [  6,   7,   6, ...,  79,  54,  37],\n",
       "        [  5,   6,   7, ...,  77,  44,  22]], dtype=uint8),\n",
       " array([[  3,   4,   4, ..., 101, 102, 111],\n",
       "        [  4,   4,   4, ...,  98,  99,  98],\n",
       "        [  4,   4,   4, ...,  93,  95,  94],\n",
       "        ...,\n",
       "        [  1,   1,   1, ..., 116, 104, 110],\n",
       "        [  1,   1,   1, ..., 125,  96,  86],\n",
       "        [  1,   1,   1, ..., 107,  90,  70]], dtype=uint8),\n",
       " array([[141, 141, 141, ...,   5,   5,   4],\n",
       "        [144, 143, 140, ...,   5,   5,   5],\n",
       "        [142, 141, 127, ...,   5,   5,   5],\n",
       "        ...,\n",
       "        [100,  84,  88, ...,   4,  10,  12],\n",
       "        [111,  98,  82, ...,   6,  10,  12],\n",
       "        [111, 104,  96, ...,   2,   8,  12]], dtype=uint8),\n",
       " array([[ 80,  52,  50, ...,   4,   6,   8],\n",
       "        [ 43,  41,  41, ...,   2,   4,   6],\n",
       "        [ 36,  42,  52, ...,   1,   2,   4],\n",
       "        ...,\n",
       "        [150, 147, 149, ...,   7,   8,  10],\n",
       "        [130, 136, 145, ...,   7,   9,  11],\n",
       "        [140, 132, 138, ...,   8,  10,  10]], dtype=uint8),\n",
       " array([[  0,   0,   3, ...,  65,  68,  41],\n",
       "        [  0,   1,   2, ...,  88,  80,  71],\n",
       "        [  1,   1,   2, ..., 101,  85,  75],\n",
       "        ...,\n",
       "        [  7,   6,   5, ...,  10,   0,   0],\n",
       "        [  9,   8,   7, ...,   8,   0,   0],\n",
       "        [  8,  10,   9, ...,   7,   0,   0]], dtype=uint8),\n",
       " array([[79, 87, 92, ..., 58, 47, 38],\n",
       "        [83, 90, 94, ..., 59, 49, 39],\n",
       "        [83, 85, 85, ..., 60, 52, 41],\n",
       "        ...,\n",
       "        [53, 60, 55, ..., 40, 49, 37],\n",
       "        [56, 67, 65, ..., 32, 48, 59],\n",
       "        [56, 73, 73, ..., 21, 22, 38]], dtype=uint8),\n",
       " array([[ 70,  80, 108, ...,  87,  66,  48],\n",
       "        [ 68,  81, 108, ...,  85,  61,  46],\n",
       "        [ 67,  81, 111, ...,  87,  59,  48],\n",
       "        ...,\n",
       "        [  8,   9,  12, ...,  10,  11,   7],\n",
       "        [  6,   8,  10, ...,   9,  11,   7],\n",
       "        [ 10,   7,   8, ...,  10,  11,   9]], dtype=uint8),\n",
       " array([[ 97, 105, 106, ...,  27,  20,  11],\n",
       "        [ 94,  96,  85, ...,  19,  18,  13],\n",
       "        [ 83,  68,  62, ...,  14,  12,  13],\n",
       "        ...,\n",
       "        [ 74,  78,  84, ...,  15,  14,  11],\n",
       "        [ 70,  72,  77, ...,  15,  14,  10],\n",
       "        [ 62,  69,  72, ...,  15,  13,   8]], dtype=uint8),\n",
       " array([[177, 181, 198, ...,  56,  46,  35],\n",
       "        [172, 188, 203, ...,  60,  46,  33],\n",
       "        [180, 190, 201, ...,  59,  43,  30],\n",
       "        ...,\n",
       "        [117, 117, 113, ...,   5,   5,   5],\n",
       "        [114, 115, 106, ...,   5,   5,   5],\n",
       "        [104, 105,  99, ...,   5,   5,   4]], dtype=uint8),\n",
       " array([[ 10,  22,  49, ..., 100,  85,  81],\n",
       "        [ 11,  28,  54, ..., 104,  87,  78],\n",
       "        [ 14,  33,  40, ...,  84,  84,  75],\n",
       "        ...,\n",
       "        [  6,   2,   1, ...,   7,  23,  75],\n",
       "        [  6,   2,   2, ...,  12,  59,  84],\n",
       "        [  5,   2,   2, ...,  41,  89,  80]], dtype=uint8),\n",
       " array([[  2,   3,   3, ..., 137, 114,  85],\n",
       "        [  2,   2,   3, ..., 104, 119,  95],\n",
       "        [  2,   1,   1, ...,  50,  72,  85],\n",
       "        ...,\n",
       "        [  2,   3,   3, ...,   7,   6,   6],\n",
       "        [  2,   3,   3, ...,   6,   5,   5],\n",
       "        [  2,   2,   3, ...,   5,   5,   6]], dtype=uint8),\n",
       " array([[144, 127,  93, ...,   0,   0,   0],\n",
       "        [151, 124,  81, ...,   3,   0,   0],\n",
       "        [147, 106,  53, ...,   8,   2,   0],\n",
       "        ...,\n",
       "        [  0,   1, 153, ...,  10,  10,  11],\n",
       "        [  1,   0, 129, ...,  10,  11,  11],\n",
       "        [  1,   0, 112, ...,  10,  10,  11]], dtype=uint8),\n",
       " array([[255, 255, 255, ...,  18,  18,  18],\n",
       "        [255, 255, 254, ...,  18,  17,  17],\n",
       "        [251, 251, 249, ...,  17,  17,  17],\n",
       "        ...,\n",
       "        [128, 128, 127, ...,   9,   8,   9],\n",
       "        [ 98, 107, 109, ...,   9,   8,  10],\n",
       "        [122,  92, 101, ...,   8,   9,  18]], dtype=uint8),\n",
       " array([[122, 135, 152, ..., 156, 153, 140],\n",
       "        [112, 128, 148, ..., 155, 148, 139],\n",
       "        [106, 120, 146, ..., 144, 139, 132],\n",
       "        ...,\n",
       "        [ 69,  87, 104, ...,  86,  89,  94],\n",
       "        [ 56,  78, 100, ...,  83,  90,  95],\n",
       "        [ 33,  71,  98, ...,  82,  88,  94]], dtype=uint8),\n",
       " array([[ 87,  89,  90, ...,   7,   7,   7],\n",
       "        [ 90,  92,  91, ...,   7,   8,   8],\n",
       "        [ 93,  99,  94, ...,   7,   7,   7],\n",
       "        ...,\n",
       "        [ 98,  99, 109, ...,   6,   5,   5],\n",
       "        [ 99,  99, 108, ...,   6,   5,   4],\n",
       "        [ 95,  96, 105, ...,   5,   4,   5]], dtype=uint8),\n",
       " array([[121, 135, 147, ...,  37,  29,  19],\n",
       "        [123, 137, 153, ...,  42,  34,  21],\n",
       "        [123, 141, 157, ...,  46,  38,  24],\n",
       "        ...,\n",
       "        [107,  86,  61, ...,  17,  17,  14],\n",
       "        [113, 101,  77, ...,  19,  15,  12],\n",
       "        [121, 113,  97, ...,  17,  13,  12]], dtype=uint8),\n",
       " array([[55, 58, 64, ..., 40, 32, 36],\n",
       "        [54, 58, 66, ..., 37, 33, 33],\n",
       "        [54, 60, 68, ..., 33, 30, 29],\n",
       "        ...,\n",
       "        [45, 58, 58, ..., 55, 44, 43],\n",
       "        [44, 50, 53, ..., 56, 43, 37],\n",
       "        [43, 44, 54, ..., 49, 43, 29]], dtype=uint8),\n",
       " array([[48, 44, 38, ...,  9,  7,  5],\n",
       "        [40, 36, 37, ...,  9,  8,  6],\n",
       "        [33, 35, 43, ...,  9,  9,  7],\n",
       "        ...,\n",
       "        [ 0,  0,  1, ...,  0,  0,  0],\n",
       "        [ 0,  1,  0, ...,  0,  0,  0],\n",
       "        [ 0,  0,  1, ...,  0,  0,  0]], dtype=uint8),\n",
       " array([[  1,   1,   1, ...,  56,  58,  64],\n",
       "        [  1,   1,   1, ...,  50,  53,  60],\n",
       "        [  1,   1,   0, ...,  30,  40,  53],\n",
       "        ...,\n",
       "        [  1,   0,   0, ...,  68,  99,  94],\n",
       "        [  1,   0,   0, ...,  99,  99,  93],\n",
       "        [  1,   1,   1, ..., 102,  99,  93]], dtype=uint8),\n",
       " array([[224, 227, 238, ...,  19,  18,  16],\n",
       "        [222, 224, 240, ...,  19,  18,  17],\n",
       "        [224, 236, 251, ...,  18,  18,  17],\n",
       "        ...,\n",
       "        [104, 117, 115, ...,   7,   9,   9],\n",
       "        [ 95,  99, 101, ...,   9,   8,   7],\n",
       "        [ 95,  92,  99, ...,   8,   7,   6]], dtype=uint8),\n",
       " array([[ 33,  47,  60, ..., 157, 138, 121],\n",
       "        [ 35,  46,  60, ..., 153, 142, 126],\n",
       "        [ 37,  48,  57, ..., 154, 146, 129],\n",
       "        ...,\n",
       "        [  9,  10,  14, ..., 118, 117, 100],\n",
       "        [  9,  10,  13, ..., 113, 111,  89],\n",
       "        [  8,   9,  11, ..., 111,  96,  82]], dtype=uint8),\n",
       " array([[254, 255, 255, ...,  11,   9,   4],\n",
       "        [255, 255, 255, ...,  11,  10,   7],\n",
       "        [255, 255, 238, ...,  12,  12,   9],\n",
       "        ...,\n",
       "        [250, 222, 185, ...,  10,  12,  11],\n",
       "        [245, 219, 189, ...,  10,  11,  11],\n",
       "        [237, 213, 191, ...,  11,  11,  12]], dtype=uint8),\n",
       " array([[ 87,  94,  99, ...,  88,  75,  64],\n",
       "        [ 83,  88, 100, ...,  82,  72,  65],\n",
       "        [ 82,  91, 105, ...,  77,  68,  62],\n",
       "        ...,\n",
       "        [ 56,  72,  81, ...,  78,  67,  56],\n",
       "        [ 44,  59,  74, ...,  75,  60,  44],\n",
       "        [ 30,  44,  63, ...,  68,  50,  31]], dtype=uint8),\n",
       " array([[  2,   1,   1, ..., 138, 117,  95],\n",
       "        [  2,   1,   1, ..., 145, 133, 121],\n",
       "        [  1,   1,   1, ..., 153, 149, 141],\n",
       "        ...,\n",
       "        [  7,   7,   9, ...,  45,  43,  51],\n",
       "        [  7,   8,   9, ...,  47,  40,  43],\n",
       "        [ 10,   7,   4, ...,  67,  38,  47]], dtype=uint8),\n",
       " array([[  6,   7,   6, ..., 187, 176, 171],\n",
       "        [  6,   7,   6, ..., 183, 182, 172],\n",
       "        [  6,   6,   6, ..., 167, 175, 168],\n",
       "        ...,\n",
       "        [  4,   4,   3, ..., 127, 124, 125],\n",
       "        [  4,   4,   4, ..., 122, 117, 104],\n",
       "        [  5,   4,   4, ..., 111, 109, 113]], dtype=uint8),\n",
       " array([[136, 141, 150, ...,   9,   9,   8],\n",
       "        [137, 146, 155, ...,   9,   9,   8],\n",
       "        [148, 154, 149, ...,  10,   9,   9],\n",
       "        ...,\n",
       "        [ 26,  33,  37, ...,   6,   5,   6],\n",
       "        [ 26,  21,  26, ...,   5,   5,   7],\n",
       "        [ 52,  20,  16, ...,   5,   7,   8]], dtype=uint8),\n",
       " array([[144, 151, 161, ...,  16,  15,  13],\n",
       "        [144, 147, 160, ...,  15,  15,  13],\n",
       "        [146, 155, 167, ...,  15,  14,  14],\n",
       "        ...,\n",
       "        [ 67,  77,  78, ...,   6,   6,   7],\n",
       "        [ 61,  64,  68, ...,   7,   6,   6],\n",
       "        [ 55,  56,  66, ...,   7,   6,   5]], dtype=uint8),\n",
       " array([[  8,   8,  10, ..., 123, 121, 110],\n",
       "        [  8,   8,   9, ..., 132, 108, 102],\n",
       "        [  8,   7,  11, ..., 138, 109,  97],\n",
       "        ...,\n",
       "        [ 10,   9,   9, ...,  24,  44,  47],\n",
       "        [  9,   9,   9, ...,  25,  60,  52],\n",
       "        [  9,   9,   9, ...,  29,  71,  55]], dtype=uint8),\n",
       " array([[  2,   2,   2, ..., 153, 162, 160],\n",
       "        [  2,   2,   1, ..., 142, 149, 155],\n",
       "        [  1,   0,   0, ..., 115, 135, 149],\n",
       "        ...,\n",
       "        [  1,   1,   0, ..., 124, 163, 165],\n",
       "        [  2,   2,   1, ..., 140, 159, 159],\n",
       "        [  2,   2,   1, ..., 142, 154, 160]], dtype=uint8),\n",
       " array([[ 3, 17, 32, ..., 43, 40, 34],\n",
       "        [12, 24, 17, ..., 44, 42, 35],\n",
       "        [24, 39,  6, ..., 39, 41, 34],\n",
       "        ...,\n",
       "        [ 0,  9, 25, ...,  0,  0,  0],\n",
       "        [ 1,  9, 23, ...,  0,  0,  0],\n",
       "        [ 1,  9, 23, ...,  0,  0,  1]], dtype=uint8),\n",
       " array([[59, 63, 68, ..., 90, 95, 93],\n",
       "        [61, 65, 67, ..., 91, 92, 93],\n",
       "        [60, 60, 66, ..., 91, 88, 89],\n",
       "        ...,\n",
       "        [32, 46, 61, ..., 96, 83, 70],\n",
       "        [30, 37, 52, ..., 86, 73, 63],\n",
       "        [33, 30, 42, ..., 79, 64, 66]], dtype=uint8),\n",
       " array([[45, 68, 81, ..., 33, 26, 17],\n",
       "        [56, 70, 79, ..., 32, 24, 18],\n",
       "        [65, 72, 77, ..., 31, 23, 19],\n",
       "        ...,\n",
       "        [68, 62, 67, ...,  9, 17, 43],\n",
       "        [82, 66, 65, ..., 10, 21, 46],\n",
       "        [92, 78, 64, ..., 11, 24, 40]], dtype=uint8),\n",
       " array([[46, 52, 60, ..., 67, 62, 56],\n",
       "        [49, 54, 61, ..., 67, 65, 59],\n",
       "        [57, 58, 59, ..., 56, 58, 54],\n",
       "        ...,\n",
       "        [56, 60, 59, ..., 53, 51, 51],\n",
       "        [47, 53, 58, ..., 53, 52, 49],\n",
       "        [41, 48, 57, ..., 52, 49, 38]], dtype=uint8),\n",
       " array([[57, 60, 63, ..., 68, 63, 60],\n",
       "        [55, 58, 63, ..., 65, 63, 58],\n",
       "        [54, 58, 64, ..., 66, 60, 56],\n",
       "        ...,\n",
       "        [46, 55, 62, ..., 53, 49, 40],\n",
       "        [38, 46, 58, ..., 50, 43, 37],\n",
       "        [39, 42, 48, ..., 43, 43, 39]], dtype=uint8),\n",
       " array([[  2,   2,   4, ...,  23,  20,  24],\n",
       "        [  3,   3,   5, ...,  20,  19,  26],\n",
       "        [  4,   5,   4, ...,  19,  17,  30],\n",
       "        ...,\n",
       "        [  1,   4,  18, ...,   9,   5,   7],\n",
       "        [  1,   3,  17, ...,  28,  13,   8],\n",
       "        [  1,   5,  18, ...,  72, 111, 112]], dtype=uint8),\n",
       " array([[  4,   4,   3, ...,  74,  89, 100],\n",
       "        [  3,   3,   2, ...,  79,  87, 101],\n",
       "        [  2,   1,   0, ...,  59,  82,  93],\n",
       "        ...,\n",
       "        [  5,   4,   5, ..., 216, 217, 211],\n",
       "        [  6,   5,   4, ..., 212, 214, 208],\n",
       "        [  6,   5,   4, ..., 210, 208, 205]], dtype=uint8),\n",
       " array([[  2,   2,   2, ..., 118, 132, 108],\n",
       "        [  2,   2,   2, ..., 118, 142, 145],\n",
       "        [  2,   2,   2, ..., 130, 160, 167],\n",
       "        ...,\n",
       "        [  0,   0,   0, ...,   0,   0,   0],\n",
       "        [  0,   0,   0, ...,   0,   0,   0],\n",
       "        [  0,   0,   0, ...,   0,   0,   0]], dtype=uint8),\n",
       " array([[152, 161, 173, ...,  24,  18,  16],\n",
       "        [156, 164, 176, ...,  20,  17,  13],\n",
       "        [156, 163, 172, ...,  17,  15,  10],\n",
       "        ...,\n",
       "        [115, 131, 143, ...,  19,  15,   2],\n",
       "        [ 97, 120, 135, ...,  19,  15,   2],\n",
       "        [111, 103, 123, ...,  19,  15,   2]], dtype=uint8),\n",
       " array([[ 90, 109, 125, ...,  82,  48,  24],\n",
       "        [ 92, 114, 130, ...,  57,  53,  28],\n",
       "        [ 96, 118, 123, ...,  24,  33,  32],\n",
       "        ...,\n",
       "        [  6,   5,   6, ...,  11,  10,   9],\n",
       "        [  5,   5,   4, ...,  11,  10,   9],\n",
       "        [  4,   3,   3, ...,  10,   9,   8]], dtype=uint8),\n",
       " array([[186, 185, 170, ...,  60,  63,  53],\n",
       "        [184, 161, 144, ...,  41,  46,  46],\n",
       "        [161, 154, 172, ...,  40,  38,  37],\n",
       "        ...,\n",
       "        [100, 112, 117, ...,  15,  14,  15],\n",
       "        [ 84,  99, 108, ...,  14,  13,  14],\n",
       "        [ 65,  82,  95, ...,  14,  13,  13]], dtype=uint8),\n",
       " array([[ 58,  59,  64, ..., 130, 119, 114],\n",
       "        [ 57,  60,  65, ..., 132, 123, 115],\n",
       "        [ 59,  64,  67, ..., 134, 123, 116],\n",
       "        ...,\n",
       "        [  9,   9,   8, ...,  40,  36,  22],\n",
       "        [  7,   9,   8, ...,  35,  20,  11],\n",
       "        [  3,   7,   9, ...,  22,  10,  18]], dtype=uint8),\n",
       " array([[4, 3, 1, ..., 0, 0, 0],\n",
       "        [3, 2, 0, ..., 0, 0, 0],\n",
       "        [2, 0, 0, ..., 0, 0, 0],\n",
       "        ...,\n",
       "        [0, 0, 0, ..., 0, 0, 0],\n",
       "        [0, 0, 0, ..., 0, 0, 0],\n",
       "        [0, 0, 0, ..., 0, 0, 0]], dtype=uint8),\n",
       " array([[122, 136, 149, ...,  79,  55,  44],\n",
       "        [123, 131, 147, ...,  81,  59,  47],\n",
       "        [122, 137, 153, ...,  81,  57,  47],\n",
       "        ...,\n",
       "        [ 22,  33,  37, ...,  15,  12,  10],\n",
       "        [ 18,  22,  27, ...,  12,   9,   7],\n",
       "        [ 13,  16,  23, ...,  10,   7,   5]], dtype=uint8),\n",
       " array([[  2,   2,   2, ..., 153, 144, 142],\n",
       "        [  2,   2,   2, ..., 158, 145, 138],\n",
       "        [  2,   2,   1, ..., 118, 131, 133],\n",
       "        ...,\n",
       "        [  3,   2,   1, ...,  71, 134, 150],\n",
       "        [  3,   2,   2, ..., 124, 147, 147],\n",
       "        [  3,   2,   2, ..., 144, 147, 143]], dtype=uint8),\n",
       " array([[62, 62, 64, ..., 73, 65, 57],\n",
       "        [62, 62, 62, ..., 68, 63, 58],\n",
       "        [60, 58, 55, ..., 65, 57, 55],\n",
       "        ...,\n",
       "        [30, 18, 26, ...,  9,  4,  5],\n",
       "        [39, 32, 20, ...,  6,  5,  5],\n",
       "        [43, 40, 33, ...,  5,  4,  5]], dtype=uint8),\n",
       " array([[64, 74, 84, ..., 95, 86, 84],\n",
       "        [65, 71, 79, ..., 94, 86, 83],\n",
       "        [65, 69, 75, ..., 94, 85, 82],\n",
       "        ...,\n",
       "        [16, 25, 36, ..., 42, 37, 30],\n",
       "        [16, 19, 30, ..., 36, 30, 20],\n",
       "        [14, 16, 21, ..., 31, 21, 18]], dtype=uint8),\n",
       " array([[ 67,  74,  77, ...,  11,  12,  13],\n",
       "        [ 66,  73,  77, ...,  11,  12,  13],\n",
       "        [ 67,  72,  73, ...,  12,  12,  12],\n",
       "        ...,\n",
       "        [ 98, 118, 133, ...,  45,  42,  34],\n",
       "        [ 87, 107, 126, ...,  43,  40,  33],\n",
       "        [ 84,  99, 116, ...,  44,  38,  27]], dtype=uint8),\n",
       " array([[  3,   3,   3, ..., 155, 150, 136],\n",
       "        [  3,   3,   4, ..., 157, 151, 139],\n",
       "        [  3,   4,   4, ..., 150, 147, 140],\n",
       "        ...,\n",
       "        [  3,   4,   4, ..., 184, 182, 174],\n",
       "        [  3,   3,   4, ..., 188, 171, 158],\n",
       "        [  2,   3,   3, ..., 175, 159, 144]], dtype=uint8),\n",
       " array([[117, 119, 102, ...,  55,  64,  61],\n",
       "        [103,  86,  58, ...,  42,  52,  55],\n",
       "        [ 72,  46,  31, ...,  31,  39,  43],\n",
       "        ...,\n",
       "        [115, 123, 128, ...,  74,  64,  54],\n",
       "        [110, 116, 120, ...,  68,  56,  46],\n",
       "        [103, 111, 119, ...,  61,  50,  40]], dtype=uint8),\n",
       " array([[86, 88, 93, ...,  2,  0,  1],\n",
       "        [89, 85, 77, ...,  4,  0,  0],\n",
       "        [85, 64, 40, ...,  8,  3,  0],\n",
       "        ...,\n",
       "        [ 2,  0, 54, ..., 10, 10, 10],\n",
       "        [ 2,  0, 41, ..., 10, 10, 10],\n",
       "        [ 2,  0, 33, ...,  9, 10, 11]], dtype=uint8),\n",
       " array([[  3,  14,  32, ..., 114, 105,  99],\n",
       "        [  5,  15,  25, ..., 118, 105,  97],\n",
       "        [  5,   9,  10, ...,  90,  99,  95],\n",
       "        ...,\n",
       "        [  1,   2,   1, ...,  62,  96,  93],\n",
       "        [  2,   2,   2, ...,  91,  99,  90],\n",
       "        [  2,   2,   2, ..., 102,  96,  93]], dtype=uint8),\n",
       " array([[ 16,  19,  30, ..., 191, 180, 178],\n",
       "        [ 13,  14,  23, ..., 173, 168, 166],\n",
       "        [ 15,  15,  24, ..., 176, 163, 157],\n",
       "        ...,\n",
       "        [ 12,  13,  14, ..., 162, 142,  75],\n",
       "        [ 12,  12,  13, ..., 167, 143,  67],\n",
       "        [ 12,  12,  12, ..., 166, 143,  65]], dtype=uint8),\n",
       " array([[ 32,  16,   5, ...,   0,   0,   0],\n",
       "        [ 53,  19,   8, ...,   0,   0,   0],\n",
       "        [ 79,  23,  11, ...,   0,   0,   0],\n",
       "        ...,\n",
       "        [ 13,  30, 136, ...,   1,   0,   1],\n",
       "        [  7,  25, 135, ...,   4,   1,   1],\n",
       "        [  6,  30, 136, ...,  13,  12,  11]], dtype=uint8),\n",
       " array([[  3,   3,   2, ...,  67,  44,  27],\n",
       "        [  3,   3,   3, ...,  65,  49,  34],\n",
       "        [  3,   3,   3, ...,  63,  53,  52],\n",
       "        ...,\n",
       "        [  3,   2,   2, ..., 170, 165, 166],\n",
       "        [  2,   2,   2, ..., 173, 162, 166],\n",
       "        [  2,   2,   2, ..., 172, 166, 168]], dtype=uint8),\n",
       " array([[  5,   5,   6, ...,  90,  89,  77],\n",
       "        [  5,   5,   6, ...,  91,  87,  87],\n",
       "        [  6,   6,   5, ...,  87,  84,  84],\n",
       "        ...,\n",
       "        [118,  57,   1, ...,  81,  67,  70],\n",
       "        [118,  74,   4, ...,  70,  76,  70],\n",
       "        [117,  86,   7, ...,  80,  81,  68]], dtype=uint8),\n",
       " array([[  6,   6,   5, ...,  90, 103,  99],\n",
       "        [  5,   5,   5, ...,  92,  99, 103],\n",
       "        [  5,   5,   5, ...,  93, 103, 114],\n",
       "        ...,\n",
       "        [  2,   2,   3, ..., 194, 182, 178],\n",
       "        [  2,   2,   2, ..., 185, 180, 164],\n",
       "        [  2,   3,   3, ..., 176, 179, 170]], dtype=uint8),\n",
       " array([[160, 161, 161, ...,  10,  10,  10],\n",
       "        [158, 153, 159, ...,   9,   9,  10],\n",
       "        [155, 148, 157, ...,   9,   9,  10],\n",
       "        ...,\n",
       "        [176, 141, 109, ...,  12,  12,  12],\n",
       "        [186, 161, 126, ...,  12,  12,  12],\n",
       "        [187, 169, 138, ...,  12,  12,  13]], dtype=uint8),\n",
       " array([[254, 254, 247, ...,  11,   8,   3],\n",
       "        [247, 252, 235, ...,  12,  10,   5],\n",
       "        [241, 215, 154, ...,  13,  12,   8],\n",
       "        ...,\n",
       "        [255, 251, 215, ...,  11,  13,  11],\n",
       "        [255, 253, 227, ...,  11,  12,  12],\n",
       "        [255, 253, 238, ...,  11,  12,  12]], dtype=uint8),\n",
       " array([[103, 113, 144, ...,  58,  36,  22],\n",
       "        [100, 115, 143, ...,  56,  32,  21],\n",
       "        [ 98, 114, 143, ...,  58,  31,  20],\n",
       "        ...,\n",
       "        [ 73,  35,  22, ...,   9,  10,   7],\n",
       "        [ 83,  61,  23, ...,   9,  11,   6],\n",
       "        [ 95,  79,  50, ...,   9,  10,   9]], dtype=uint8),\n",
       " array([[  1,   1,   3, ...,  55,  64,  40],\n",
       "        [  3,   3,   3, ...,  49, 114, 145],\n",
       "        [  3,   3,   2, ...,  33,  79, 170],\n",
       "        ...,\n",
       "        [  0,   0,   0, ..., 122, 125,  84],\n",
       "        [  0,   0,   0, ..., 116,  69,   8],\n",
       "        [  0,   0,   0, ...,  62,   7,   0]], dtype=uint8),\n",
       " array([[255, 254, 253, ...,  19,  21,  21],\n",
       "        [255, 255, 252, ...,  19,  21,  21],\n",
       "        [255, 253, 248, ...,  21,  21,  21],\n",
       "        ...,\n",
       "        [255, 255, 245, ...,  22,  23,  33],\n",
       "        [254, 254, 253, ...,  22,  24,  29],\n",
       "        [252, 253, 238, ...,  22,  23,  29]], dtype=uint8),\n",
       " array([[  4,   5,   5, ..., 162, 164, 165],\n",
       "        [  4,   5,   5, ..., 150, 152, 163],\n",
       "        [  5,   4,   5, ..., 129, 135, 142],\n",
       "        ...,\n",
       "        [  6,   8,  14, ..., 223, 220, 215],\n",
       "        [  6,   7,  11, ..., 221, 216, 215],\n",
       "        [  5,   6,  10, ..., 211, 205, 204]], dtype=uint8),\n",
       " array([[ 15,  23,  32, ..., 141, 138, 127],\n",
       "        [ 13,  20,  32, ..., 145, 138, 128],\n",
       "        [ 12,  20,  31, ..., 138, 136, 134],\n",
       "        ...,\n",
       "        [ 12,  14,  18, ..., 102,  91, 100],\n",
       "        [ 12,  13,  16, ...,  92, 100, 110],\n",
       "        [ 12,  13,  15, ...,  97, 112, 116]], dtype=uint8),\n",
       " array([[ 9, 14, 22, ..., 44, 41, 34],\n",
       "        [ 9, 16, 25, ..., 50, 50, 44],\n",
       "        [11, 20, 28, ..., 49, 50, 49],\n",
       "        ...,\n",
       "        [11, 13, 16, ..., 20, 21, 17],\n",
       "        [11, 12, 15, ..., 22, 19, 16],\n",
       "        [11, 11, 14, ..., 22, 17, 16]], dtype=uint8),\n",
       " array([[196, 198, 197, ...,  10,  10,  10],\n",
       "        [201, 194, 192, ...,  11,  10,  10],\n",
       "        [196, 187, 187, ...,  11,  10,  10],\n",
       "        ...,\n",
       "        [179, 185, 186, ...,  15,  15,  13],\n",
       "        [189, 177, 183, ...,  15,  14,  14],\n",
       "        [199, 185, 175, ...,  15,  13,  13]], dtype=uint8),\n",
       " array([[  3,   3,   3, ..., 121, 130, 131],\n",
       "        [  3,   3,   3, ..., 117, 125, 126],\n",
       "        [  3,   3,   3, ..., 108, 115, 124],\n",
       "        ...,\n",
       "        [  6,   5,   5, ..., 101,  92,  77],\n",
       "        [  6,   6,   5, ...,  94,  82,  78],\n",
       "        [  6,   7,   6, ...,  81,  76,  87]], dtype=uint8),\n",
       " array([[25, 42, 55, ..., 68, 54, 33],\n",
       "        [31, 44, 53, ..., 67, 54, 39],\n",
       "        [37, 45, 54, ..., 69, 56, 47],\n",
       "        ...,\n",
       "        [ 6,  8, 15, ..., 30, 36, 40],\n",
       "        [ 8,  6, 11, ..., 41, 35, 41],\n",
       "        [27,  7,  9, ..., 40, 33, 27]], dtype=uint8),\n",
       " array([[  3,   5,  17, ...,  97,  86,  85],\n",
       "        [  3,   6,  19, ..., 100,  86,  81],\n",
       "        [  3,   6,  12, ...,  76,  79,  75],\n",
       "        ...,\n",
       "        [  5,   2,   1, ...,  43,  89, 101],\n",
       "        [  5,   2,   2, ...,  88, 106, 101],\n",
       "        [  4,   2,   2, ..., 109, 109,  98]], dtype=uint8),\n",
       " array([[  2,   0,   1, ..., 255, 219, 120],\n",
       "        [  2,   0,   1, ..., 255, 255, 177],\n",
       "        [  2,   2,   2, ..., 255, 255, 248],\n",
       "        ...,\n",
       "        [  6,   7,  13, ...,  41,  45,  52],\n",
       "        [  7,   8,  11, ...,  60,  65,  63],\n",
       "        [  9,   7,   4, ...,  78,  82,  88]], dtype=uint8),\n",
       " array([[ 2,  2,  1, ..., 71, 82, 87],\n",
       "        [ 2,  1,  1, ..., 66, 79, 86],\n",
       "        [ 1,  2,  1, ..., 59, 72, 86],\n",
       "        ...,\n",
       "        [ 1,  0,  0, ..., 98, 90, 81],\n",
       "        [ 0,  0,  0, ..., 94, 83, 74],\n",
       "        [ 0,  0,  0, ..., 85, 77, 84]], dtype=uint8),\n",
       " array([[ 72,  58,  33, ...,  20,  17,  15],\n",
       "        [ 66,  42,  31, ...,  31,  27,  19],\n",
       "        [ 53,  38,  55, ...,  57,  44,  35],\n",
       "        ...,\n",
       "        [127, 134, 136, ...,  46,  42,  39],\n",
       "        [124, 131, 134, ...,  44,  40,  38],\n",
       "        [120, 127, 131, ...,  42,  40,  37]], dtype=uint8),\n",
       " array([[ 46,  42,  35, ...,  76,  91,  84],\n",
       "        [ 37,  27,  32, ...,  84,  82,  82],\n",
       "        [ 29,  35,  57, ..., 159, 127, 102],\n",
       "        ...,\n",
       "        [ 50,  59,  69, ..., 145, 138, 131],\n",
       "        [ 40,  53,  61, ..., 138, 131, 123],\n",
       "        [ 30,  44,  54, ..., 133, 126, 118]], dtype=uint8),\n",
       " array([[ 82,  85,  94, ..., 118, 109, 107],\n",
       "        [ 79,  80,  85, ..., 109, 103, 100],\n",
       "        [ 83,  81,  79, ..., 102,  97,  94],\n",
       "        ...,\n",
       "        [ 15,  16,  19, ...,  79,  76,  53],\n",
       "        [ 17,  15,  17, ..., 102,  76,  47],\n",
       "        [ 33,  16,  17, ..., 103,  77,  45]], dtype=uint8),\n",
       " array([[ 85, 107, 132, ...,  15,  16,  13],\n",
       "        [ 84, 115, 131, ...,  15,  15,  12],\n",
       "        [ 95, 117, 129, ...,  14,  14,  11],\n",
       "        ...,\n",
       "        [  5,   7,   7, ...,   8,   6,   8],\n",
       "        [  5,   6,   8, ...,   8,   6,   4],\n",
       "        [  5,   5,   6, ...,   8,   4,   1]], dtype=uint8),\n",
       " array([[ 87,  89,  89, ...,   7,   7,   7],\n",
       "        [ 87,  89,  85, ...,   7,   7,   7],\n",
       "        [ 92,  87,  78, ...,   6,   6,   6],\n",
       "        ...,\n",
       "        [126, 136, 139, ...,  11,  14,  11],\n",
       "        [130, 140, 138, ...,  17,  14,   9],\n",
       "        [126, 136, 136, ...,  15,   9,   8]], dtype=uint8),\n",
       " array([[  2,   2,   2, ..., 105, 114, 116],\n",
       "        [  2,   2,   3, ...,  98, 110, 115],\n",
       "        [  2,   2,   2, ...,  89, 101, 113],\n",
       "        ...,\n",
       "        [  3,   2,   2, ..., 107,  94,  84],\n",
       "        [  3,   3,   3, ...,  99,  85,  82],\n",
       "        [  3,   3,   3, ...,  87,  82,  94]], dtype=uint8),\n",
       " array([[84, 88, 94, ..., 87, 80, 74],\n",
       "        [83, 89, 95, ..., 87, 82, 73],\n",
       "        [86, 91, 96, ..., 90, 82, 75],\n",
       "        ...,\n",
       "        [26, 36, 43, ..., 24, 19, 12],\n",
       "        [14, 25, 36, ..., 19, 12,  9],\n",
       "        [ 8, 13, 25, ..., 14,  9,  9]], dtype=uint8),\n",
       " array([[  4,   3,   3, ..., 169,  99,  45],\n",
       "        [  4,   3,   4, ..., 189, 135,  89],\n",
       "        [  3,   4,   5, ..., 188, 167, 131],\n",
       "        ...,\n",
       "        [  5,   5,   5, ...,  89,  91,  88],\n",
       "        [  4,   5,   5, ...,  86,  83,  74],\n",
       "        [  3,   4,   5, ...,  80,  71,  68]], dtype=uint8),\n",
       " array([[ 64,  72,  80, ...,  87,  79,  78],\n",
       "        [ 64,  70,  74, ...,  85,  79,  78],\n",
       "        [ 66,  66,  67, ...,  82,  79,  77],\n",
       "        ...,\n",
       "        [ 81,  78,  79, ...,  84,  80,  70],\n",
       "        [ 91,  93,  80, ...,  77,  72,  70],\n",
       "        [ 93, 101,  92, ...,  73,  77,  72]], dtype=uint8),\n",
       " array([[ 12,  12,  10, ..., 136, 166, 184],\n",
       "        [ 13,  11,   8, ..., 101, 137, 191],\n",
       "        [ 11,  10,   9, ..., 128, 134, 170],\n",
       "        ...,\n",
       "        [ 10,  10,   9, ..., 209, 211, 214],\n",
       "        [ 10,  10,  10, ..., 202, 203, 205],\n",
       "        [ 11,  10,   9, ..., 202, 198, 195]], dtype=uint8),\n",
       " array([[61, 63, 68, ..., 71, 74, 69],\n",
       "        [62, 65, 66, ..., 68, 72, 69],\n",
       "        [59, 62, 63, ..., 67, 68, 68],\n",
       "        ...,\n",
       "        [49, 63, 74, ..., 76, 65, 55],\n",
       "        [43, 53, 66, ..., 68, 57, 52],\n",
       "        [44, 43, 58, ..., 61, 54, 60]], dtype=uint8),\n",
       " array([[  2,   1,   0, ..., 255, 233, 157],\n",
       "        [  1,   1,   1, ..., 254, 213, 145],\n",
       "        [  1,   1,   1, ..., 244, 185, 131],\n",
       "        ...,\n",
       "        [  1,   5,   3, ...,   1,   0,   0],\n",
       "        [  1,   5,   3, ...,   1,   0,   1],\n",
       "        [  1,   5,   3, ...,   0,   0,   0]], dtype=uint8),\n",
       " array([[127, 143, 151, ...,  14,  15,  16],\n",
       "        [129, 141, 153, ...,  14,  15,  15],\n",
       "        [131, 141, 152, ...,  14,  14,  14],\n",
       "        ...,\n",
       "        [110, 133, 149, ...,  12,  11,  10],\n",
       "        [105, 114, 138, ...,  11,  11,  10],\n",
       "        [111, 111, 121, ...,  11,  11,  11]], dtype=uint8),\n",
       " array([[ 76,  72,  73, ...,  10,  11,   9],\n",
       "        [ 83,  77,  77, ...,  10,  10,   9],\n",
       "        [ 86,  80,  72, ...,  10,  10,   9],\n",
       "        ...,\n",
       "        [105, 126, 135, ...,   9,  10,   3],\n",
       "        [116, 114, 137, ...,   9,  10,   3],\n",
       "        [123, 117, 126, ...,  10,  11,   2]], dtype=uint8),\n",
       " array([[ 56,  68,  81, ..., 150, 130, 118],\n",
       "        [ 53,  66,  81, ..., 150, 130, 116],\n",
       "        [ 53,  69,  84, ..., 143, 123, 117],\n",
       "        ...,\n",
       "        [  6,  11,  14, ...,  62,  58,  54],\n",
       "        [  5,   6,   8, ...,  67,  53,  42],\n",
       "        [  5,   6,   7, ...,  52,  39,  27]], dtype=uint8),\n",
       " array([[122, 135, 141, ...,  53,  44,  26],\n",
       "        [118, 127, 116, ...,  33,  34,  24],\n",
       "        [105,  90,  80, ...,  22,  20,  19],\n",
       "        ...,\n",
       "        [ 74,  78,  85, ...,  19,  18,  13],\n",
       "        [ 70,  71,  78, ...,  19,  18,  14],\n",
       "        [ 59,  68,  72, ...,  19,  17,  11]], dtype=uint8),\n",
       " array([[22, 42, 57, ..., 57, 56, 56],\n",
       "        [24, 39, 40, ..., 58, 51, 52],\n",
       "        [20, 20, 20, ..., 43, 43, 48],\n",
       "        ...,\n",
       "        [36, 39, 14, ..., 69, 81, 68],\n",
       "        [36, 47, 44, ..., 86, 83, 67],\n",
       "        [36, 49, 54, ..., 92, 81, 68]], dtype=uint8),\n",
       " array([[ 51,  42,  42, ...,   0,   0,   0],\n",
       "        [ 69,  69,  83, ...,   0,   0,   0],\n",
       "        [ 77,  86, 100, ...,   2,   1,   1],\n",
       "        ...,\n",
       "        [ 37,  42,  49, ...,   1,   0,   0],\n",
       "        [ 28,  32,  40, ...,   1,   0,   0],\n",
       "        [ 24,  25,  30, ...,   1,   0,   0]], dtype=uint8),\n",
       " array([[  3,   3,   4, ..., 186, 191, 164],\n",
       "        [  3,   3,   4, ..., 193, 203, 179],\n",
       "        [  3,   3,   3, ..., 217, 223, 189],\n",
       "        ...,\n",
       "        [  5,   5,   6, ..., 208, 198,  30],\n",
       "        [  5,   5,   5, ..., 218, 196,  27],\n",
       "        [  5,   5,   5, ..., 225, 192,  21]], dtype=uint8),\n",
       " array([[  3,   3,   3, ..., 138, 133, 123],\n",
       "        [  3,   3,   3, ..., 135, 130, 125],\n",
       "        [  3,   3,   3, ..., 131, 123, 121],\n",
       "        ...,\n",
       "        [  3,   2,   3, ...,  20,   4,   5],\n",
       "        [  3,   3,   2, ...,  12,   4,   5],\n",
       "        [  3,   3,   2, ...,  10,   4,   6]], dtype=uint8),\n",
       " array([[ 2,  2,  3, ...,  8,  7,  7],\n",
       "        [ 2,  2,  3, ..., 10,  8,  7],\n",
       "        [ 2,  3,  3, ..., 11,  8,  8],\n",
       "        ...,\n",
       "        [ 1,  2,  2, ...,  7,  7,  8],\n",
       "        [ 1,  2,  2, ...,  8,  8,  8],\n",
       "        [ 1,  1,  1, ...,  8,  7,  7]], dtype=uint8),\n",
       " array([[52, 53, 45, ..., 31, 26, 23],\n",
       "        [51, 50, 44, ..., 26, 27, 23],\n",
       "        [46, 40, 39, ..., 23, 31, 21],\n",
       "        ...,\n",
       "        [71, 79, 83, ..., 79, 76, 76],\n",
       "        [71, 79, 81, ..., 81, 77, 76],\n",
       "        [72, 80, 84, ..., 82, 80, 79]], dtype=uint8),\n",
       " array([[154, 128, 107, ...,   7,   8,   8],\n",
       "        [110,  95,  70, ...,   5,   6,   7],\n",
       "        [ 59,  53,  46, ...,   2,   2,   4],\n",
       "        ...,\n",
       "        [ 78,  85,  85, ...,   7,   8,  10],\n",
       "        [ 61,  76,  84, ...,   7,   8,  10],\n",
       "        [ 94,  58,  67, ...,   8,   9,  10]], dtype=uint8),\n",
       " array([[220, 220, 222, ...,   7,   6,   4],\n",
       "        [213, 210, 223, ...,   7,   7,   4],\n",
       "        [211, 215, 228, ...,   7,   6,   5],\n",
       "        ...,\n",
       "        [124, 131, 132, ...,   8,   7,   7],\n",
       "        [113, 117, 122, ...,   8,   7,   6],\n",
       "        [ 98, 100, 109, ...,   7,   6,   7]], dtype=uint8),\n",
       " array([[ 44,  52,  65, ...,  44,  42,  37],\n",
       "        [ 45,  56,  69, ...,  46,  40,  42],\n",
       "        [ 45,  55,  45, ...,  45,  39,  38],\n",
       "        ...,\n",
       "        [127,  69,  38, ...,  29,  15,  24],\n",
       "        [125,  79,  31, ...,  18,  25,  30],\n",
       "        [123,  89,  33, ...,  27,  36,  31]], dtype=uint8),\n",
       " array([[114,  94,  73, ...,  11,  12,  13],\n",
       "        [ 94,  89,  84, ...,  12,  12,  12],\n",
       "        [ 92, 101, 105, ...,  13,  12,  13],\n",
       "        ...,\n",
       "        [105,  85,  63, ...,  13,  14,  13],\n",
       "        [110,  87,  71, ...,  13,  13,  11],\n",
       "        [115,  93,  71, ...,  13,  12,  13]], dtype=uint8),\n",
       " array([[ 94,  88,  78, ...,   7,   7,   6],\n",
       "        [ 98,  94,  80, ...,   7,   7,   7],\n",
       "        [107,  91,  68, ...,   7,   7,   7],\n",
       "        ...,\n",
       "        [215, 211, 186, ...,   6,   6,   6],\n",
       "        [229, 207, 187, ...,   6,   6,   6],\n",
       "        [228, 208, 183, ...,   6,   6,   6]], dtype=uint8),\n",
       " array([[95, 98, 93, ..., 14, 12,  9],\n",
       "        [92, 92, 88, ..., 12, 11,  9],\n",
       "        [89, 86, 85, ..., 11,  9,  9],\n",
       "        ...,\n",
       "        [52, 59, 65, ..., 11,  8,  7],\n",
       "        [44, 55, 62, ...,  8,  7,  7],\n",
       "        [39, 47, 56, ...,  7,  6,  7]], dtype=uint8),\n",
       " array([[141, 146, 150, ...,  46,  31,  24],\n",
       "        [135, 140, 152, ...,  41,  29,  25],\n",
       "        [136, 145, 158, ...,  36,  27,  24],\n",
       "        ...,\n",
       "        [ 79,  95, 103, ...,  24,  13,   6],\n",
       "        [ 68,  81,  94, ...,  18,   9,   5],\n",
       "        [ 55,  63,  79, ...,  14,   5,   5]], dtype=uint8),\n",
       " array([[24, 20, 21, ...,  9,  8,  8],\n",
       "        [22, 22, 20, ...,  9, 11, 10],\n",
       "        [19, 21, 30, ..., 11,  9,  9],\n",
       "        ...,\n",
       "        [93, 91, 93, ..., 20, 24, 28],\n",
       "        [82, 85, 90, ..., 24, 29, 27],\n",
       "        [82, 86, 89, ..., 26, 29, 24]], dtype=uint8),\n",
       " array([[44, 55, 67, ..., 69, 55, 44],\n",
       "        [42, 55, 70, ..., 60, 45, 33],\n",
       "        [41, 58, 77, ..., 60, 40, 29],\n",
       "        ...,\n",
       "        [ 6,  7,  7, ..., 12, 12, 11],\n",
       "        [ 6,  6,  7, ..., 12, 12, 10],\n",
       "        [ 7,  6,  7, ..., 12, 11, 11]], dtype=uint8),\n",
       " array([[203, 162, 157, ...,  24,  26,  26],\n",
       "        [184, 180, 226, ...,  23,  25,  25],\n",
       "        [218, 246, 255, ...,  25,  26,  25],\n",
       "        ...,\n",
       "        [108, 109, 120, ...,  26,  28,  41],\n",
       "        [112,  96,  94, ...,  26,  29,  37],\n",
       "        [118,  94,  71, ...,  26,  29,  37]], dtype=uint8),\n",
       " array([[14, 18, 14, ..., 10,  6,  4],\n",
       "        [29, 19, 15, ..., 12,  7,  5],\n",
       "        [59, 19, 16, ..., 11,  7,  5],\n",
       "        ...,\n",
       "        [ 8, 12, 70, ...,  2,  1,  2],\n",
       "        [ 6, 10, 70, ...,  7,  3,  2],\n",
       "        [ 4, 15, 72, ..., 16, 13, 12]], dtype=uint8),\n",
       " array([[ 10,  10,  11, ..., 166, 164, 169],\n",
       "        [  9,   9,  10, ..., 151, 161, 166],\n",
       "        [ 10,  10,  10, ..., 150, 155, 157],\n",
       "        ...,\n",
       "        [ 13,  13,  15, ..., 186, 155,  82],\n",
       "        [ 14,  14,  16, ..., 194, 162,  75],\n",
       "        [ 15,  15,  15, ..., 200, 163,  69]], dtype=uint8),\n",
       " array([[ 94,  91,  84, ...,   4,   4,   3],\n",
       "        [ 92,  87,  88, ...,   5,   4,   3],\n",
       "        [ 93,  90,  94, ...,   5,   4,   3],\n",
       "        ...,\n",
       "        [145, 158, 165, ...,   4,   4,   4],\n",
       "        [138, 142, 153, ...,   4,   3,   3],\n",
       "        [122, 125, 143, ...,   4,   3,   3]], dtype=uint8),\n",
       " array([[  1,   2,   4, ...,  64,  75,  75],\n",
       "        [  1,   3,   4, ...,  47,  41,  49],\n",
       "        [  2,   4,   4, ...,  75,  63,  63],\n",
       "        ...,\n",
       "        [  4,   4,   4, ..., 141, 118,  38],\n",
       "        [  4,   4,   4, ..., 157, 100,  36],\n",
       "        [  4,   4,   4, ..., 151,  81,  21]], dtype=uint8),\n",
       " array([[  2,   2,   1, ...,  57,  71,  84],\n",
       "        [  2,   2,   1, ...,  55,  73,  87],\n",
       "        [  2,   2,   2, ...,  56,  75,  93],\n",
       "        ...,\n",
       "        [  2,   1,   1, ..., 210, 230, 251],\n",
       "        [  2,   1,   1, ..., 212, 240, 254],\n",
       "        [  2,   1,   1, ..., 212, 238, 251]], dtype=uint8),\n",
       " array([[64, 72, 78, ..., 91, 78, 57],\n",
       "        [66, 72, 78, ..., 91, 81, 57],\n",
       "        [65, 69, 72, ..., 92, 81, 55],\n",
       "        ...,\n",
       "        [45, 58, 68, ..., 84, 51,  4],\n",
       "        [34, 51, 61, ..., 87, 51,  3],\n",
       "        [22, 41, 55, ..., 89, 47,  3]], dtype=uint8),\n",
       " array([[198, 194, 182, ...,  16,  16,  15],\n",
       "        [195, 183, 170, ...,  16,  16,  16],\n",
       "        [190, 170, 155, ...,  14,  15,  16],\n",
       "        ...,\n",
       "        [228, 226, 247, ...,  14,  14,  13],\n",
       "        [211, 222, 243, ...,  14,  13,  12],\n",
       "        [148, 229, 249, ...,  13,  12,  13]], dtype=uint8),\n",
       " array([[19, 24, 32, ..., 28, 32, 29],\n",
       "        [19, 24, 31, ..., 22, 36, 30],\n",
       "        [18, 24, 32, ..., 20, 36, 34],\n",
       "        ...,\n",
       "        [20, 16,  7, ..., 12, 22, 12],\n",
       "        [21, 20,  9, ..., 13, 17, 15],\n",
       "        [22, 25, 15, ..., 14, 18, 12]], dtype=uint8),\n",
       " array([[ 5,  5,  5, ..., 75, 77, 75],\n",
       "        [ 5,  4,  5, ..., 82, 85, 85],\n",
       "        [ 5,  5,  5, ..., 79, 84, 91],\n",
       "        ...,\n",
       "        [ 6,  7,  8, ..., 20, 22, 17],\n",
       "        [ 6,  6,  7, ..., 24, 20, 15],\n",
       "        [ 5,  6,  6, ..., 24, 17, 14]], dtype=uint8),\n",
       " array([[ 30,  37,  47, ..., 140, 128, 116],\n",
       "        [ 31,  35,  45, ..., 132, 122, 101],\n",
       "        [ 30,  35,  41, ..., 124, 111,  84],\n",
       "        ...,\n",
       "        [ 18,  17,  16, ...,  95,  79,   6],\n",
       "        [ 18,  20,  18, ..., 102,  78,   6],\n",
       "        [ 16,  22,  21, ..., 108,  74,   4]], dtype=uint8),\n",
       " array([[108, 114, 117, ...,  59,  57,  56],\n",
       "        [112, 111, 111, ...,  54,  54,  56],\n",
       "        [105, 102, 110, ...,  53,  50,  52],\n",
       "        ...,\n",
       "        [ 85,  99, 109, ...,  41,  31,  23],\n",
       "        [ 96,  89, 102, ...,  37,  27,  21],\n",
       "        [108,  95,  94, ...,  32,  23,  21]], dtype=uint8),\n",
       " array([[ 14,  17,  25, ..., 204, 195, 195],\n",
       "        [ 13,  14,  18, ..., 186, 186, 186],\n",
       "        [ 13,  12,  16, ..., 185, 180, 178],\n",
       "        ...,\n",
       "        [ 13,  14,  15, ..., 189, 162,  83],\n",
       "        [ 13,  14,  15, ..., 199, 165,  73],\n",
       "        [ 13,  14,  14, ..., 199, 164,  68]], dtype=uint8),\n",
       " array([[ 23,  18,  12, ...,  96,  87,  73],\n",
       "        [ 23,  31,  29, ..., 101,  90,  82],\n",
       "        [ 30,  35,  43, ..., 103,  95,  92],\n",
       "        ...,\n",
       "        [ 11,  11,  11, ..., 177, 237, 130],\n",
       "        [ 10,  10,  10, ..., 140, 253, 203],\n",
       "        [ 13,  12,   7, ..., 109, 229, 254]], dtype=uint8),\n",
       " array([[  3,   3,   3, ..., 255, 254, 255],\n",
       "        [  3,   3,   3, ..., 255, 254, 255],\n",
       "        [  3,   4,   3, ..., 255, 255, 254],\n",
       "        ...,\n",
       "        [  5,   5,   6, ..., 207, 201, 196],\n",
       "        [  6,   5,   5, ..., 202, 194, 198],\n",
       "        [  6,   5,   5, ..., 185, 183, 197]], dtype=uint8),\n",
       " array([[70, 72, 75, ...,  0,  0,  0],\n",
       "        [76, 78, 84, ...,  2,  1,  0],\n",
       "        [84, 88, 88, ...,  3,  2,  1],\n",
       "        ...,\n",
       "        [76, 84, 93, ...,  1,  0,  0],\n",
       "        [65, 72, 81, ...,  1,  0,  0],\n",
       "        [60, 63, 71, ...,  1,  0,  0]], dtype=uint8),\n",
       " array([[ 29,  32,  42, ...,  51,  46,  44],\n",
       "        [ 31,  32,  43, ...,  53,  45,  46],\n",
       "        [ 29,  32,  36, ...,  49,  45,  42],\n",
       "        ...,\n",
       "        [118, 104,  42, ...,  49,  35,  35],\n",
       "        [116, 112,  46, ...,  40,  36,  38],\n",
       "        [116, 116,  55, ...,  38,  43,  39]], dtype=uint8),\n",
       " array([[ 84,  89, 102, ...,  17,  15,  10],\n",
       "        [ 80,  91, 104, ...,  17,  12,  10],\n",
       "        [ 79,  82,  81, ...,  17,  10,   9],\n",
       "        ...,\n",
       "        [ 99, 100,  85, ...,   8,   8,   8],\n",
       "        [100, 105,  95, ...,   7,   8,   8],\n",
       "        [103, 108, 103, ...,   7,   8,   9]], dtype=uint8),\n",
       " array([[82, 87, 92, ..., 34, 31, 25],\n",
       "        [83, 87, 91, ..., 32, 30, 25],\n",
       "        [84, 89, 90, ..., 33, 28, 24],\n",
       "        ...,\n",
       "        [47, 55, 61, ...,  6,  6,  6],\n",
       "        [41, 46, 55, ...,  6,  6,  8],\n",
       "        [48, 43, 45, ...,  6,  6,  8]], dtype=uint8),\n",
       " array([[ 4, 45, 78, ...,  1,  1,  2],\n",
       "        [ 8, 56, 78, ...,  1,  1,  2],\n",
       "        [15, 65, 83, ...,  2,  1,  1],\n",
       "        ...,\n",
       "        [ 5,  3,  0, ...,  2,  2,  1],\n",
       "        [ 5,  5,  0, ...,  1,  1,  1],\n",
       "        [ 4,  5,  3, ...,  2,  1,  3]], dtype=uint8),\n",
       " array([[ 2,  0,  0, ..., 86, 80, 74],\n",
       "        [ 0,  0,  1, ..., 85, 87, 76],\n",
       "        [ 1,  1,  1, ..., 77, 84, 72],\n",
       "        ...,\n",
       "        [ 1,  5,  2, ...,  0,  0,  0],\n",
       "        [ 1,  5,  2, ...,  0,  0,  0],\n",
       "        [ 1,  5,  2, ...,  0,  0,  0]], dtype=uint8),\n",
       " array([[43, 77, 95, ..., 42, 31, 20],\n",
       "        [60, 80, 94, ..., 42, 30, 21],\n",
       "        [76, 85, 96, ..., 42, 29, 22],\n",
       "        ...,\n",
       "        [56, 45, 48, ...,  9, 18, 46],\n",
       "        [72, 51, 46, ...,  9, 23, 48],\n",
       "        [87, 65, 46, ...,  9, 25, 43]], dtype=uint8),\n",
       " array([[253, 179, 106, ...,   8,  11,  14],\n",
       "        [230, 137,  84, ...,   7,   8,  10],\n",
       "        [192, 132,  99, ...,  10,   9,   8],\n",
       "        ...,\n",
       "        [210, 208, 212, ...,  15,  15,  15],\n",
       "        [196, 192, 206, ...,  15,  14,  14],\n",
       "        [182, 180, 190, ...,  15,  14,  13]], dtype=uint8),\n",
       " array([[137, 138, 133, ...,   9,   8,   8],\n",
       "        [140, 135, 127, ...,   9,   8,   8],\n",
       "        [133, 122, 119, ...,   9,   8,   8],\n",
       "        ...,\n",
       "        [163, 174, 177, ...,  13,  14,  12],\n",
       "        [168, 164, 175, ...,  14,  13,  12],\n",
       "        [175, 169, 167, ...,  14,  12,  11]], dtype=uint8),\n",
       " array([[ 20,  26,  34, ..., 139, 124, 104],\n",
       "        [ 21,  24,  32, ..., 135, 125, 101],\n",
       "        [ 20,  23,  27, ..., 132, 123,  96],\n",
       "        ...,\n",
       "        [ 19,  17,  16, ..., 123,  92,   7],\n",
       "        [ 18,  20,  17, ..., 129,  91,   6],\n",
       "        [ 16,  22,  21, ..., 133,  87,   4]], dtype=uint8),\n",
       " array([[ 16,  15,  18, ...,  97, 130, 137],\n",
       "        [ 11,  11,  11, ...,  68,  91, 111],\n",
       "        [  6,   6,   5, ...,  42,  44,  61],\n",
       "        ...,\n",
       "        [  8,   7,   7, ...,  49,  60, 111],\n",
       "        [  9,   7,   7, ...,  51, 107, 123],\n",
       "        [  8,   8,   7, ...,  92, 126, 121]], dtype=uint8),\n",
       " array([[70, 77, 83, ..., 82, 68, 56],\n",
       "        [67, 73, 84, ..., 80, 70, 57],\n",
       "        [67, 75, 87, ..., 77, 69, 60],\n",
       "        ...,\n",
       "        [31, 40, 43, ..., 61, 52, 41],\n",
       "        [22, 34, 41, ..., 57, 43, 29],\n",
       "        [12, 24, 36, ..., 51, 35, 17]], dtype=uint8),\n",
       " array([[255, 255, 255, ...,  10,  11,  10],\n",
       "        [252, 249, 255, ...,  11,  11,  10],\n",
       "        [250, 243, 253, ...,  11,  10,  11],\n",
       "        ...,\n",
       "        [143, 143, 145, ...,   9,   8,   7],\n",
       "        [142, 150, 146, ...,   9,   7,   6],\n",
       "        [136, 145, 153, ...,   8,   7,   7]], dtype=uint8),\n",
       " array([[146, 148, 163, ...,  12,  12,  12],\n",
       "        [137, 146, 163, ...,  12,  13,  13],\n",
       "        [131, 138, 114, ...,   8,  12,  13],\n",
       "        ...,\n",
       "        [122, 158, 134, ...,   4,   9,  11],\n",
       "        [126, 156, 153, ...,   8,  10,  11],\n",
       "        [129, 154, 152, ...,   9,  10,  11]], dtype=uint8),\n",
       " array([[  1,   1,   2, ...,  69,  78,  83],\n",
       "        [  1,   1,   1, ...,  63,  71,  81],\n",
       "        [  0,   0,   0, ...,  44,  62,  78],\n",
       "        ...,\n",
       "        [  1,   0,   0, ..., 110, 119, 109],\n",
       "        [  1,   0,   0, ..., 122, 118, 111],\n",
       "        [  1,   1,   1, ..., 120, 119, 109]], dtype=uint8),\n",
       " array([[ 9, 10, 12, ..., 49, 31, 14],\n",
       "        [ 8, 10, 10, ..., 59, 41, 17],\n",
       "        [13, 13,  7, ..., 54, 53, 24],\n",
       "        ...,\n",
       "        [ 2,  1,  0, ...,  8,  9, 10],\n",
       "        [ 1,  1,  1, ...,  8,  9,  9],\n",
       "        [ 2,  1,  1, ...,  9,  9,  9]], dtype=uint8),\n",
       " array([[27, 31, 36, ..., 42, 40, 18],\n",
       "        [31, 34, 43, ..., 64, 59, 45],\n",
       "        [31, 37, 44, ..., 78, 64, 53],\n",
       "        ...,\n",
       "        [14, 15, 21, ...,  4,  0,  0],\n",
       "        [17, 14, 15, ...,  4,  0,  0],\n",
       "        [17, 18, 15, ...,  2,  0,  0]], dtype=uint8),\n",
       " array([[ 24,  30,  43, ...,  88,  82,  66],\n",
       "        [ 18,  30,  45, ...,  86,  84,  76],\n",
       "        [ 16,  25,  33, ...,  88,  83,  77],\n",
       "        ...,\n",
       "        [ 37,  39,  31, ..., 104, 104,  88],\n",
       "        [ 42,  46,  41, ..., 111, 102,  85],\n",
       "        [ 45,  50,  50, ..., 118, 103,  85]], dtype=uint8),\n",
       " array([[ 2,  2,  2, ...,  8,  7,  5],\n",
       "        [ 3,  3,  3, ...,  5,  6,  7],\n",
       "        [ 3,  2,  2, ...,  2,  3,  6],\n",
       "        ...,\n",
       "        [ 0,  0,  0, ..., 12, 11,  6],\n",
       "        [ 0,  0,  0, ..., 11,  6,  1],\n",
       "        [ 0,  0,  0, ...,  6,  2,  1]], dtype=uint8),\n",
       " array([[196, 207, 218, ...,  16,  15,  13],\n",
       "        [193, 198, 216, ...,  15,  15,  14],\n",
       "        [193, 206, 224, ...,  16,  15,  14],\n",
       "        ...,\n",
       "        [ 63,  73,  74, ...,   6,   7,   8],\n",
       "        [ 55,  59,  61, ...,   8,   7,   6],\n",
       "        [ 49,  50,  58, ...,   7,   6,   5]], dtype=uint8),\n",
       " array([[ 51,  37,  30, ...,   9,   9,   7],\n",
       "        [ 51,  39,  31, ...,   9,   9,   7],\n",
       "        [ 52,  30,  31, ...,  10,   9,   8],\n",
       "        ...,\n",
       "        [ 13, 100, 103, ...,   0,   0,   0],\n",
       "        [ 14, 101, 111, ...,   0,   0,   0],\n",
       "        [ 15, 101, 109, ...,   0,   0,   0]], dtype=uint8),\n",
       " array([[  2,   2,   3, ..., 112, 109, 124],\n",
       "        [  2,   2,   3, ..., 107, 115, 123],\n",
       "        [  2,   2,   3, ..., 103, 103, 110],\n",
       "        ...,\n",
       "        [  2,   2,   1, ..., 126, 124, 120],\n",
       "        [  1,   1,   1, ..., 126, 121, 130],\n",
       "        [  1,   1,   1, ..., 118, 131, 144]], dtype=uint8),\n",
       " array([[ 49,  47,  46, ...,   0,   0,   0],\n",
       "        [ 51,  46,  44, ...,   1,   0,   0],\n",
       "        [ 55,  51,  42, ...,   2,   0,   0],\n",
       "        ...,\n",
       "        [108, 113, 119, ...,   1,   0,   0],\n",
       "        [ 97, 102, 108, ...,   1,   0,   0],\n",
       "        [ 92,  95, 102, ...,   1,   0,   0]], dtype=uint8),\n",
       " array([[41, 44, 51, ..., 94, 97, 91],\n",
       "        [43, 46, 46, ..., 92, 96, 93],\n",
       "        [39, 43, 43, ..., 92, 92, 92],\n",
       "        ...,\n",
       "        [19, 30, 41, ..., 95, 84, 72],\n",
       "        [16, 23, 34, ..., 85, 74, 65],\n",
       "        [15, 18, 28, ..., 76, 68, 77]], dtype=uint8),\n",
       " array([[124, 128, 136, ...,  32,  30,  20],\n",
       "        [124, 131, 139, ...,  34,  28,  20],\n",
       "        [129, 136, 137, ...,  37,  32,  25],\n",
       "        ...,\n",
       "        [ 24,  34,  40, ...,   7,   6,   7],\n",
       "        [ 14,  20,  29, ...,   7,   6,   7],\n",
       "        [ 25,  12,  18, ...,   6,   6,   8]], dtype=uint8),\n",
       " array([[245, 255, 252, ...,  13,  14,  12],\n",
       "        [255, 255, 255, ...,  15,  14,  14],\n",
       "        [255, 255, 252, ...,  16,  15,  14],\n",
       "        ...,\n",
       "        [120, 116,  77, ...,  11,  10,  11],\n",
       "        [118, 131,  95, ...,  10,  10,  10],\n",
       "        [117, 126, 106, ...,  10,  10,  11]], dtype=uint8),\n",
       " array([[  5,   5,   4, ..., 116, 124, 133],\n",
       "        [  5,   5,   5, ..., 111, 119, 128],\n",
       "        [  5,   4,   5, ..., 109, 118, 130],\n",
       "        ...,\n",
       "        [  4,   4,   5, ..., 149, 152, 164],\n",
       "        [  4,   4,   5, ..., 146, 164, 167],\n",
       "        [  4,   4,   4, ..., 158, 171, 169]], dtype=uint8),\n",
       " array([[ 74,  73,  82, ...,   5,   2,   0],\n",
       "        [ 79,  83,  94, ...,   7,   3,   1],\n",
       "        [ 86,  97, 105, ...,  12,   4,   1],\n",
       "        ...,\n",
       "        [ 65,  73,  83, ...,   1,   0,   0],\n",
       "        [ 54,  61,  71, ...,   1,   0,   0],\n",
       "        [ 50,  52,  61, ...,   1,   0,   0]], dtype=uint8),\n",
       " array([[ 61,  56,  44, ...,  58,  74,  82],\n",
       "        [ 47,  35,  22, ...,  55,  69,  77],\n",
       "        [ 28,  16,  13, ...,  33,  52,  60],\n",
       "        ...,\n",
       "        [105, 116, 124, ..., 142, 133, 123],\n",
       "        [100, 110, 118, ..., 138, 127, 116],\n",
       "        [ 94, 106, 118, ..., 132, 122, 113]], dtype=uint8),\n",
       " array([[ 33,  67,  77, ..., 174, 189, 205],\n",
       "        [ 48,  58,  57, ..., 110, 140, 173],\n",
       "        [ 47,  41,  40, ...,  80, 101, 129],\n",
       "        ...,\n",
       "        [  9,   8,   8, ...,  39,  38,  34],\n",
       "        [  9,   9,   8, ...,  36,  33,  26],\n",
       "        [  9,   8,   8, ...,  34,  28,  20]], dtype=uint8),\n",
       " array([[ 3,  6,  3, ..., 89, 80, 65],\n",
       "        [ 4,  5,  3, ..., 88, 80, 66],\n",
       "        [ 6,  5,  2, ..., 88, 78, 63],\n",
       "        ...,\n",
       "        [ 3,  6,  4, ...,  1,  0,  1],\n",
       "        [ 3,  6,  4, ...,  0,  0,  1],\n",
       "        [ 3,  6,  4, ...,  1,  0,  1]], dtype=uint8),\n",
       " array([[ 15,  20,  25, ..., 101, 102,  98],\n",
       "        [ 10,  15,  20, ...,  98, 100,  98],\n",
       "        [  7,   9,  13, ...,  96,  99,  96],\n",
       "        ...,\n",
       "        [ 38,  39,  47, ...,  96,  53,   5],\n",
       "        [ 45,  48,  50, ...,  97,  49,   2],\n",
       "        [ 50,  56,  58, ...,  93,  43,   0]], dtype=uint8),\n",
       " array([[103,  99,  91, ...,   8,   8,   8],\n",
       "        [102,  93,  82, ...,   8,   8,   8],\n",
       "        [ 91,  80,  71, ...,   8,   8,   8],\n",
       "        ...,\n",
       "        [160, 169, 173, ...,   8,   8,   8],\n",
       "        [161, 161, 169, ...,   8,   7,   8],\n",
       "        [161, 165, 164, ...,   8,   7,   7]], dtype=uint8),\n",
       " array([[61, 75, 80, ..., 84, 70, 66],\n",
       "        [60, 72, 75, ..., 86, 70, 62],\n",
       "        [57, 59, 57, ..., 60, 64, 58],\n",
       "        ...,\n",
       "        [18, 21, 24, ..., 65, 58, 51],\n",
       "        [18, 18, 22, ..., 59, 54, 46],\n",
       "        [13, 18, 19, ..., 56, 51, 44]], dtype=uint8),\n",
       " array([[ 15,   9,  10, ...,   7,   7,   6],\n",
       "        [ 12,   9,  11, ...,   8,   7,   6],\n",
       "        [ 11,  10,  21, ...,   8,   7,   5],\n",
       "        ...,\n",
       "        [  9,  85, 116, ...,   0,   0,   0],\n",
       "        [  9,  85, 115, ...,   0,   0,   0],\n",
       "        [  9,  82, 113, ...,   0,   0,   0]], dtype=uint8),\n",
       " array([[ 0,  0,  2, ...,  2,  3,  3],\n",
       "        [ 0,  1,  2, ...,  3,  2,  3],\n",
       "        [ 0,  1,  2, ...,  3,  2,  4],\n",
       "        ...,\n",
       "        [ 3,  3,  2, ...,  9,  7,  7],\n",
       "        [ 3,  2,  2, ..., 10,  6,  7],\n",
       "        [ 4,  3,  2, ...,  9,  7,  6]], dtype=uint8),\n",
       " array([[ 26, 161, 228, ...,   0,   0,   0],\n",
       "        [ 31, 188, 223, ...,   0,   0,   0],\n",
       "        [ 52, 204, 232, ...,   0,   0,   0],\n",
       "        ...,\n",
       "        [  5,   5,   3, ...,   1,   3,   1],\n",
       "        [  4,   4,   3, ...,   2,   3,   2],\n",
       "        [  4,   5,   6, ...,   5,   5,   2]], dtype=uint8),\n",
       " array([[71, 73, 77, ..., 13, 12, 11],\n",
       "        [72, 73, 78, ..., 13, 13, 11],\n",
       "        [73, 77, 82, ..., 13, 12, 12],\n",
       "        ...,\n",
       "        [61, 71, 71, ..., 30, 22, 20],\n",
       "        [58, 63, 64, ..., 30, 23, 18],\n",
       "        [54, 54, 65, ..., 28, 23, 16]], dtype=uint8),\n",
       " array([[  9,  10,  12, ...,  84, 117, 133],\n",
       "        [  7,   7,   7, ...,  63,  78, 100],\n",
       "        [  3,   4,   5, ...,  46,  46,  59],\n",
       "        ...,\n",
       "        [  9,   7,   7, ...,  75,  90, 138],\n",
       "        [  9,   7,   7, ...,  78, 133, 146],\n",
       "        [  9,   9,   8, ..., 118, 149, 142]], dtype=uint8),\n",
       " array([[ 73,  98, 104, ...,  13,  10,   4],\n",
       "        [ 85,  97, 104, ...,  14,  13,   6],\n",
       "        [ 92, 100, 108, ...,  12,  13,   8],\n",
       "        ...,\n",
       "        [ 16,  11,   7, ...,  21,  18,  20],\n",
       "        [ 19,  13,   8, ...,  21,  17,  24],\n",
       "        [ 18,  17,   9, ...,  19,  18,  22]], dtype=uint8),\n",
       " array([[27, 43, 65, ..., 32, 15, 12],\n",
       "        [30, 50, 72, ..., 39, 17, 12],\n",
       "        [37, 62, 86, ..., 48, 21, 11],\n",
       "        ...,\n",
       "        [ 5,  5,  6, ...,  9, 11,  5],\n",
       "        [ 5,  5,  5, ..., 10, 11,  4],\n",
       "        [ 5,  5,  4, ..., 10, 11,  4]], dtype=uint8),\n",
       " array([[  4,   4,   9, ..., 142,  60,  78],\n",
       "        [  4,   4,   5, ..., 120,  58,  78],\n",
       "        [  4,   4,   4, ...,  87,  53,  71],\n",
       "        ...,\n",
       "        [  4,   5,   5, ..., 145, 140, 141],\n",
       "        [  5,   5,   5, ..., 140, 131, 129],\n",
       "        [  5,   5,   5, ..., 131, 125, 122]], dtype=uint8),\n",
       " array([[50, 52, 59, ..., 24, 29, 23],\n",
       "        [53, 56, 67, ..., 38, 33, 25],\n",
       "        [58, 66, 71, ..., 47, 35, 25],\n",
       "        ...,\n",
       "        [38, 45, 54, ...,  1,  0,  0],\n",
       "        [28, 36, 45, ...,  1,  0,  0],\n",
       "        [21, 27, 36, ...,  0,  0,  0]], dtype=uint8),\n",
       " array([[ 11,  13,  16, ..., 102, 108, 112],\n",
       "        [ 13,  14,  15, ..., 103, 109, 114],\n",
       "        [  9,  10,  12, ..., 109, 108, 113],\n",
       "        ...,\n",
       "        [ 10,  12,  13, ..., 139, 129, 118],\n",
       "        [ 10,  11,  13, ..., 130, 119, 108],\n",
       "        [  9,  10,  13, ..., 123, 105, 104]], dtype=uint8),\n",
       " array([[ 11,  10,   9, ..., 110, 209, 255],\n",
       "        [ 11,  10,   7, ...,  51,  99, 202],\n",
       "        [ 10,   9,   7, ...,  39,  55, 106],\n",
       "        ...,\n",
       "        [  8,   8,   7, ...,  86,  91,  97],\n",
       "        [  8,   8,   7, ...,  83,  89,  95],\n",
       "        [  8,   8,   7, ...,  83,  88,  88]], dtype=uint8),\n",
       " array([[  4,   5,   6, ...,  25,  25,  36],\n",
       "        [  5,   6,   5, ...,  82,  19,  29],\n",
       "        [  6,   4,   2, ..., 176,  75,  15],\n",
       "        ...,\n",
       "        [  0,   0,   5, ..., 222, 230, 234],\n",
       "        [  0,   0,   5, ..., 218, 231, 235],\n",
       "        [  0,   0,   4, ..., 209, 227, 234]], dtype=uint8),\n",
       " array([[ 27,  38,  50, ..., 154, 147, 134],\n",
       "        [ 24,  35,  49, ..., 159, 149, 136],\n",
       "        [ 21,  35,  50, ..., 152, 150, 142],\n",
       "        ...,\n",
       "        [ 14,  17,  23, ...,  92,  81,  94],\n",
       "        [ 14,  16,  20, ...,  81,  93, 105],\n",
       "        [ 14,  15,  18, ...,  87, 106, 112]], dtype=uint8),\n",
       " array([[19, 22, 20, ...,  1,  5,  1],\n",
       "        [15, 22, 16, ...,  2,  6,  4],\n",
       "        [17, 27, 22, ...,  1,  2,  4],\n",
       "        ...,\n",
       "        [ 4,  3,  0, ...,  0,  0,  0],\n",
       "        [ 4,  4,  0, ...,  1,  0,  2],\n",
       "        [ 5,  5,  2, ...,  0,  2,  4]], dtype=uint8),\n",
       " array([[ 84,  74,  59, ...,  17,  17,  16],\n",
       "        [ 88,  82,  68, ...,  17,  17,  17],\n",
       "        [ 95,  99, 114, ...,  17,  17,  16],\n",
       "        ...,\n",
       "        [ 42,  25,  10, ...,  10,  10,   7],\n",
       "        [ 53,  34,  13, ...,   9,   8,   6],\n",
       "        [ 59,  42,  19, ...,   7,   7,   8]], dtype=uint8),\n",
       " array([[ 94,  99, 106, ..., 140, 132, 131],\n",
       "        [ 96,  99,  96, ..., 128, 126, 126],\n",
       "        [ 98,  92,  83, ..., 120, 119, 119],\n",
       "        ...,\n",
       "        [102,  98,  69, ..., 127,  96,  59],\n",
       "        [ 99, 105,  96, ..., 135,  98,  51],\n",
       "        [102, 112, 111, ..., 139,  99,  48]], dtype=uint8),\n",
       " array([[ 43,  57,  71, ..., 123, 108,  91],\n",
       "        [ 42,  56,  73, ..., 122, 108,  88],\n",
       "        [ 42,  56,  72, ..., 122, 106,  88],\n",
       "        ...,\n",
       "        [ 13,  31,  50, ..., 108,  95,  78],\n",
       "        [  9,  17,  39, ...,  97,  86,  63],\n",
       "        [  9,  10,  22, ...,  88,  69,  56]], dtype=uint8),\n",
       " array([[10,  9,  8, ..., 45, 53, 56],\n",
       "        [ 5,  5,  5, ..., 41, 50, 53],\n",
       "        [ 3,  3,  4, ..., 35, 41, 49],\n",
       "        ...,\n",
       "        [23, 26, 32, ..., 68, 62, 51],\n",
       "        [20, 25, 31, ..., 65, 56, 45],\n",
       "        [20, 23, 29, ..., 58, 51, 50]], dtype=uint8),\n",
       " array([[ 93, 108, 118, ...,  11,  10,   9],\n",
       "        [ 94, 103,  90, ...,  11,  11,   9],\n",
       "        [ 80,  63,  51, ...,   7,  10,  10],\n",
       "        ...,\n",
       "        [ 99, 101,  58, ...,   7,   9,  10],\n",
       "        [ 99, 105, 100, ...,   9,  10,  11],\n",
       "        [ 99, 105, 111, ...,   9,   9,  10]], dtype=uint8),\n",
       " array([[115, 120, 126, ...,  13,  10,   9],\n",
       "        [113, 116, 120, ...,  13,  10,   9],\n",
       "        [114, 114, 114, ...,  12,   9,   8],\n",
       "        ...,\n",
       "        [138, 127, 111, ...,  16,  16,  15],\n",
       "        [147, 143, 121, ...,  16,  15,  13],\n",
       "        [148, 151, 132, ...,  16,  13,  13]], dtype=uint8),\n",
       " array([[  6,   6,   6, ..., 228, 212, 197],\n",
       "        [  6,   6,   6, ..., 233, 219, 198],\n",
       "        [  6,   7,   6, ..., 234, 218, 201],\n",
       "        ...,\n",
       "        [  5,   5,   5, ..., 218, 203, 185],\n",
       "        [  4,   5,   5, ..., 203, 194, 167],\n",
       "        [  5,   5,   5, ..., 198, 180, 171]], dtype=uint8),\n",
       " array([[  2,   2,   2, ..., 108, 130, 152],\n",
       "        [  2,   2,   2, ...,  73,  96, 139],\n",
       "        [  3,   2,   1, ...,  65,  72, 104],\n",
       "        ...,\n",
       "        [  3,   3,   3, ..., 180, 167, 158],\n",
       "        [  3,   3,   3, ..., 173, 165, 153],\n",
       "        [  3,   3,   3, ..., 163, 157, 144]], dtype=uint8),\n",
       " array([[80, 80, 84, ..., 63, 52, 41],\n",
       "        [79, 81, 86, ..., 60, 52, 42],\n",
       "        [79, 81, 84, ..., 62, 51, 42],\n",
       "        ...,\n",
       "        [ 4,  5, 14, ...,  6, 12, 15],\n",
       "        [ 4,  4,  5, ..., 11, 13, 14],\n",
       "        [ 4,  4,  4, ..., 14, 13, 14]], dtype=uint8),\n",
       " array([[  4,   4,   4, ..., 238, 242, 241],\n",
       "        [  4,   4,   4, ..., 230, 231, 241],\n",
       "        [  4,   4,   4, ..., 199, 211, 218],\n",
       "        ...,\n",
       "        [  6,   5,   6, ..., 241, 236, 231],\n",
       "        [  7,   6,   6, ..., 235, 230, 231],\n",
       "        [  5,   6,   6, ..., 224, 217, 220]], dtype=uint8),\n",
       " array([[23, 21, 17, ...,  7,  5,  3],\n",
       "        [20, 14, 14, ...,  4,  3,  2],\n",
       "        [12, 10, 13, ...,  1,  1,  2],\n",
       "        ...,\n",
       "        [ 6,  4,  0, ...,  3,  2,  2],\n",
       "        [ 8,  6,  1, ...,  7,  2,  2],\n",
       "        [12,  7,  4, ...,  8,  4,  5]], dtype=uint8),\n",
       " array([[95, 98, 99, ..., 21, 20, 19],\n",
       "        [96, 95, 95, ..., 19, 19, 18],\n",
       "        [91, 91, 93, ..., 17, 17, 16],\n",
       "        ...,\n",
       "        [83, 94, 99, ..., 19, 20, 17],\n",
       "        [89, 85, 96, ..., 22, 19, 15],\n",
       "        [98, 89, 88, ..., 22, 16, 14]], dtype=uint8),\n",
       " array([[ 78,  53,  49, ...,   8,   9,   9],\n",
       "        [ 44,  38,  35, ...,   7,   9,   9],\n",
       "        [ 30,  32,  43, ...,   7,   5,   7],\n",
       "        ...,\n",
       "        [117, 118, 122, ...,   9,   9,  10],\n",
       "        [103, 108, 117, ...,   9,  10,  11],\n",
       "        [108, 105, 112, ...,   9,  10,  11]], dtype=uint8),\n",
       " array([[181, 188, 216, ...,  12,  11,   9],\n",
       "        [173, 193, 215, ...,  12,  12,   9],\n",
       "        [173, 194, 215, ...,  12,  12,  10],\n",
       "        ...,\n",
       "        [142,  96,  78, ...,   9,  11,   6],\n",
       "        [146, 122,  88, ...,   9,  12,   5],\n",
       "        [161, 137, 113, ...,  10,  12,   8]], dtype=uint8),\n",
       " array([[135, 131, 129, ...,   7,   6,   4],\n",
       "        [130, 128, 135, ...,   7,   6,   5],\n",
       "        [131, 137, 145, ...,   6,   6,   5],\n",
       "        ...,\n",
       "        [144, 159, 166, ...,   9,   7,   6],\n",
       "        [133, 143, 155, ...,   8,   6,   5],\n",
       "        [115, 124, 143, ...,   7,   5,   5]], dtype=uint8),\n",
       " array([[107, 108, 112, ...,  18,  18,  16],\n",
       "        [105, 111, 113, ...,  16,  14,  13],\n",
       "        [105, 105, 111, ...,  13,  11,  10],\n",
       "        ...,\n",
       "        [ 85, 102, 115, ...,  16,  17,  16],\n",
       "        [ 85,  87, 102, ...,  17,  17,  15],\n",
       "        [ 96,  80,  91, ...,  17,  16,  16]], dtype=uint8),\n",
       " array([[ 5,  8, 13, ..., 56, 49, 38],\n",
       "        [ 4,  5,  6, ..., 61, 55, 42],\n",
       "        [ 4,  4,  4, ..., 68, 62, 47],\n",
       "        ...,\n",
       "        [38, 49, 54, ..., 97, 63,  5],\n",
       "        [32, 48, 53, ..., 98, 64,  4],\n",
       "        [28, 43, 53, ..., 98, 62,  4]], dtype=uint8),\n",
       " array([[ 67,  89,  98, ..., 175, 157, 143],\n",
       "        [ 68,  97, 107, ..., 172, 154, 138],\n",
       "        [ 74, 103, 116, ..., 164, 153, 140],\n",
       "        ...,\n",
       "        [ 11,  11,  18, ...,  65,  52,  35],\n",
       "        [ 12,  10,  14, ...,  56,  44,  27],\n",
       "        [ 13,  12,  13, ...,  40,  29,  22]], dtype=uint8),\n",
       " array([[  0,   0,   0, ...,   4,   3,   0],\n",
       "        [  0,   0,   0, ...,   3,   5,   2],\n",
       "        [  0,   0,   0, ...,   3,   8,   3],\n",
       "        ...,\n",
       "        [  0,   1,   6, ...,  16,   1,   9],\n",
       "        [  0,   1,   6, ...,  46,  22,  12],\n",
       "        [  0,   2,   5, ..., 119, 165, 156]], dtype=uint8),\n",
       " array([[  5,   5,   5, ..., 246, 219,  89],\n",
       "        [  6,   5,   5, ..., 241, 250, 162],\n",
       "        [  6,   5,   4, ..., 243, 255, 232],\n",
       "        ...,\n",
       "        [  5,   4,   4, ..., 165, 196, 217],\n",
       "        [  5,   5,   4, ..., 154, 185, 218],\n",
       "        [  5,   4,   4, ..., 142, 173, 225]], dtype=uint8),\n",
       " array([[  3,   4,   5, ...,  43,  19,  38],\n",
       "        [  4,   5,   5, ..., 133,  30,  17],\n",
       "        [  5,   4,   2, ..., 182, 107,  20],\n",
       "        ...,\n",
       "        [  0,   0,   5, ..., 211, 221, 219],\n",
       "        [  0,   0,   5, ..., 218, 227, 223],\n",
       "        [  0,   0,   4, ..., 214, 224, 220]], dtype=uint8),\n",
       " array([[78, 88, 97, ..., 92, 73, 61],\n",
       "        [78, 90, 99, ..., 92, 79, 65],\n",
       "        [81, 93, 97, ..., 94, 83, 68],\n",
       "        ...,\n",
       "        [50, 52, 59, ..., 75, 74, 61],\n",
       "        [49, 51, 60, ..., 72, 68, 51],\n",
       "        [39, 48, 57, ..., 68, 58, 45]], dtype=uint8),\n",
       " array([[146, 147, 151, ...,   6,   5,   4],\n",
       "        [148, 151, 154, ...,   6,   5,   5],\n",
       "        [149, 152, 143, ...,   6,   5,   5],\n",
       "        ...,\n",
       "        [ 86,  63,  66, ...,   5,  13,  14],\n",
       "        [ 97,  81,  59, ...,  10,  13,  14],\n",
       "        [ 98,  89,  76, ...,  11,  13,  14]], dtype=uint8),\n",
       " array([[109, 110, 112, ...,   5,   5,   5],\n",
       "        [110, 114, 109, ...,   5,   5,   5],\n",
       "        [112, 103,  94, ...,   6,   6,   5],\n",
       "        ...,\n",
       "        [158, 164, 162, ...,  13,   8,   7],\n",
       "        [163, 168, 161, ...,  15,   9,   7],\n",
       "        [161, 161, 157, ...,  17,  10,   7]], dtype=uint8),\n",
       " array([[ 6, 10, 14, ..., 57, 51, 37],\n",
       "        [ 3,  7,  9, ..., 55, 49, 42],\n",
       "        [ 2,  4,  6, ..., 56, 51, 50],\n",
       "        ...,\n",
       "        [20, 25, 37, ..., 70, 56, 36],\n",
       "        [28, 25, 32, ..., 77, 50, 35],\n",
       "        [33, 30, 29, ..., 75, 42, 21]], dtype=uint8),\n",
       " array([[  6,   8,  11, ..., 170, 168, 161],\n",
       "        [  6,   7,   9, ..., 163, 165, 160],\n",
       "        [  6,   7,   9, ..., 163, 165, 159],\n",
       "        ...,\n",
       "        [  6,   7,   8, ..., 142,  84,   6],\n",
       "        [  6,   6,   8, ..., 146,  78,   3],\n",
       "        [ 14,   8,   7, ..., 141,  68,   0]], dtype=uint8),\n",
       " array([[  0,   0,   0, ...,  12,  11,   8],\n",
       "        [  0,   0,   0, ...,  12,  14,  12],\n",
       "        [  0,   0,   0, ...,   9,  15,  13],\n",
       "        ...,\n",
       "        [  0,   1,   8, ...,  21,   6,  15],\n",
       "        [  0,   1,   8, ...,  47,  20,  19],\n",
       "        [  0,   3,   8, ..., 112, 104, 106]], dtype=uint8),\n",
       " array([[135, 138, 144, ...,  61,  48,  40],\n",
       "        [129, 134, 147, ...,  57,  48,  40],\n",
       "        [130, 141, 156, ...,  53,  47,  41],\n",
       "        ...,\n",
       "        [ 98, 114, 119, ...,  52,  39,  23],\n",
       "        [ 85, 101, 112, ...,  49,  29,  13],\n",
       "        [ 67,  82, 102, ...,  39,  19,   8]], dtype=uint8),\n",
       " array([[ 68,  78,  83, ...,  96,  79,  67],\n",
       "        [ 68,  79,  82, ..., 100,  84,  71],\n",
       "        [ 70,  81,  80, ..., 104,  90,  77],\n",
       "        ...,\n",
       "        [ 44,  49,  56, ..., 105,  96,  82],\n",
       "        [ 43,  49,  55, ..., 100,  87,  68],\n",
       "        [ 38,  46,  52, ...,  92,  78,  61]], dtype=uint8),\n",
       " array([[  1,   1,   2, ..., 125, 125, 127],\n",
       "        [  1,   1,   2, ..., 118, 125, 127],\n",
       "        [  1,   1,   2, ..., 109, 121, 125],\n",
       "        ...,\n",
       "        [  5,   9,  17, ..., 190, 183, 179],\n",
       "        [  5,  10,  18, ..., 188, 183, 179],\n",
       "        [  5,  11,  18, ..., 187, 181, 171]], dtype=uint8),\n",
       " array([[  6,  13,  22, ..., 140, 131, 131],\n",
       "        [  6,  11,  21, ..., 138, 132, 132],\n",
       "        [  6,   9,  17, ..., 136, 130, 129],\n",
       "        ...,\n",
       "        [ 11,  16,  22, ..., 109,  98,  92],\n",
       "        [ 11,  14,  18, ...,  90,  90, 109],\n",
       "        [ 10,  12,  14, ...,  85, 114, 124]], dtype=uint8),\n",
       " array([[  5,   6,   6, ..., 161, 190, 160],\n",
       "        [  6,   6,   6, ..., 158, 192, 175],\n",
       "        [  6,   7,   6, ..., 149, 190, 195],\n",
       "        ...,\n",
       "        [  3,   2,   2, ..., 224, 228,  87],\n",
       "        [  2,   2,   1, ..., 229, 227,  72],\n",
       "        [  2,   2,   1, ..., 239, 226,  59]], dtype=uint8),\n",
       " array([[108, 130, 143, ...,  10,   9,   7],\n",
       "        [155, 157, 146, ...,   7,   9,   9],\n",
       "        [167, 149, 125, ...,   4,   5,   8],\n",
       "        ...,\n",
       "        [ 15,  11,  30, ...,  16,  14,   9],\n",
       "        [  8,  15,  11, ...,  15,  10,   4],\n",
       "        [  4,  14,  14, ...,  11,   7,   3]], dtype=uint8),\n",
       " array([[ 24,  32,  54, ..., 140, 125, 104],\n",
       "        [ 22,  32,  55, ..., 136, 116,  98],\n",
       "        [ 21,  30,  58, ..., 139, 113, 104],\n",
       "        ...,\n",
       "        [  7,   8,   9, ...,  76,  97,  58],\n",
       "        [  6,   7,   8, ...,  93, 103,  52],\n",
       "        [  6,   6,   7, ..., 103, 108,  48]], dtype=uint8),\n",
       " array([[ 49,  37,  32, ...,  41,  38,  48],\n",
       "        [ 35,  28,  35, ...,  43,  36,  36],\n",
       "        [ 31,  45,  63, ...,  60,  49,  37],\n",
       "        ...,\n",
       "        [111, 117, 120, ..., 109, 107, 105],\n",
       "        [106, 111, 116, ..., 105, 101,  96],\n",
       "        [102, 105, 109, ..., 101,  95,  89]], dtype=uint8),\n",
       " array([[  3,   3,   3, ...,  24,  48,  66],\n",
       "        [  3,   3,   3, ...,  24,  44,  63],\n",
       "        [  3,   3,   3, ...,  31,  47,  59],\n",
       "        ...,\n",
       "        [  5,   5,   6, ...,  38,  33,  59],\n",
       "        [  5,   5,   6, ...,  31,  50,  96],\n",
       "        [  5,   5,   4, ...,  46,  83, 109]], dtype=uint8),\n",
       " array([[ 19,  34,  51, ..., 151, 126, 105],\n",
       "        [ 66,  89,  95, ..., 104, 117, 113],\n",
       "        [ 79,  88,  82, ...,  51,  65,  89],\n",
       "        ...,\n",
       "        [  0,   0,   3, ...,  63,  45,  25],\n",
       "        [  0,   0,   0, ...,  44,  24,  11],\n",
       "        [  0,   0,   0, ...,  21,  11,  21]], dtype=uint8),\n",
       " array([[ 6,  6,  6, ..., 83, 87, 78],\n",
       "        [ 7,  6,  7, ..., 79, 75, 69],\n",
       "        [ 7,  6,  6, ..., 75, 81, 77],\n",
       "        ...,\n",
       "        [ 6,  6,  6, ..., 11, 12,  2],\n",
       "        [ 6,  6,  6, ..., 12, 12,  1],\n",
       "        [ 6,  5,  5, ..., 12, 11,  1]], dtype=uint8),\n",
       " array([[ 40,  46,  51, ...,  94,  86,  74],\n",
       "        [ 40,  48,  52, ...,  99,  88,  78],\n",
       "        [ 38,  46,  49, ..., 105,  91,  83],\n",
       "        ...,\n",
       "        [ 21,  40,  54, ...,  85,  77,  17],\n",
       "        [ 16,  29,  48, ...,  94,  78,  16],\n",
       "        [ 14,  20,  39, ...,  99,  77,  15]], dtype=uint8),\n",
       " array([[2, 3, 0, ..., 0, 0, 0],\n",
       "        [3, 1, 0, ..., 0, 0, 0],\n",
       "        [3, 0, 1, ..., 0, 0, 0],\n",
       "        ...,\n",
       "        [4, 0, 0, ..., 0, 0, 0],\n",
       "        [3, 1, 0, ..., 0, 0, 0],\n",
       "        [2, 3, 0, ..., 0, 0, 0]], dtype=uint8),\n",
       " array([[  4,   4,   4, ..., 171, 180, 193],\n",
       "        [  4,   4,   4, ..., 166, 183, 194],\n",
       "        [  5,   4,   5, ..., 170, 185, 194],\n",
       "        ...,\n",
       "        [  4,   3,   3, ..., 186,  97,   1],\n",
       "        [  4,   4,   3, ..., 186,  86,   0],\n",
       "        [  5,   4,   4, ..., 175,  75,   0]], dtype=uint8),\n",
       " array([[173, 177, 178, ...,  22,  11,   9],\n",
       "        [167, 174, 179, ...,  20,  12,   9],\n",
       "        [168, 176, 178, ...,  20,  13,  10],\n",
       "        ...,\n",
       "        [104, 107, 116, ...,  10,   9,   9],\n",
       "        [ 97, 107, 114, ...,   9,   9,   8],\n",
       "        [ 92, 104, 116, ...,   9,   8,   8]], dtype=uint8),\n",
       " array([[ 6,  9,  8, ..., 55, 47, 37],\n",
       "        [ 6,  8, 12, ..., 54, 47, 37],\n",
       "        [ 7,  8, 13, ..., 55, 45, 35],\n",
       "        ...,\n",
       "        [ 4,  7,  4, ...,  1,  0,  1],\n",
       "        [ 4,  7,  4, ...,  1,  0,  1],\n",
       "        [ 4,  7,  4, ...,  0,  1,  1]], dtype=uint8),\n",
       " array([[ 4,  7,  6, ..., 10, 12,  4],\n",
       "        [ 4,  6,  7, ..., 10, 14,  7],\n",
       "        [ 3,  6,  7, ..., 10, 19, 12],\n",
       "        ...,\n",
       "        [ 1,  2, 11, ..., 12,  3,  7],\n",
       "        [ 1,  2, 11, ..., 31,  5,  4],\n",
       "        [ 1,  6, 12, ..., 69, 38, 38]], dtype=uint8),\n",
       " array([[20, 23, 25, ...,  8,  8,  6],\n",
       "        [20, 24, 23, ...,  8,  8,  6],\n",
       "        [20, 23, 23, ...,  9,  7,  6],\n",
       "        ...,\n",
       "        [ 7, 60, 82, ...,  0,  0,  0],\n",
       "        [ 7, 59, 84, ...,  0,  0,  0],\n",
       "        [ 7, 57, 83, ...,  0,  1,  0]], dtype=uint8),\n",
       " array([[  6,   5,   5, ..., 137, 134, 133],\n",
       "        [  6,   5,   5, ..., 132, 133, 133],\n",
       "        [  6,   5,   6, ..., 115, 126, 133],\n",
       "        ...,\n",
       "        [  4,   5,   6, ..., 160, 147, 102],\n",
       "        [  5,   4,   6, ..., 140, 109,  71],\n",
       "        [  5,   4,   6, ..., 114,  90,  95]], dtype=uint8),\n",
       " array([[  3,   4,   6, ...,  60,  64,  64],\n",
       "        [  4,   4,   5, ...,  53,  59,  64],\n",
       "        [  4,   5,   6, ...,  38,  50,  57],\n",
       "        ...,\n",
       "        [ 35,  44,  51, ..., 111, 103, 108],\n",
       "        [ 35,  42,  50, ..., 109, 109, 109],\n",
       "        [ 37,  41,  49, ..., 111, 118, 111]], dtype=uint8),\n",
       " array([[100, 107, 115, ...,  34,  21,  15],\n",
       "        [102, 105, 115, ...,  34,  22,  15],\n",
       "        [102, 111, 121, ...,  34,  20,  16],\n",
       "        ...,\n",
       "        [ 42,  49,  54, ...,  11,   9,   7],\n",
       "        [ 37,  39,  46, ...,   9,   9,   6],\n",
       "        [ 30,  34,  41, ...,   8,   6,   4]], dtype=uint8),\n",
       " array([[  7,   7,   7, ..., 226, 253, 253],\n",
       "        [  7,   7,   7, ..., 238, 255, 255],\n",
       "        [  7,   7,   7, ..., 239, 255, 255],\n",
       "        ...,\n",
       "        [  5,   5,   6, ..., 237, 230, 216],\n",
       "        [  6,   5,   6, ..., 229, 227, 201],\n",
       "        [  8,   5,   5, ..., 226, 215, 211]], dtype=uint8),\n",
       " array([[ 74,  73,  63, ...,   7,  16,   8],\n",
       "        [ 74,  72,  63, ...,   8,  17,   8],\n",
       "        [ 71,  62,  58, ...,  15,  25,   7],\n",
       "        ...,\n",
       "        [103, 111, 114, ...,  32,  30,  32],\n",
       "        [103, 110, 112, ...,  35,  34,  34],\n",
       "        [105, 111, 113, ...,  37,  39,  38]], dtype=uint8),\n",
       " array([[  2,   2,   2, ..., 154, 167, 180],\n",
       "        [  2,   2,   2, ..., 112, 133, 170],\n",
       "        [  2,   2,   1, ...,  82, 104, 136],\n",
       "        ...,\n",
       "        [  3,   3,   3, ..., 168, 157, 152],\n",
       "        [  3,   2,   2, ..., 160, 154, 150],\n",
       "        [  3,   3,   3, ..., 153, 150, 141]], dtype=uint8),\n",
       " array([[138, 137, 112, ...,  53,  64,  67],\n",
       "        [124,  96,  65, ...,  44,  55,  59],\n",
       "        [ 84,  51,  38, ...,  27,  36,  44],\n",
       "        ...,\n",
       "        [175, 183, 186, ..., 114, 100,  85],\n",
       "        [170, 176, 182, ..., 107,  92,  77],\n",
       "        [158, 167, 181, ...,  96,  80,  68]], dtype=uint8),\n",
       " array([[  5,   6,   5, ..., 106, 115, 117],\n",
       "        [  5,   5,   5, ..., 116, 124, 124],\n",
       "        [  6,   6,   5, ..., 117, 130, 130],\n",
       "        ...,\n",
       "        [  4,   4,   4, ..., 201, 194, 178],\n",
       "        [  5,   4,   5, ..., 195, 198, 179],\n",
       "        [  7,   4,   4, ..., 202, 195, 179]], dtype=uint8),\n",
       " array([[77, 84, 89, ..., 60, 48, 43],\n",
       "        [78, 88, 91, ..., 62, 50, 46],\n",
       "        [79, 87, 88, ..., 61, 52, 48],\n",
       "        ...,\n",
       "        [60, 70, 87, ..., 41, 19,  5],\n",
       "        [68, 68, 73, ..., 31, 29,  4],\n",
       "        [71, 84, 73, ..., 51, 33,  3]], dtype=uint8),\n",
       " array([[  7,   7,   7, ..., 254, 255, 255],\n",
       "        [  6,   8,   7, ..., 255, 255, 255],\n",
       "        [  7,   7,   7, ..., 254, 255, 255],\n",
       "        ...,\n",
       "        [  5,   5,   5, ..., 144, 144, 140],\n",
       "        [  5,   5,   5, ..., 140, 145, 134],\n",
       "        [  8,   4,   4, ..., 139, 138, 146]], dtype=uint8),\n",
       " array([[57, 59, 63, ..., 89, 82, 77],\n",
       "        [57, 61, 65, ..., 89, 84, 77],\n",
       "        [58, 62, 66, ..., 92, 85, 79],\n",
       "        ...,\n",
       "        [10, 18, 23, ..., 33, 30, 20],\n",
       "        [ 7, 10, 18, ..., 29, 20,  9],\n",
       "        [ 5,  8, 12, ..., 21,  9,  8]], dtype=uint8),\n",
       " array([[178, 180, 183, ...,   6,   6,   5],\n",
       "        [180, 180, 179, ...,   6,   6,   5],\n",
       "        [181, 182, 175, ...,   6,   6,   6],\n",
       "        ...,\n",
       "        [108,  85,  91, ...,   5,  10,  11],\n",
       "        [120, 100,  79, ...,   8,  11,  11],\n",
       "        [121, 108,  93, ...,   9,  10,  11]], dtype=uint8),\n",
       " array([[110, 120, 134, ...,  83,  66,  64],\n",
       "        [108, 117, 133, ...,  81,  67,  63],\n",
       "        [108, 123, 138, ...,  77,  66,  61],\n",
       "        ...,\n",
       "        [ 24,  35,  38, ...,  29,  24,  17],\n",
       "        [ 18,  25,  29, ...,  29,  18,  13],\n",
       "        [ 13,  18,  27, ...,  20,  11,   7]], dtype=uint8),\n",
       " array([[144, 167, 188, ...,  12,  11,   7],\n",
       "        [142, 168, 186, ...,  13,  10,   8],\n",
       "        [143, 165, 186, ...,  12,  11,   9],\n",
       "        ...,\n",
       "        [112,  73,  62, ...,  10,  11,   4],\n",
       "        [121, 102,  69, ...,  10,  11,   4],\n",
       "        [135, 122,  96, ...,  11,  12,   9]], dtype=uint8),\n",
       " array([[148, 154, 159, ...,   5,   5,   5],\n",
       "        [155, 158, 161, ...,   5,   5,   5],\n",
       "        [160, 167, 170, ...,   4,   5,   5],\n",
       "        ...,\n",
       "        [ 75,  45,  45, ...,   2,   6,   5],\n",
       "        [ 85,  60,  35, ...,   5,   5,   4],\n",
       "        [ 87,  69,  47, ...,   4,   4,   4]], dtype=uint8),\n",
       " array([[25, 28, 31, ..., 38, 44, 41],\n",
       "        [27, 28, 34, ..., 53, 48, 43],\n",
       "        [26, 28, 33, ..., 62, 50, 44],\n",
       "        ...,\n",
       "        [25, 31, 38, ...,  3,  0,  0],\n",
       "        [19, 25, 31, ...,  3,  0,  0],\n",
       "        [15, 20, 25, ...,  2,  0,  0]], dtype=uint8),\n",
       " array([[33, 44, 51, ..., 93, 82, 76],\n",
       "        [34, 46, 52, ..., 93, 84, 81],\n",
       "        [34, 45, 49, ..., 90, 86, 83],\n",
       "        ...,\n",
       "        [10, 22, 39, ..., 81, 72, 29],\n",
       "        [ 9, 11, 25, ..., 81, 78, 23],\n",
       "        [12, 11, 12, ..., 96, 76, 18]], dtype=uint8),\n",
       " array([[ 88, 106, 114, ..., 138, 123, 113],\n",
       "        [ 90, 109, 116, ..., 134, 122, 111],\n",
       "        [ 89, 105,  98, ..., 125, 117, 111],\n",
       "        ...,\n",
       "        [ 18,  25,  45, ..., 105,  88,  55],\n",
       "        [ 30,  17,  34, ...,  89,  63,  45],\n",
       "        [ 36,  31,  24, ...,  68,  53,  55]], dtype=uint8),\n",
       " array([[222, 195, 182, ...,  14,  14,  13],\n",
       "        [214, 183, 184, ...,  14,  14,  14],\n",
       "        [199, 190, 194, ...,  14,  14,  13],\n",
       "        ...,\n",
       "        [150, 103,  99, ...,  13,  15,   3],\n",
       "        [186, 132,  95, ...,  15,  14,   1],\n",
       "        [194, 165, 118, ...,  16,  14,   1]], dtype=uint8),\n",
       " array([[ 66,  64,  57, ...,   0,   0,   0],\n",
       "        [ 69,  53,  34, ...,   1,   0,   0],\n",
       "        [ 58,  33,  22, ...,   5,   1,   0],\n",
       "        ...,\n",
       "        [  0,   7, 100, ...,   7,   8,   9],\n",
       "        [  0,   3,  87, ...,   8,   8,   8],\n",
       "        [  0,   1,  76, ...,   8,   8,   8]], dtype=uint8),\n",
       " array([[14, 26, 19, ..., 54, 47, 39],\n",
       "        [16, 22, 12, ..., 53, 48, 39],\n",
       "        [20, 17,  7, ..., 52, 47, 38],\n",
       "        ...,\n",
       "        [ 1, 12, 17, ...,  1,  0,  1],\n",
       "        [ 1, 12, 29, ...,  0,  0,  1],\n",
       "        [ 1, 12, 27, ...,  0,  0,  1]], dtype=uint8),\n",
       " array([[  4,   4,   4, ..., 202, 184, 167],\n",
       "        [  4,   4,   4, ..., 207, 190, 175],\n",
       "        [  4,   4,   4, ..., 210, 195, 183],\n",
       "        ...,\n",
       "        [  4,   4,   4, ..., 184, 169, 156],\n",
       "        [  4,   4,   4, ..., 174, 157, 138],\n",
       "        [  4,   5,   4, ..., 159, 148, 130]], dtype=uint8),\n",
       " array([[195, 191, 196, ...,  12,  10,  11],\n",
       "        [190, 188, 189, ...,  12,  11,  11],\n",
       "        [189, 186, 193, ...,  12,  12,  12],\n",
       "        ...,\n",
       "        [115, 125, 131, ...,   7,   7,   8],\n",
       "        [107, 111, 120, ...,   6,   7,  10],\n",
       "        [129, 106, 106, ...,   6,   9,  10]], dtype=uint8),\n",
       " array([[254, 255, 255, ...,  14,  15,  15],\n",
       "        [253, 255, 255, ...,  15,  14,  15],\n",
       "        [247, 253, 255, ...,  13,  14,  15],\n",
       "        ...,\n",
       "        [187, 169, 171, ...,  15,  15,  14],\n",
       "        [172, 169, 171, ...,  15,  14,  14],\n",
       "        [116, 176, 180, ...,  14,  13,  12]], dtype=uint8),\n",
       " array([[  0,   2,   3, ...,  94,  88,  65],\n",
       "        [  1,   2,   3, ...,  93,  87,  76],\n",
       "        [  2,   3,   4, ...,  94,  91,  90],\n",
       "        ...,\n",
       "        [  2,   2,   6, ..., 130, 104,  40],\n",
       "        [  3,   3,   4, ..., 141,  89,  36],\n",
       "        [  3,   3,   3, ..., 137,  73,  20]], dtype=uint8),\n",
       " array([[  6,   5,   5, ..., 126, 111,  98],\n",
       "        [  6,   5,   5, ..., 134, 115, 103],\n",
       "        [  6,   5,   5, ..., 137, 123, 111],\n",
       "        ...,\n",
       "        [  5,   5,   6, ..., 158, 144, 129],\n",
       "        [  5,   5,   6, ..., 149, 134, 112],\n",
       "        [  5,   5,   5, ..., 136, 125, 105]], dtype=uint8),\n",
       " array([[ 0,  0,  0, ..., 54, 65, 53],\n",
       "        [ 0,  0,  0, ..., 71, 74, 76],\n",
       "        [ 0,  0,  0, ..., 77, 79, 85],\n",
       "        ...,\n",
       "        [ 0,  1,  1, ...,  9,  0,  0],\n",
       "        [ 1,  0,  0, ...,  8,  0,  0],\n",
       "        [ 0,  1,  0, ...,  5,  0,  0]], dtype=uint8),\n",
       " array([[ 81,  96,  98, ...,  86,  72,  68],\n",
       "        [ 81,  96, 103, ...,  83,  69,  67],\n",
       "        [ 83,  93,  98, ...,  79,  71,  72],\n",
       "        ...,\n",
       "        [ 12,  14,  14, ...,  14,  15,   4],\n",
       "        [ 10,  12,  14, ...,  15,  14,   2],\n",
       "        [ 10,   9,  13, ...,  15,  14,   2]], dtype=uint8),\n",
       " array([[ 12,  15,  23, ..., 130, 125, 123],\n",
       "        [ 11,  16,  25, ..., 131, 124, 124],\n",
       "        [ 15,  22,  32, ..., 135, 127, 123],\n",
       "        ...,\n",
       "        [ 14,  14,  13, ...,  72,  63,  81],\n",
       "        [ 11,  16,  15, ...,  63,  70,  92],\n",
       "        [  9,  13,  17, ...,  63,  83,  97]], dtype=uint8),\n",
       " array([[12, 16,  7, ...,  9,  8,  7],\n",
       "        [10, 10,  8, ..., 10,  9,  7],\n",
       "        [ 8,  7, 10, ...,  9,  9,  8],\n",
       "        ...,\n",
       "        [ 4,  4,  4, ...,  8,  9,  8],\n",
       "        [ 4,  4,  4, ...,  9,  8,  7],\n",
       "        [ 4,  4,  4, ...,  8,  7,  6]], dtype=uint8),\n",
       " array([[  0,   2,   3, ...,  32,  20,  10],\n",
       "        [  1,   2,   3, ...,  34,  30,  12],\n",
       "        [  2,   3,   3, ...,  52,  32,  14],\n",
       "        ...,\n",
       "        [  4,   3,   3, ..., 124, 134,  43],\n",
       "        [  3,   3,   3, ..., 141, 115,  38],\n",
       "        [  3,   3,   3, ..., 140,  95,  21]], dtype=uint8),\n",
       " array([[63, 78, 86, ..., 22, 36, 27],\n",
       "        [68, 77, 86, ..., 20, 35, 26],\n",
       "        [72, 79, 90, ..., 13, 31, 29],\n",
       "        ...,\n",
       "        [22, 21, 23, ..., 18, 20, 17],\n",
       "        [29, 24, 26, ..., 16, 19, 20],\n",
       "        [36, 26, 25, ..., 14, 17, 19]], dtype=uint8),\n",
       " array([[ 48,  70,  84, ..., 112,  97,  81],\n",
       "        [ 65,  78,  83, ...,  71,  83,  87],\n",
       "        [ 64,  66,  60, ...,  47,  50,  64],\n",
       "        ...,\n",
       "        [  7,   5,  12, ..., 118,  99,  75],\n",
       "        [  7,   9,   8, ..., 102,  82,  75],\n",
       "        [  3,  11,  12, ...,  89,  97,  79]], dtype=uint8),\n",
       " array([[42, 44, 51, ..., 30, 31, 28],\n",
       "        [46, 49, 57, ..., 41, 34, 29],\n",
       "        [49, 54, 59, ..., 48, 37, 29],\n",
       "        ...,\n",
       "        [41, 48, 57, ...,  2,  0,  0],\n",
       "        [34, 40, 48, ...,  2,  0,  0],\n",
       "        [29, 33, 42, ...,  1,  0,  0]], dtype=uint8),\n",
       " array([[  5,   6,   7, ..., 113,  52,  52],\n",
       "        [  5,   5,   5, ..., 141,  50,  56],\n",
       "        [  5,   5,   5, ..., 169,  53,  58],\n",
       "        ...,\n",
       "        [  6,   5,   5, ..., 177, 175, 176],\n",
       "        [  5,   5,   5, ..., 172, 162, 162],\n",
       "        [  5,   5,   6, ..., 160, 151, 149]], dtype=uint8),\n",
       " array([[110, 129, 122, ...,  11,  13,  14],\n",
       "        [107, 101,  80, ...,   9,  12,  14],\n",
       "        [ 84,  62,  39, ...,   5,   9,  11],\n",
       "        ...,\n",
       "        [ 21,  18,  16, ...,  16,  16,  15],\n",
       "        [ 24,  21,  19, ...,  16,  15,  15],\n",
       "        [ 29,  25,  22, ...,  16,  15,  15]], dtype=uint8),\n",
       " array([[222, 229, 248, ...,   1,   0,   0],\n",
       "        [226, 225, 222, ...,   6,   2,   0],\n",
       "        [220, 190, 117, ...,   9,   4,   0],\n",
       "        ...,\n",
       "        [  1,   1, 155, ...,  12,  13,  12],\n",
       "        [  1,   0, 130, ...,  12,  13,  13],\n",
       "        [  1,   0, 110, ...,  12,  13,  13]], dtype=uint8),\n",
       " array([[0, 0, 0, ..., 0, 0, 0],\n",
       "        [0, 0, 2, ..., 1, 0, 0],\n",
       "        [0, 0, 0, ..., 3, 1, 1],\n",
       "        ...,\n",
       "        [6, 6, 5, ..., 0, 0, 0],\n",
       "        [7, 6, 5, ..., 1, 0, 0],\n",
       "        [5, 6, 6, ..., 0, 0, 0]], dtype=uint8),\n",
       " array([[101, 107, 111, ...,  29,  25,  21],\n",
       "        [103, 108, 106, ...,  25,  22,  19],\n",
       "        [100,  99, 100, ...,  19,  17,  16],\n",
       "        ...,\n",
       "        [112, 117, 116, ...,  25,  19,  13],\n",
       "        [115, 118, 111, ...,  25,  17,  11],\n",
       "        [111, 113, 111, ...,  23,  16,  10]], dtype=uint8),\n",
       " array([[125, 127, 125, ...,  11,  10,  10],\n",
       "        [122, 122, 118, ...,  11,  11,  10],\n",
       "        [118, 116, 115, ...,  12,  12,  11],\n",
       "        ...,\n",
       "        [129, 136, 137, ...,   6,   5,   6],\n",
       "        [114, 123, 128, ...,   6,   5,   7],\n",
       "        [128, 115, 116, ...,   4,   6,   8]], dtype=uint8),\n",
       " array([[72, 83, 91, ..., 97, 85, 70],\n",
       "        [70, 83, 92, ..., 97, 86, 69],\n",
       "        [72, 83, 93, ..., 93, 89, 71],\n",
       "        ...,\n",
       "        [67, 62, 45, ..., 45, 33, 56],\n",
       "        [74, 74, 62, ..., 34, 57, 67],\n",
       "        [79, 82, 77, ..., 53, 73, 71]], dtype=uint8),\n",
       " array([[ 29,  36,  49, ...,  66,  65,  56],\n",
       "        [ 31,  39,  52, ...,  69,  62,  64],\n",
       "        [ 28,  38,  32, ...,  67,  62,  60],\n",
       "        ...,\n",
       "        [118,  62,  23, ...,  49,  41,  43],\n",
       "        [118,  74,  14, ...,  42,  47,  44],\n",
       "        [117,  87,  16, ...,  49,  52,  45]], dtype=uint8),\n",
       " array([[0, 0, 0, ..., 0, 0, 1],\n",
       "        [1, 0, 0, ..., 0, 0, 0],\n",
       "        [6, 0, 0, ..., 0, 0, 0],\n",
       "        ...,\n",
       "        [0, 0, 0, ..., 0, 0, 0],\n",
       "        [0, 0, 0, ..., 0, 0, 0],\n",
       "        [0, 0, 0, ..., 0, 0, 0]], dtype=uint8),\n",
       " array([[  3,   2,   3, ...,  71,  70,  89],\n",
       "        [  2,   2,   3, ...,  66,  71,  88],\n",
       "        [  2,   3,   3, ...,  61,  62,  73],\n",
       "        ...,\n",
       "        [  1,   1,   1, ..., 181, 180, 174],\n",
       "        [  1,   1,   1, ..., 175, 170, 179],\n",
       "        [  1,   0,   0, ..., 169, 183, 197]], dtype=uint8),\n",
       " array([[96, 94, 96, ..., 19, 13, 10],\n",
       "        [96, 95, 94, ..., 15, 11,  8],\n",
       "        [96, 91, 82, ..., 13,  9,  6],\n",
       "        ...,\n",
       "        [67, 58, 65, ...,  4, 13, 15],\n",
       "        [77, 68, 59, ..., 11, 14, 16],\n",
       "        [79, 76, 71, ..., 15, 14, 15]], dtype=uint8),\n",
       " array([[  2,   3,   3, ...,  73,  78,  85],\n",
       "        [  2,   2,   3, ...,  61,  69,  84],\n",
       "        [  2,   3,   4, ...,  48,  57,  70],\n",
       "        ...,\n",
       "        [  5,   3,   3, ..., 220, 215, 210],\n",
       "        [  5,   3,   3, ..., 222, 209, 208],\n",
       "        [  3,   4,   3, ..., 212, 199, 191]], dtype=uint8),\n",
       " array([[ 0,  0,  0, ..., 52, 68, 64],\n",
       "        [ 0,  0,  0, ..., 77, 79, 73],\n",
       "        [ 0,  0,  0, ..., 86, 83, 77],\n",
       "        ...,\n",
       "        [ 3,  3,  3, ..., 11,  0,  0],\n",
       "        [ 3,  3,  3, ...,  9,  0,  0],\n",
       "        [ 3,  4,  3, ...,  8,  0,  0]], dtype=uint8),\n",
       " array([[  1,   1,   1, ..., 131, 111,  86],\n",
       "        [  1,   1,   1, ..., 126, 117,  89],\n",
       "        [  1,   1,   1, ..., 124, 113,  97],\n",
       "        ...,\n",
       "        [  0,   0,   1, ...,   0,   0,   0],\n",
       "        [  0,   0,   1, ...,   0,   0,   0],\n",
       "        [  0,   0,   1, ...,   0,   0,   0]], dtype=uint8),\n",
       " array([[  1,   1,   1, ..., 124, 110,  98],\n",
       "        [  1,   1,   1, ..., 125, 115, 106],\n",
       "        [  1,   1,   1, ..., 126, 122, 112],\n",
       "        ...,\n",
       "        [  2,   5,   8, ...,   5,   4,   2],\n",
       "        [  4,   6,   8, ...,   4,   2,   3],\n",
       "        [  5,   8,  10, ...,   1,   1,   2]], dtype=uint8),\n",
       " array([[ 71,  68,  72, ...,  20,  22,  22],\n",
       "        [ 60,  57,  75, ...,  20,  21,  22],\n",
       "        [ 64,  76, 110, ...,  21,  22,  22],\n",
       "        ...,\n",
       "        [ 16,  33,  32, ...,  22,  22,  31],\n",
       "        [ 16,  38,  36, ...,  22,  23,  28],\n",
       "        [ 19,  41,  38, ...,  22,  23,  27]], dtype=uint8),\n",
       " array([[ 35,  15,  11, ...,   0,   0,   0],\n",
       "        [ 27,  18,  14, ...,   0,   0,   0],\n",
       "        [ 19,  33,  21, ...,   0,   0,   0],\n",
       "        ...,\n",
       "        [ 15,  29, 173, ...,   2,   0,   0],\n",
       "        [ 17,  30, 170, ...,   5,   2,   1],\n",
       "        [ 21,  50, 169, ...,  12,  13,  13]], dtype=uint8),\n",
       " array([[64, 44, 42, ..., 43, 60, 68],\n",
       "        [31, 27, 26, ..., 29, 34, 45],\n",
       "        [18, 21, 31, ..., 21, 18, 20],\n",
       "        ...,\n",
       "        [51, 56, 60, ..., 22, 14, 11],\n",
       "        [35, 50, 59, ..., 14, 10, 11],\n",
       "        [17, 37, 50, ..., 10, 11, 11]], dtype=uint8),\n",
       " array([[  5,   5,   5, ..., 169, 169, 153],\n",
       "        [  5,   6,   5, ..., 161, 165, 147],\n",
       "        [  6,   6,   6, ..., 158, 157, 158],\n",
       "        ...,\n",
       "        [  5,   4,   4, ..., 168, 173,  57],\n",
       "        [  4,   4,   3, ..., 175, 174,  44],\n",
       "        [  4,   3,   3, ..., 184, 173,  37]], dtype=uint8),\n",
       " array([[  4,   5,   5, ..., 144, 129, 109],\n",
       "        [  5,   5,   5, ..., 144, 132, 106],\n",
       "        [  4,   4,   5, ..., 147, 138, 107],\n",
       "        ...,\n",
       "        [ 15,  14,  13, ..., 160, 120,  10],\n",
       "        [ 15,  17,  15, ..., 165, 118,   8],\n",
       "        [ 13,  18,  18, ..., 168, 112,   6]], dtype=uint8),\n",
       " array([[67, 84, 90, ..., 15,  9,  4],\n",
       "        [75, 82, 89, ..., 16, 10,  5],\n",
       "        [80, 86, 94, ..., 17, 11,  6],\n",
       "        ...,\n",
       "        [15,  9,  8, ..., 29, 28, 29],\n",
       "        [17, 13,  8, ..., 24, 23, 29],\n",
       "        [15, 16, 10, ..., 25, 22, 25]], dtype=uint8),\n",
       " array([[ 1,  1,  1, ...,  2,  2,  2],\n",
       "        [ 2,  2,  2, ...,  4,  3,  2],\n",
       "        [ 1,  2,  3, ...,  6,  5,  4],\n",
       "        ...,\n",
       "        [23, 19, 13, ...,  1,  0,  0],\n",
       "        [34, 19, 16, ...,  1,  0,  0],\n",
       "        [34, 26, 17, ...,  1,  0,  0]], dtype=uint8),\n",
       " array([[ 53,  55,  58, ..., 107,  98,  95],\n",
       "        [ 51,  54,  59, ..., 107, 101,  94],\n",
       "        [ 52,  55,  60, ..., 107, 101,  94],\n",
       "        ...,\n",
       "        [ 12,  21,  28, ...,  55,  51,  43],\n",
       "        [  8,  12,  23, ...,  52,  44,  43],\n",
       "        [  5,   9,  15, ...,  44,  46,  51]], dtype=uint8),\n",
       " array([[254, 255, 206, ...,  15,  15,  16],\n",
       "        [255, 251, 192, ...,  14,  15,  15],\n",
       "        [255, 246, 183, ...,  15,  14,  15],\n",
       "        ...,\n",
       "        [191, 181, 167, ...,  11,  11,  10],\n",
       "        [213, 180, 173, ...,  11,  11,   8],\n",
       "        [230, 194, 169, ...,  10,   9,   9]], dtype=uint8),\n",
       " array([[255, 255, 191, ...,  12,  11,   9],\n",
       "        [255, 252, 174, ...,  12,  11,   8],\n",
       "        [255, 233, 147, ...,  12,  12,   9],\n",
       "        ...,\n",
       "        [175, 132, 130, ...,   9,  11,   4],\n",
       "        [150, 131, 122, ...,   9,  11,   4],\n",
       "        [143, 125, 120, ...,  10,  11,   4]], dtype=uint8),\n",
       " array([[25, 24, 26, ...,  0,  0,  0],\n",
       "        [14, 22, 21, ...,  0,  0,  0],\n",
       "        [15, 25, 20, ...,  0,  0,  0],\n",
       "        ...,\n",
       "        [11,  2,  0, ...,  0,  0,  0],\n",
       "        [ 8,  5,  0, ...,  0,  0,  0],\n",
       "        [ 9,  6,  1, ...,  0,  1,  1]], dtype=uint8),\n",
       " array([[4, 4, 4, ..., 7, 4, 3],\n",
       "        [5, 4, 4, ..., 6, 5, 4],\n",
       "        [5, 5, 5, ..., 6, 5, 4],\n",
       "        ...,\n",
       "        [3, 4, 4, ..., 5, 5, 5],\n",
       "        [3, 3, 3, ..., 5, 4, 4],\n",
       "        [3, 2, 3, ..., 5, 3, 4]], dtype=uint8),\n",
       " array([[ 0,  1,  1, ...,  6,  4,  6],\n",
       "        [ 0,  1,  0, ...,  5,  4,  4],\n",
       "        [ 0,  1,  0, ...,  3,  3,  3],\n",
       "        ...,\n",
       "        [ 5,  1,  0, ...,  0,  0,  0],\n",
       "        [11,  2,  0, ...,  0,  0,  0],\n",
       "        [19,  4,  0, ...,  0,  0,  2]], dtype=uint8),\n",
       " array([[ 0,  7, 21, ...,  3,  2,  3],\n",
       "        [ 5, 18, 29, ..., 25,  5,  1],\n",
       "        [14, 25, 33, ..., 62, 31,  6],\n",
       "        ...,\n",
       "        [ 7,  7,  6, ...,  6,  0,  0],\n",
       "        [ 8,  8,  7, ...,  5,  0,  0],\n",
       "        [ 7,  8,  8, ...,  5,  0,  0]], dtype=uint8),\n",
       " array([[ 0,  0,  0, ...,  0,  0,  0],\n",
       "        [ 1,  2,  2, ...,  2,  1,  0],\n",
       "        [ 6, 18, 34, ...,  4,  3,  1],\n",
       "        ...,\n",
       "        [ 9,  7,  5, ...,  0,  0,  0],\n",
       "        [13, 10,  7, ...,  0,  0,  0],\n",
       "        [12, 13, 10, ...,  0,  0,  0]], dtype=uint8),\n",
       " array([[ 12,   9,   3, ...,   0,   0,   0],\n",
       "        [ 24,  16,   6, ...,   0,   0,   0],\n",
       "        [ 52,  21,   9, ...,   1,   0,   0],\n",
       "        ...,\n",
       "        [ 15,  33, 168, ...,   2,   0,   0],\n",
       "        [  9,  29, 164, ...,   6,   1,   0],\n",
       "        [  8,  38, 163, ...,  13,  13,  12]], dtype=uint8),\n",
       " array([[ 97,  95,  93, ...,   7,   5,   4],\n",
       "        [102, 101,  97, ...,   7,   5,   5],\n",
       "        [102, 101,  95, ...,   7,   6,   5],\n",
       "        ...,\n",
       "        [121, 125, 136, ...,   0,   0,   0],\n",
       "        [ 62,  78, 101, ...,   0,   0,   0],\n",
       "        [  4,   7,  14, ...,   0,   0,   0]], dtype=uint8),\n",
       " array([[17, 14,  9, ...,  9,  9,  7],\n",
       "        [17, 17, 28, ...,  9,  9,  7],\n",
       "        [23, 18, 23, ..., 10,  8,  7],\n",
       "        ...,\n",
       "        [10, 65, 49, ...,  0,  0,  0],\n",
       "        [11, 66, 58, ...,  0,  0,  0],\n",
       "        [11, 67, 59, ...,  0,  0,  0]], dtype=uint8),\n",
       " array([[ 10,  10,  15, ..., 122, 118, 116],\n",
       "        [  9,  10,  11, ..., 122, 112, 110],\n",
       "        [  7,   9,  11, ..., 119, 107, 103],\n",
       "        ...,\n",
       "        [ 16,  18,  18, ...,  79,  71,  60],\n",
       "        [ 15,  17,  19, ...,  69,  58,  49],\n",
       "        [ 14,  15,  19, ...,  59,  47,  42]], dtype=uint8),\n",
       " array([[113, 113, 110, ...,   6,   6,   6],\n",
       "        [118, 115, 107, ...,   6,   6,   6],\n",
       "        [118, 110, 103, ...,   6,   6,   6],\n",
       "        ...,\n",
       "        [148, 138, 137, ...,   6,   5,   4],\n",
       "        [154, 155, 143, ...,   5,   4,   1],\n",
       "        [152, 164, 166, ...,   5,   3,   0]], dtype=uint8),\n",
       " array([[57, 62, 66, ..., 74, 72, 71],\n",
       "        [59, 60, 64, ..., 71, 70, 71],\n",
       "        [54, 56, 65, ..., 72, 68, 68],\n",
       "        ...,\n",
       "        [25, 37, 44, ..., 51, 40, 53],\n",
       "        [18, 30, 40, ..., 43, 45, 63],\n",
       "        [13, 21, 35, ..., 38, 60, 69]], dtype=uint8),\n",
       " array([[  6,   6,   7, ..., 139, 135, 113],\n",
       "        [  6,   6,   7, ..., 130, 129, 112],\n",
       "        [  6,   7,   7, ..., 129, 123, 126],\n",
       "        ...,\n",
       "        [  6,   5,   7, ..., 135, 136,  45],\n",
       "        [  5,   5,   6, ..., 143, 139,  38],\n",
       "        [  5,   6,   5, ..., 153, 138,  37]], dtype=uint8),\n",
       " array([[71, 75, 78, ..., 68, 72, 71],\n",
       "        [72, 78, 80, ..., 68, 68, 68],\n",
       "        [72, 73, 79, ..., 68, 64, 64],\n",
       "        ...,\n",
       "        [50, 64, 79, ..., 69, 56, 45],\n",
       "        [50, 54, 68, ..., 61, 48, 40],\n",
       "        [54, 48, 59, ..., 55, 41, 41]], dtype=uint8),\n",
       " array([[111, 120, 121, ...,  42,  41,  33],\n",
       "        [115, 116, 113, ...,  41,  40,  33],\n",
       "        [106, 110, 112, ...,  38,  36,  31],\n",
       "        ...,\n",
       "        [ 65,  69,  71, ...,  10,   7,   8],\n",
       "        [ 51,  57,  64, ...,   9,   7,   8],\n",
       "        [ 61,  49,  57, ...,   6,   7,  12]], dtype=uint8),\n",
       " array([[  1,  52, 102, ...,   0,   0,   0],\n",
       "        [  6,  71, 104, ...,   0,   0,   0],\n",
       "        [ 11,  87, 109, ...,   3,   0,   0],\n",
       "        ...,\n",
       "        [  6,   5,   4, ...,   5,   8,  10],\n",
       "        [  5,   7,   5, ...,   8,  10,  14],\n",
       "        [  5,   8,   7, ...,   9,  12,  15]], dtype=uint8),\n",
       " array([[  5,   6,   9, ..., 185, 197, 195],\n",
       "        [  6,   7,   9, ..., 125, 168, 189],\n",
       "        [  5,   6,   4, ...,  79, 128, 152],\n",
       "        ...,\n",
       "        [ 15,  15,  13, ..., 151, 152, 151],\n",
       "        [ 15,  16,  15, ..., 148, 147, 142],\n",
       "        [ 17,  17,  17, ..., 147, 145, 142]], dtype=uint8),\n",
       " array([[  2,   2,   3, ...,  96, 101, 106],\n",
       "        [  2,   3,   3, ...,  91,  98, 106],\n",
       "        [  3,   3,   2, ...,  84,  87,  99],\n",
       "        ...,\n",
       "        [  1,   1,   2, ...,  16,   3,   5],\n",
       "        [  1,   1,   1, ...,   7,   4,   4],\n",
       "        [  1,   1,   1, ...,   6,   4,   5]], dtype=uint8),\n",
       " array([[  9,  13,  14, ...,  27,  22,  16],\n",
       "        [ 16,  15,  14, ...,  25,  21,  14],\n",
       "        [ 36,  14,  12, ...,  25,  18,  16],\n",
       "        ...,\n",
       "        [  8,   7,  41, ...,   4,   2,   5],\n",
       "        [  6,   8,  42, ...,  16,  10,   6],\n",
       "        [  5,  16,  46, ...,  47, 109,  95]], dtype=uint8),\n",
       " array([[ 81,  71,  55, ...,  10,  13,  12],\n",
       "        [ 80,  61,  39, ...,   8,  11,  12],\n",
       "        [ 69,  42,  21, ...,   5,   8,   9],\n",
       "        ...,\n",
       "        [222, 202, 168, ...,  10,  11,  11],\n",
       "        [221, 207, 181, ...,  11,  11,  10],\n",
       "        [210, 199, 188, ...,  11,  10,  10]], dtype=uint8),\n",
       " array([[  5,   6,   6, ...,  55,  67, 128],\n",
       "        [  5,   6,   6, ...,  67,  91, 152],\n",
       "        [  5,   6,   6, ...,  79, 127, 193],\n",
       "        ...,\n",
       "        [  6,   5,   5, ...,  37,  18,  11],\n",
       "        [  6,   5,   6, ...,  28,  13,  11],\n",
       "        [  6,   6,   5, ...,  15,  11,  10]], dtype=uint8),\n",
       " array([[67, 76, 84, ..., 91, 84, 83],\n",
       "        [66, 73, 79, ..., 91, 85, 83],\n",
       "        [68, 70, 75, ..., 89, 83, 80],\n",
       "        ...,\n",
       "        [70, 47, 52, ..., 63, 57, 37],\n",
       "        [86, 76, 50, ..., 52, 35, 34],\n",
       "        [90, 90, 73, ..., 36, 44, 63]], dtype=uint8),\n",
       " array([[  4,   4,   4, ..., 139,  70,  24],\n",
       "        [  5,   4,   4, ..., 158, 103,  36],\n",
       "        [  5,   3,   2, ..., 168, 137,  60],\n",
       "        ...,\n",
       "        [  4,   4,   3, ...,  95, 121, 128],\n",
       "        [  4,   4,   3, ...,  89, 118, 133],\n",
       "        [  4,   4,   4, ...,  85, 116, 136]], dtype=uint8),\n",
       " array([[ 40,  43,  43, ...,  98,  97,  96],\n",
       "        [ 37,  37,  38, ...,  93,  94,  97],\n",
       "        [ 30,  28,  37, ...,  90,  89,  93],\n",
       "        ...,\n",
       "        [ 26,  39,  49, ..., 106,  91,  99],\n",
       "        [ 19,  33,  45, ...,  98,  97, 109],\n",
       "        [ 15,  24,  40, ...,  96, 109, 114]], dtype=uint8),\n",
       " array([[125, 135, 146, ...,  58,  39,  31],\n",
       "        [125, 131, 145, ...,  59,  40,  29],\n",
       "        [124, 138, 151, ...,  58,  38,  30],\n",
       "        ...,\n",
       "        [ 36,  47,  52, ...,  12,  10,   8],\n",
       "        [ 31,  34,  41, ...,  11,   8,   6],\n",
       "        [ 24,  27,  36, ...,   9,   6,   4]], dtype=uint8),\n",
       " array([[  2,   2,   2, ..., 184, 170, 144],\n",
       "        [  2,   2,   2, ..., 181, 177, 159],\n",
       "        [  2,   2,   2, ..., 176, 179, 171],\n",
       "        ...,\n",
       "        [  0,   0,   1, ...,   8,   0,   0],\n",
       "        [  0,   0,   0, ...,   4,   0,   0],\n",
       "        [  0,   1,   1, ...,   1,   0,   0]], dtype=uint8),\n",
       " array([[ 22,  72, 136, ...,   0,   0,   1],\n",
       "        [ 21,  91, 141, ...,   2,   0,   0],\n",
       "        [ 25, 110, 142, ...,   2,   0,   0],\n",
       "        ...,\n",
       "        [ 15,   8,   5, ...,  11,  15,   8],\n",
       "        [ 10,  10,   4, ...,   8,  12,  10],\n",
       "        [  8,  10,   6, ...,   7,  12,  10]], dtype=uint8),\n",
       " array([[ 21,  25,  30, ...,  36,  35,  32],\n",
       "        [ 21,  24,  27, ...,  36,  33,  35],\n",
       "        [ 14,  17,  14, ...,  33,  32,  34],\n",
       "        ...,\n",
       "        [118,  70,  36, ...,  44,  34,  32],\n",
       "        [117,  78,  30, ...,  38,  36,  32],\n",
       "        [117,  88,  27, ...,  40,  38,  33]], dtype=uint8),\n",
       " array([[  0,  91, 215, ...,   0,   0,   0],\n",
       "        [  1, 123, 219, ...,   0,   0,   0],\n",
       "        [ 10, 151, 219, ...,   0,   0,   0],\n",
       "        ...,\n",
       "        [  1,   0,   0, ...,   0,   0,   0],\n",
       "        [  2,   1,   0, ...,   0,   0,   0],\n",
       "        [  1,   1,   0, ...,   0,   0,   0]], dtype=uint8),\n",
       " array([[147, 158, 152, ...,  38,  44,  38],\n",
       "        [137, 131,  98, ...,  27,  33,  34],\n",
       "        [109,  79,  49, ...,  18,  23,  25],\n",
       "        ...,\n",
       "        [ 99, 104, 107, ...,  22,  23,  22],\n",
       "        [ 95,  97,  98, ...,  22,  24,  24],\n",
       "        [ 87,  91,  96, ...,  24,  25,  26]], dtype=uint8),\n",
       " array([[49, 73, 91, ..., 49, 43, 39],\n",
       "        [53, 72, 72, ..., 51, 40, 36],\n",
       "        [50, 43, 36, ..., 43, 38, 33],\n",
       "        ...,\n",
       "        [18,  3,  4, ...,  7,  9, 10],\n",
       "        [43, 19,  2, ...,  8,  9, 10],\n",
       "        [50, 48, 13, ...,  8,  9, 11]], dtype=uint8),\n",
       " array([[ 65,  94, 116, ...,  46,  33,  22],\n",
       "        [103, 122, 124, ...,  28,  24,  21],\n",
       "        [114, 112, 102, ...,  16,  15,  13],\n",
       "        ...,\n",
       "        [  8,  10,  16, ...,  19,  15,   9],\n",
       "        [  5,   9,   7, ...,  15,   9,   2],\n",
       "        [  2,   8,   7, ...,  10,   4,   1]], dtype=uint8),\n",
       " array([[ 78,  87,  99, ...,  96,  79,  78],\n",
       "        [ 77,  85,  99, ...,  92,  79,  75],\n",
       "        [ 78,  89, 103, ...,  88,  78,  73],\n",
       "        ...,\n",
       "        [ 31,  41,  45, ...,  66,  56,  54],\n",
       "        [ 25,  32,  37, ...,  67,  54,  42],\n",
       "        [ 20,  24,  36, ...,  53,  40,  27]], dtype=uint8),\n",
       " array([[ 83,  91,  96, ...,  92,  86,  82],\n",
       "        [ 83,  89,  91, ...,  88,  84,  81],\n",
       "        [ 78,  80,  85, ...,  82,  79,  76],\n",
       "        ...,\n",
       "        [ 86,  94, 100, ...,  98,  89,  82],\n",
       "        [ 87,  94,  95, ...,  97,  86,  77],\n",
       "        [ 82,  89,  93, ...,  93,  83,  67]], dtype=uint8),\n",
       " array([[ 76,  78,  80, ...,   7,   8,   8],\n",
       "        [ 78,  80,  80, ...,   8,   8,   8],\n",
       "        [ 76,  78,  76, ...,   8,   8,   8],\n",
       "        ...,\n",
       "        [ 92, 105, 113, ...,  10,  10,   8],\n",
       "        [ 83,  92, 106, ...,  10,   9,   8],\n",
       "        [ 85,  79,  98, ...,  10,   8,  10]], dtype=uint8),\n",
       " array([[  4,   5,   5, ...,  32,   8,  12],\n",
       "        [  5,   5,   6, ..., 119,  18,   6],\n",
       "        [  5,   5,   4, ..., 185,  89,   9],\n",
       "        ...,\n",
       "        [  0,   0,   5, ..., 180, 200, 200],\n",
       "        [  0,   0,   5, ..., 192, 205, 201],\n",
       "        [  0,   0,   4, ..., 193, 204, 199]], dtype=uint8),\n",
       " array([[ 18,  22,  20, ...,   0,   0,   0],\n",
       "        [ 43,  57,  69, ...,   1,   0,   0],\n",
       "        [ 62,  80, 101, ...,   3,   2,   1],\n",
       "        ...,\n",
       "        [ 22,  25,  27, ...,   1,   0,   0],\n",
       "        [ 19,  20,  23, ...,   0,   0,   0],\n",
       "        [ 17,  15,  17, ...,   0,   0,   0]], dtype=uint8),\n",
       " array([[ 63,  77,  78, ...,  96,  85,  84],\n",
       "        [ 59,  67,  67, ...,  89,  82,  78],\n",
       "        [ 50,  48,  51, ...,  64,  69,  67],\n",
       "        ...,\n",
       "        [ 39,  43,  53, ..., 114, 104,  92],\n",
       "        [ 38,  40,  46, ..., 105,  96,  82],\n",
       "        [ 31,  40,  40, ...,  97,  89,  79]], dtype=uint8),\n",
       " array([[90, 69, 65, ..., 30, 37, 39],\n",
       "        [48, 42, 38, ..., 19, 22, 26],\n",
       "        [29, 34, 40, ..., 13, 11, 13],\n",
       "        ...,\n",
       "        [80, 83, 88, ..., 10, 10, 10],\n",
       "        [64, 76, 85, ..., 11,  9, 10],\n",
       "        [70, 65, 76, ...,  9,  9, 10]], dtype=uint8),\n",
       " array([[182, 199, 184, ...,  15,  15,  14],\n",
       "        [197, 222, 210, ...,  14,  14,  14],\n",
       "        [229, 246, 225, ...,  15,  15,  14],\n",
       "        ...,\n",
       "        [ 87,  78,  41, ...,  13,   8,   5],\n",
       "        [ 73,  72,  56, ...,  12,   7,   3],\n",
       "        [ 57,  51,  57, ...,  12,   6,   1]], dtype=uint8),\n",
       " array([[ 11,  14,  15, ..., 117, 123, 121],\n",
       "        [ 11,  14,  14, ..., 115, 120, 116],\n",
       "        [  7,  10,  11, ..., 108, 110, 113],\n",
       "        ...,\n",
       "        [  8,   6,   6, ...,  83,  73,  61],\n",
       "        [  8,   8,   7, ...,  75,  62,  59],\n",
       "        [  7,   8,   8, ...,  61,  58,  72]], dtype=uint8),\n",
       " array([[ 87,  87,  86, ...,  11,  10,   8],\n",
       "        [ 93,  91,  90, ...,  11,  10,   8],\n",
       "        [ 96,  88,  88, ...,  11,  10,   7],\n",
       "        ...,\n",
       "        [150, 165, 170, ...,  11,  10,   1],\n",
       "        [138, 162, 169, ...,  11,  11,   1],\n",
       "        [149, 151, 167, ...,  11,  10,   0]], dtype=uint8),\n",
       " array([[ 5,  5,  4, ..., 47, 54, 52],\n",
       "        [ 4,  4,  2, ..., 34, 48, 54],\n",
       "        [ 2,  1,  0, ..., 29, 37, 44],\n",
       "        ...,\n",
       "        [ 7,  6,  7, ..., 17, 18, 20],\n",
       "        [ 8,  7,  7, ..., 19, 21, 23],\n",
       "        [ 8,  8,  7, ..., 20, 23, 26]], dtype=uint8),\n",
       " array([[ 30,  37,  43, ..., 114, 106,  93],\n",
       "        [ 29,  39,  43, ..., 119, 106,  96],\n",
       "        [ 27,  37,  41, ..., 124, 107, 100],\n",
       "        ...,\n",
       "        [ 17,  22,  31, ...,  97,  91,  21],\n",
       "        [ 15,  19,  26, ..., 108,  92,  19],\n",
       "        [ 13,  17,  23, ..., 114,  91,  17]], dtype=uint8),\n",
       " array([[ 12,  13,  13, ..., 126, 133, 126],\n",
       "        [ 13,  13,  15, ..., 135, 138, 132],\n",
       "        [ 13,  11,  11, ..., 226, 202, 156],\n",
       "        ...,\n",
       "        [ 10,  10,  10, ..., 243, 231, 228],\n",
       "        [ 11,  11,  10, ..., 230, 220, 218],\n",
       "        [ 11,  11,  10, ..., 223, 215, 206]], dtype=uint8),\n",
       " array([[  1,   1,   2, ..., 217, 207, 178],\n",
       "        [  2,   2,   2, ..., 150, 189, 202],\n",
       "        [  3,   3,   2, ...,  97, 114, 159],\n",
       "        ...,\n",
       "        [  0,   0,   1, ..., 164, 149, 104],\n",
       "        [  0,   0,   0, ..., 146, 108,  47],\n",
       "        [  0,   0,   0, ..., 121,  77,  33]], dtype=uint8),\n",
       " array([[  2,   2,   2, ..., 150, 144, 139],\n",
       "        [  2,   1,   2, ..., 160, 149, 139],\n",
       "        [  2,   1,   0, ..., 124, 139, 139],\n",
       "        ...,\n",
       "        [  3,   2,   1, ...,  43,  97, 121],\n",
       "        [  3,   2,   2, ...,  84, 111, 120],\n",
       "        [  3,   1,   1, ..., 103, 113, 115]], dtype=uint8),\n",
       " array([[ 91, 104, 113, ..., 101, 115, 114],\n",
       "        [ 89,  93,  97, ...,  78,  86,  94],\n",
       "        [ 84,  97, 106, ...,  92,  86,  84],\n",
       "        ...,\n",
       "        [ 19,  26,  31, ...,  57,  52,  49],\n",
       "        [ 16,  19,  24, ...,  54,  48,  41],\n",
       "        [ 17,  16,  18, ...,  51,  44,  35]], dtype=uint8),\n",
       " array([[  2,   1,   0, ..., 135, 117,  92],\n",
       "        [  1,   1,   1, ..., 129, 113,  90],\n",
       "        [  1,   1,   1, ..., 124, 105,  86],\n",
       "        ...,\n",
       "        [  1,   5,   3, ...,   1,   0,   1],\n",
       "        [  1,   5,   3, ...,   1,   0,   0],\n",
       "        [  1,   6,   3, ...,   1,   0,   1]], dtype=uint8),\n",
       " array([[  9,   8,   8, ..., 145, 171, 187],\n",
       "        [  8,   8,   8, ..., 145, 193, 214],\n",
       "        [  8,   9,   9, ..., 160, 198, 224],\n",
       "        ...,\n",
       "        [  8,   8,   8, ..., 246, 242, 112],\n",
       "        [  8,   8,   8, ..., 250, 250, 106],\n",
       "        [  8,   8,   7, ..., 255, 250,  98]], dtype=uint8),\n",
       " array([[ 73,  66,  51, ...,   8,   9,  10],\n",
       "        [ 65,  53,  30, ...,   7,   9,  10],\n",
       "        [ 52,  33,  18, ...,   6,   7,   8],\n",
       "        ...,\n",
       "        [142, 147, 152, ...,  53,  45,  38],\n",
       "        [141, 144, 149, ...,  51,  43,  36],\n",
       "        [140, 144, 153, ...,  46,  41,  33]], dtype=uint8),\n",
       " array([[  0,   2,   3, ...,  53,  84,  42],\n",
       "        [  1,   2,   3, ...,  75,  85,  60],\n",
       "        [  2,   3,   3, ..., 161, 118, 127],\n",
       "        ...,\n",
       "        [  4,   4,   3, ..., 177, 148,  41],\n",
       "        [  4,   4,   3, ..., 194, 124,  36],\n",
       "        [  4,   4,   3, ..., 188, 101,  20]], dtype=uint8),\n",
       " array([[112, 114, 115, ...,  30,  22,  17],\n",
       "        [108, 110, 118, ...,  25,  19,  16],\n",
       "        [107, 113, 123, ...,  20,  16,  15],\n",
       "        ...,\n",
       "        [104, 119, 129, ...,  40,  29,  18],\n",
       "        [ 93, 105, 117, ...,  34,  23,  11],\n",
       "        [ 79,  87, 105, ...,  30,  15,   5]], dtype=uint8),\n",
       " array([[ 25,  35,  44, ..., 127, 120, 120],\n",
       "        [ 25,  32,  40, ..., 126, 121, 121],\n",
       "        [ 27,  30,  34, ..., 124, 118, 116],\n",
       "        ...,\n",
       "        [ 11,  17,  24, ..., 108, 101,  95],\n",
       "        [ 11,  13,  19, ...,  94,  95, 105],\n",
       "        [ 10,  12,  14, ...,  95, 113, 113]], dtype=uint8),\n",
       " array([[90, 83, 79, ...,  9,  9,  9],\n",
       "        [90, 81, 82, ...,  8,  9, 10],\n",
       "        [85, 82, 89, ...,  8,  9,  9],\n",
       "        ...,\n",
       "        [95, 57, 29, ..., 11, 10, 10],\n",
       "        [94, 71, 46, ..., 10, 10, 11],\n",
       "        [95, 76, 55, ..., 10, 11, 12]], dtype=uint8),\n",
       " array([[  0,   2,  36, ...,   0,   0,   0],\n",
       "        [  0,   8,  62, ...,   0,   0,   0],\n",
       "        [  0,  25, 107, ...,   0,   0,   0],\n",
       "        ...,\n",
       "        [  0,   0,   0, ...,   0,   0,   0],\n",
       "        [  1,   0,   0, ...,   0,   0,   0],\n",
       "        [  1,   0,   0, ...,   0,   0,   0]], dtype=uint8),\n",
       " array([[  4,   3,   4, ...,   0,   0,   0],\n",
       "        [  6,   4,   3, ...,   0,   0,   0],\n",
       "        [ 14,   6,   2, ...,   0,   0,   0],\n",
       "        ...,\n",
       "        [  8,  19,  89, ...,   1,   0,   0],\n",
       "        [ 11,  20, 101, ...,   4,   1,   1],\n",
       "        [ 17,  47, 111, ...,  11,  11,  10]], dtype=uint8),\n",
       " array([[ 12,  23,  35, ..., 187, 180, 166],\n",
       "        [ 10,  20,  33, ..., 178, 173, 163],\n",
       "        [  9,  18,  32, ..., 176, 172, 160],\n",
       "        ...,\n",
       "        [  5,   6,   7, ..., 104,  63,   3],\n",
       "        [  5,   5,   6, ..., 112,  55,   1],\n",
       "        [  4,   5,   6, ..., 109,  50,   0]], dtype=uint8),\n",
       " array([[36, 39, 37, ..., 10,  9, 11],\n",
       "        [38, 36, 40, ..., 10,  9, 10],\n",
       "        [35, 35, 46, ...,  9,  9, 10],\n",
       "        ...,\n",
       "        [23, 20, 28, ..., 11, 11, 12],\n",
       "        [30, 16, 23, ..., 10, 11, 12],\n",
       "        [37, 18, 15, ..., 10, 12, 12]], dtype=uint8),\n",
       " array([[ 39,  44,  35, ...,  48,  69,  76],\n",
       "        [ 40,  46,  42, ...,  42,  77,  77],\n",
       "        [ 45,  49,  57, ...,  36,  83,  92],\n",
       "        ...,\n",
       "        [ 18,  24,  26, ..., 127, 125, 124],\n",
       "        [ 13,  20,  24, ..., 121, 114, 114],\n",
       "        [ 10,  16,  20, ..., 114, 109, 105]], dtype=uint8),\n",
       " array([[ 13,  13,  16, ...,  66,  97, 111],\n",
       "        [ 10,  10,  11, ...,  50,  63,  81],\n",
       "        [  8,  10,  14, ...,  42,  38,  47],\n",
       "        ...,\n",
       "        [  9,  11,  13, ...,  74,  85, 123],\n",
       "        [ 10,  11,  12, ...,  76, 118, 128],\n",
       "        [ 10,  10,  11, ..., 105, 131, 124]], dtype=uint8),\n",
       " array([[ 88,  95, 101, ...,  71,  69,  67],\n",
       "        [ 92,  93,  97, ...,  68,  68,  68],\n",
       "        [ 88,  89,  97, ...,  69,  64,  65],\n",
       "        ...,\n",
       "        [ 45,  66,  75, ...,  42,  31,  23],\n",
       "        [ 27,  52,  69, ...,  38,  27,  21],\n",
       "        [ 34,  32,  60, ...,  32,  23,  22]], dtype=uint8),\n",
       " array([[ 84,  95, 103, ...,  61,  49,  37],\n",
       "        [ 81,  93, 103, ...,  61,  49,  36],\n",
       "        [ 81,  93, 105, ...,  57,  48,  36],\n",
       "        ...,\n",
       "        [ 89, 115, 135, ...,  72,  62,  47],\n",
       "        [ 75,  98, 124, ...,  63,  55,  35],\n",
       "        [ 76,  85, 110, ...,  58,  43,  28]], dtype=uint8),\n",
       " array([[105, 111, 105, ...,  11,   9,   7],\n",
       "        [173, 183, 197, ...,   6,   9,   9],\n",
       "        [191, 194, 184, ...,   4,   5,   8],\n",
       "        ...,\n",
       "        [  4,   1,  17, ...,  14,  13,   7],\n",
       "        [  1,   2,   1, ...,  13,   7,   2],\n",
       "        [  0,   1,   1, ...,   8,   3,   1]], dtype=uint8),\n",
       " array([[100, 105,  95, ...,  73,  92,  96],\n",
       "        [ 88,  79,  54, ...,  60,  77,  88],\n",
       "        [ 64,  43,  28, ...,  40,  59,  68],\n",
       "        ...,\n",
       "        [ 94, 104, 112, ..., 109, 100,  90],\n",
       "        [ 87,  97, 105, ..., 102,  92,  80],\n",
       "        [ 80,  92, 103, ...,  96,  85,  74]], dtype=uint8),\n",
       " array([[ 2,  2,  1, ...,  5,  5,  8],\n",
       "        [ 7,  2,  1, ...,  4,  6,  6],\n",
       "        [12,  1,  1, ...,  4,  7,  6],\n",
       "        ...,\n",
       "        [ 1,  4, 20, ...,  2,  0,  1],\n",
       "        [ 1,  4, 19, ...,  6,  2,  2],\n",
       "        [ 1,  6, 19, ..., 14, 12, 12]], dtype=uint8),\n",
       " array([[ 59,  71,  77, ..., 111,  93,  80],\n",
       "        [ 58,  71,  76, ..., 114,  98,  84],\n",
       "        [ 61,  72,  73, ..., 117, 103,  89],\n",
       "        ...,\n",
       "        [ 27,  31,  36, ..., 102,  93,  81],\n",
       "        [ 26,  32,  36, ...,  97,  84,  66],\n",
       "        [ 21,  29,  34, ...,  91,  76,  58]], dtype=uint8),\n",
       " array([[  4,   4,   5, ..., 144, 144, 142],\n",
       "        [  5,   5,   5, ..., 142, 141, 142],\n",
       "        [  6,   5,   4, ..., 134, 141, 145],\n",
       "        ...,\n",
       "        [  6,   7,   9, ..., 150, 151, 159],\n",
       "        [  6,   7,   7, ..., 148, 164, 164],\n",
       "        [  6,   6,   7, ..., 162, 169, 167]], dtype=uint8),\n",
       " array([[26, 28, 43, ..., 50, 39, 40],\n",
       "        [20, 26, 44, ..., 50, 37, 35],\n",
       "        [15, 26, 27, ..., 32, 31, 27],\n",
       "        ...,\n",
       "        [28, 49, 47, ..., 34, 62, 65],\n",
       "        [29, 49, 60, ..., 65, 74, 65],\n",
       "        [30, 49, 61, ..., 80, 76, 64]], dtype=uint8),\n",
       " array([[  0,   1,   3, ..., 124, 114,  82],\n",
       "        [  0,   2,   3, ..., 123, 113,  95],\n",
       "        [  1,   2,   3, ..., 126, 118, 115],\n",
       "        ...,\n",
       "        [  3,   3,   2, ..., 135, 111,  39],\n",
       "        [  3,   2,   2, ..., 146,  94,  35],\n",
       "        [  4,   3,   2, ..., 142,  76,  20]], dtype=uint8),\n",
       " array([[167, 173, 173, ...,  31,  15,   9],\n",
       "        [159, 166, 172, ...,  29,  18,  12],\n",
       "        [157, 165, 172, ...,  27,  18,  11],\n",
       "        ...,\n",
       "        [ 74,  79,  84, ...,   9,   8,   8],\n",
       "        [ 72,  81,  83, ...,   8,   8,   7],\n",
       "        [ 64,  78,  88, ...,   8,   7,   7]], dtype=uint8),\n",
       " array([[ 80,  90,  98, ...,  83,  76,  66],\n",
       "        [ 80,  90, 100, ...,  85,  78,  65],\n",
       "        [ 78,  89, 100, ...,  86,  77,  64],\n",
       "        ...,\n",
       "        [ 82,  80,  70, ...,  58,  41,  33],\n",
       "        [ 88,  91,  83, ...,  50,  38,  51],\n",
       "        [ 93,  99,  97, ...,  43,  55,  62]], dtype=uint8),\n",
       " array([[215, 236, 255, ...,  13,  13,   9],\n",
       "        [211, 242, 255, ...,  13,  13,   9],\n",
       "        [217, 243, 255, ...,  13,  13,  11],\n",
       "        ...,\n",
       "        [151, 103,  92, ...,  10,  12,   5],\n",
       "        [150, 124,  94, ...,  10,  11,   4],\n",
       "        [161, 139, 112, ...,  10,  11,   5]], dtype=uint8),\n",
       " array([[55, 58, 61, ..., 17,  4,  4],\n",
       "        [56, 50, 42, ..., 16,  6,  2],\n",
       "        [45, 28, 24, ..., 12,  7,  2],\n",
       "        ...,\n",
       "        [ 1,  0, 51, ..., 50, 60, 57],\n",
       "        [ 2,  0, 41, ..., 61, 66, 60],\n",
       "        [ 2,  0, 34, ..., 66, 68, 59]], dtype=uint8),\n",
       " array([[  6,   6,   6, ..., 171, 164, 142],\n",
       "        [  6,   6,   6, ..., 182, 153, 153],\n",
       "        [  6,   6,   5, ..., 193, 165, 138],\n",
       "        ...,\n",
       "        [118,  78,   6, ...,  92,  82,  93],\n",
       "        [117,  90,  11, ...,  78,  87,  95],\n",
       "        [115,  99,  17, ...,  87,  97,  99]], dtype=uint8),\n",
       " array([[  2,   2,   3, ..., 172, 162, 164],\n",
       "        [  2,   3,   4, ..., 135, 149, 162],\n",
       "        [  3,   3,   3, ...,  89, 112, 129],\n",
       "        ...,\n",
       "        [  4,   4,   4, ..., 133, 125, 119],\n",
       "        [  3,   3,   3, ..., 129, 123, 118],\n",
       "        [  3,   3,   2, ..., 122, 118, 111]], dtype=uint8),\n",
       " array([[185, 142,  88, ...,   9,   8,   9],\n",
       "        [183, 153,  91, ...,   8,   8,   9],\n",
       "        [180, 160, 105, ...,   8,   8,   9],\n",
       "        ...,\n",
       "        [178, 147, 122, ...,   8,   9,   9],\n",
       "        [166, 141, 135, ...,   8,   9,  10],\n",
       "        [153, 131, 123, ...,   9,  10,  10]], dtype=uint8),\n",
       " array([[  6,   7,   7, ..., 213, 199, 116],\n",
       "        [  7,   7,   7, ..., 234, 190, 103],\n",
       "        [  7,   8,   7, ..., 247, 206, 118],\n",
       "        ...,\n",
       "        [  5,   4,   4, ...,  85, 130,  63],\n",
       "        [  4,   4,   3, ...,  84, 130,  52],\n",
       "        [  3,   3,   3, ...,  87, 130,  47]], dtype=uint8),\n",
       " array([[ 30,  32,  41, ..., 111, 114, 106],\n",
       "        [ 31,  34,  36, ..., 108, 112, 108],\n",
       "        [ 28,  31,  34, ..., 108, 107, 107],\n",
       "        ...,\n",
       "        [ 17,  18,  22, ..., 105,  94,  79],\n",
       "        [ 16,  18,  19, ...,  93,  82,  70],\n",
       "        [ 14,  17,  19, ...,  83,  75,  85]], dtype=uint8),\n",
       " array([[ 91,  97, 101, ...,  71,  60,  47],\n",
       "        [ 91, 100, 107, ...,  73,  63,  51],\n",
       "        [ 91, 101, 108, ...,  74,  64,  52],\n",
       "        ...,\n",
       "        [  7,   6,  18, ...,   0,   0,   0],\n",
       "        [ 31,  10,   7, ...,   0,   0,   0],\n",
       "        [ 50,  36,   9, ...,   0,   0,   0]], dtype=uint8),\n",
       " array([[ 60,  50,  34, ...,  13,  18,  23],\n",
       "        [ 49,  33,  16, ...,  14,  16,  19],\n",
       "        [ 33,  21,  14, ...,  14,  17,  17],\n",
       "        ...,\n",
       "        [119, 124, 129, ...,  94,  87,  79],\n",
       "        [118, 122, 127, ...,  91,  83,  74],\n",
       "        [116, 121, 130, ...,  87,  80,  72]], dtype=uint8),\n",
       " array([[64, 59, 56, ..., 63, 38, 51],\n",
       "        [68, 66, 60, ..., 60, 32, 56],\n",
       "        [68, 68, 69, ..., 57, 31, 62],\n",
       "        ...,\n",
       "        [41, 49, 52, ..., 69, 67, 67],\n",
       "        [35, 44, 48, ..., 66, 63, 60],\n",
       "        [30, 39, 44, ..., 61, 58, 55]], dtype=uint8),\n",
       " array([[146, 160, 168, ...,  98,  87,  71],\n",
       "        [146, 156, 163, ...,  93,  86,  71],\n",
       "        [144, 151, 160, ...,  91,  83,  69],\n",
       "        ...,\n",
       "        [121,  80,  75, ...,   8,  13,  19],\n",
       "        [146, 121,  78, ...,   8,  10,  11],\n",
       "        [153, 147, 114, ...,   9,   7,   4]], dtype=uint8),\n",
       " array([[31, 19, 28, ...,  0,  0,  0],\n",
       "        [31, 20, 26, ...,  0,  0,  0],\n",
       "        [22, 26, 26, ...,  0,  0,  0],\n",
       "        ...,\n",
       "        [ 3,  5,  0, ...,  0,  0,  0],\n",
       "        [ 4,  4,  1, ...,  0,  0,  0],\n",
       "        [ 5,  6,  3, ...,  0,  0,  3]], dtype=uint8),\n",
       " array([[  6,   5,   5, ..., 197, 189, 185],\n",
       "        [  6,   5,   5, ..., 193, 188, 184],\n",
       "        [  5,   5,   6, ..., 174, 184, 186],\n",
       "        ...,\n",
       "        [  5,   5,   6, ..., 159, 151, 110],\n",
       "        [  6,   5,   5, ..., 141, 113,  78],\n",
       "        [  6,   5,   5, ..., 117,  96, 106]], dtype=uint8),\n",
       " array([[103, 112, 117, ...,  84,  65,  54],\n",
       "        [101, 111, 116, ...,  84,  69,  57],\n",
       "        [101, 112, 114, ...,  86,  73,  59],\n",
       "        ...,\n",
       "        [ 52,  56,  63, ...,  58,  52,  41],\n",
       "        [ 50,  57,  62, ...,  55,  46,  30],\n",
       "        [ 45,  54,  62, ...,  51,  39,  24]], dtype=uint8),\n",
       " array([[  2,   2,   1, ..., 127,  96,  62],\n",
       "        [  3,   2,   2, ..., 133, 121,  99],\n",
       "        [  3,   2,   2, ..., 138, 136, 131],\n",
       "        ...,\n",
       "        [  9,   8,   9, ...,  93,  76,  89],\n",
       "        [  8,   8,   9, ...,  75,  61,  59],\n",
       "        [ 10,   8,   4, ...,  82,  51,  57]], dtype=uint8),\n",
       " array([[  4,   4,   3, ..., 120, 125,  91],\n",
       "        [  4,   4,   3, ..., 117, 123, 109],\n",
       "        [  5,   3,   2, ..., 118, 122, 117],\n",
       "        ...,\n",
       "        [  5,   4,   4, ..., 172, 171, 157],\n",
       "        [  5,   4,   4, ..., 176, 166, 157],\n",
       "        [  5,   3,   4, ..., 180, 164, 156]], dtype=uint8),\n",
       " array([[166, 168, 182, ...,  35,  28,  21],\n",
       "        [164, 175, 183, ...,  34,  27,  18],\n",
       "        [169, 171, 176, ...,  31,  22,  15],\n",
       "        ...,\n",
       "        [150, 153, 149, ...,   8,   6,   6],\n",
       "        [150, 153, 144, ...,   7,   7,   6],\n",
       "        [143, 144, 138, ...,   6,   6,   6]], dtype=uint8),\n",
       " array([[246, 247, 246, ...,  12,  14,  12],\n",
       "        [249, 255, 239, ...,   6,  10,  12],\n",
       "        [254, 242, 176, ...,   3,   5,   9],\n",
       "        ...,\n",
       "        [137, 128, 131, ...,  10,  10,   9],\n",
       "        [139, 129, 118, ...,  10,   9,   9],\n",
       "        [127, 121, 124, ...,   9,   9,   9]], dtype=uint8),\n",
       " array([[  4,   5,   6, ..., 134, 141, 144],\n",
       "        [  5,   5,   5, ..., 137, 140, 145],\n",
       "        [  5,   5,   5, ..., 141, 137, 140],\n",
       "        ...,\n",
       "        [ 13,  14,  14, ..., 150, 140, 130],\n",
       "        [ 11,  14,  14, ..., 140, 129, 117],\n",
       "        [ 11,  12,  14, ..., 130, 112, 114]], dtype=uint8),\n",
       " array([[ 6,  9,  9, ..., 65, 56, 45],\n",
       "        [ 6,  9, 10, ..., 65, 57, 46],\n",
       "        [ 8,  8,  8, ..., 65, 55, 44],\n",
       "        ...,\n",
       "        [ 1,  7,  4, ...,  1,  1,  1],\n",
       "        [ 1,  7,  4, ...,  0,  0,  1],\n",
       "        [ 2,  7,  5, ...,  0,  0,  1]], dtype=uint8),\n",
       " array([[255, 255, 255, ...,  11,  11,  11],\n",
       "        [255, 255, 255, ...,  10,  11,  10],\n",
       "        [255, 255, 255, ...,  10,  10,  10],\n",
       "        ...,\n",
       "        [191, 151, 112, ...,   9,   5,   3],\n",
       "        [189, 172, 131, ...,   9,   4,   1],\n",
       "        [173, 165, 156, ...,   9,   4,   0]], dtype=uint8),\n",
       " array([[198, 210, 215, ...,   8,   9,   8],\n",
       "        [196, 206, 213, ...,   8,   8,   8],\n",
       "        [196, 202, 210, ...,   8,   8,   8],\n",
       "        ...,\n",
       "        [133,  63,  38, ...,   8,   7,   8],\n",
       "        [150, 110,  43, ...,   8,   5,   4],\n",
       "        [149, 129,  84, ...,   7,   4,   1]], dtype=uint8),\n",
       " array([[106, 111, 123, ..., 100,  91,  84],\n",
       "        [104, 112, 120, ...,  98,  89,  82],\n",
       "        [105, 106, 113, ...,  93,  85,  78],\n",
       "        ...,\n",
       "        [ 91,  98, 101, ...,  80,  72,  64],\n",
       "        [ 90,  98,  97, ...,  76,  68,  58],\n",
       "        [ 84,  92,  93, ...,  72,  64,  51]], dtype=uint8),\n",
       " array([[63, 69, 65, ..., 47, 48, 47],\n",
       "        [63, 63, 57, ..., 43, 44, 44],\n",
       "        [58, 55, 50, ..., 36, 38, 41],\n",
       "        ...,\n",
       "        [45, 52, 62, ..., 52, 43, 34],\n",
       "        [36, 49, 58, ..., 49, 37, 33],\n",
       "        [34, 42, 53, ..., 41, 38, 36]], dtype=uint8),\n",
       " array([[202, 203, 193, ...,   6,   5,   4],\n",
       "        [229, 210, 176, ...,   6,   5,   5],\n",
       "        [225, 184, 133, ...,   6,   5,   5],\n",
       "        ...,\n",
       "        [162, 144, 146, ...,   1,   4,   3],\n",
       "        [164, 147, 132, ...,   3,   3,   3],\n",
       "        [152, 138, 134, ...,   2,   3,   4]], dtype=uint8),\n",
       " array([[128, 135, 152, ...,  13,   1,   0],\n",
       "        [131, 133, 136, ...,  16,   5,   0],\n",
       "        [124, 110,  76, ...,  16,   8,   1],\n",
       "        ...,\n",
       "        [  2,   0,  62, ...,  10,  10,  11],\n",
       "        [  2,   0,  50, ...,  10,  10,  11],\n",
       "        [  2,   0,  39, ...,  10,  10,  10]], dtype=uint8),\n",
       " array([[  7,   7,   7, ..., 198, 186, 168],\n",
       "        [  7,   7,   6, ..., 200, 189, 170],\n",
       "        [  7,   7,   6, ..., 201, 191, 172],\n",
       "        ...,\n",
       "        [  7,   7,   7, ..., 199, 185, 163],\n",
       "        [  7,   7,   7, ..., 184, 174, 146],\n",
       "        [  9,   6,   7, ..., 177, 158, 138]], dtype=uint8),\n",
       " array([[138, 135, 116, ...,  50,  37,  42],\n",
       "        [135, 137, 132, ...,  43,  42,  40],\n",
       "        [130, 134, 139, ...,  37,  44,  35],\n",
       "        ...,\n",
       "        [114, 121, 122, ...,  20,  21,  20],\n",
       "        [106, 113, 114, ...,  18,  16,  15],\n",
       "        [ 98, 107, 108, ...,  15,  13,  12]], dtype=uint8),\n",
       " array([[255, 255, 221, ...,  10,   8,   4],\n",
       "        [255, 251, 203, ...,  10,  10,   6],\n",
       "        [255, 243, 151, ...,  11,  11,   8],\n",
       "        ...,\n",
       "        [255, 244, 211, ...,   9,  10,  10],\n",
       "        [251, 233, 204, ...,   9,   9,  10],\n",
       "        [245, 226, 199, ...,   9,  10,  10]], dtype=uint8),\n",
       " array([[  5,   5,   4, ..., 193, 207, 212],\n",
       "        [  5,   5,   4, ..., 180, 196, 205],\n",
       "        [  5,   5,   5, ..., 174, 180, 187],\n",
       "        ...,\n",
       "        [  3,   3,   3, ...,  78,  84,  88],\n",
       "        [  3,   3,   3, ...,  79,  72,  74],\n",
       "        [  3,   4,   3, ...,  82,  69,  78]], dtype=uint8),\n",
       " array([[ 11,  16,  21, ..., 251, 244, 254],\n",
       "        [ 17,  17,  15, ..., 197, 214, 235],\n",
       "        [ 10,  10,   8, ..., 147, 170, 189],\n",
       "        ...,\n",
       "        [ 10,  10,   9, ..., 136, 138, 136],\n",
       "        [ 10,   9,   9, ..., 130, 129, 124],\n",
       "        [ 10,   9,   9, ..., 124, 122, 112]], dtype=uint8),\n",
       " array([[ 64,  90, 107, ...,  99,  75,  57],\n",
       "        [120, 147, 153, ...,  64,  66,  61],\n",
       "        [134, 138, 127, ...,  28,  33,  44],\n",
       "        ...,\n",
       "        [ 12,  10,   7, ...,  22,  19,  12],\n",
       "        [ 10,  13,   3, ...,  20,  12,   4],\n",
       "        [  8,  13,   5, ...,  13,   5,   2]], dtype=uint8),\n",
       " array([[  2,   2,   3, ..., 163, 156, 149],\n",
       "        [  2,   2,   3, ..., 162, 157, 150],\n",
       "        [  2,   3,   3, ..., 158, 153, 150],\n",
       "        ...,\n",
       "        [  5,   5,   5, ..., 102,  98,  91],\n",
       "        [  4,   5,   5, ..., 100,  91,  96],\n",
       "        [  2,   4,   5, ...,  90,  98, 109]], dtype=uint8),\n",
       " array([[  1,   2,   2, ..., 142, 133, 112],\n",
       "        [  1,   2,   3, ..., 165, 144, 123],\n",
       "        [  1,   3,  12, ..., 182, 156, 130],\n",
       "        ...,\n",
       "        [  2,   2,   1, ...,  16,  19,  19],\n",
       "        [  2,   2,   2, ...,   9,  12,  13],\n",
       "        [  2,   1,   1, ...,   5,   7,   7]], dtype=uint8),\n",
       " array([[ 48,  60,  82, ...,  18,  12,   9],\n",
       "        [ 57,  72,  96, ...,  25,  14,  11],\n",
       "        [ 58,  82,  87, ...,  32,  19,  11],\n",
       "        ...,\n",
       "        [124,  80,   5, ...,   9,   7,   7],\n",
       "        [123,  96,  11, ...,   7,   7,   8],\n",
       "        [123, 107,  18, ...,   7,   7,   7]], dtype=uint8),\n",
       " array([[39, 59, 72, ..., 40, 33, 23],\n",
       "        [49, 60, 68, ..., 39, 31, 24],\n",
       "        [57, 60, 65, ..., 38, 30, 27],\n",
       "        ...,\n",
       "        [64, 60, 67, ..., 20, 21, 35],\n",
       "        [78, 64, 65, ..., 26, 22, 36],\n",
       "        [87, 75, 64, ..., 27, 18, 21]], dtype=uint8),\n",
       " array([[  1,   2,   2, ..., 196, 227, 183],\n",
       "        [  3,   3,   3, ..., 123, 203, 235],\n",
       "        [  4,   3,   2, ...,  81, 130, 198],\n",
       "        ...,\n",
       "        [  0,   0,   0, ..., 163, 148,  87],\n",
       "        [  0,   0,   0, ..., 143,  79,  13],\n",
       "        [  0,   0,   0, ...,  78,  22,   5]], dtype=uint8),\n",
       " array([[  1,   2,   5, ..., 197, 185, 141],\n",
       "        [  3,   5,   8, ..., 139, 170, 181],\n",
       "        [  3,   5,   7, ...,  80, 101, 141],\n",
       "        ...,\n",
       "        [  0,   0,   1, ..., 115,  99,  78],\n",
       "        [  0,   0,   0, ...,  95,  82,  82],\n",
       "        [  0,   0,   0, ...,  82, 102,  67]], dtype=uint8),\n",
       " array([[  5,   8,  16, ..., 102, 100,  83],\n",
       "        [  5,   9,  18, ..., 104,  98,  95],\n",
       "        [  6,  11,  13, ..., 107,  96,  89],\n",
       "        ...,\n",
       "        [135,  63,   2, ...,  60,  56,  64],\n",
       "        [135,  82,   4, ...,  51,  64,  65],\n",
       "        [133,  95,   7, ...,  66,  71,  63]], dtype=uint8),\n",
       " array([[48, 36, 35, ..., 19, 20, 22],\n",
       "        [28, 25, 24, ..., 19, 19, 17],\n",
       "        [20, 26, 34, ..., 17, 13, 14],\n",
       "        ...,\n",
       "        [85, 86, 90, ..., 28, 32, 48],\n",
       "        [73, 79, 87, ..., 30, 49, 51],\n",
       "        [74, 75, 83, ..., 43, 55, 48]], dtype=uint8),\n",
       " array([[  6,   6,   6, ..., 238, 229, 211],\n",
       "        [  6,   6,   6, ..., 235, 229, 198],\n",
       "        [  6,   6,   6, ..., 251, 242, 207],\n",
       "        ...,\n",
       "        [  4,   3,   3, ...,  61,  70,  70],\n",
       "        [  4,   3,   3, ...,  69,  78,  91],\n",
       "        [  4,   3,   4, ...,  64,  86, 101]], dtype=uint8),\n",
       " array([[14,  8,  9, ...,  6,  6,  5],\n",
       "        [ 8,  7, 10, ...,  6,  5,  5],\n",
       "        [ 8,  8, 15, ...,  7,  5,  4],\n",
       "        ...,\n",
       "        [ 3, 57, 87, ...,  0,  0,  0],\n",
       "        [ 3, 56, 86, ...,  0,  0,  0],\n",
       "        [ 4, 56, 84, ...,  0,  0,  0]], dtype=uint8),\n",
       " array([[  9,   9,   8, ..., 216, 210, 213],\n",
       "        [  9,   9,   9, ..., 198, 204, 209],\n",
       "        [ 10,   9,  10, ..., 198, 198, 200],\n",
       "        ...,\n",
       "        [ 14,  15,  17, ..., 228, 195,  99],\n",
       "        [ 15,  15,  17, ..., 237, 202,  89],\n",
       "        [ 15,  16,  16, ..., 240, 201,  80]], dtype=uint8),\n",
       " array([[  7,  12,  19, ..., 151, 144, 132],\n",
       "        [  7,  11,  21, ..., 159, 151, 139],\n",
       "        [  7,  12,  22, ..., 162, 156, 147],\n",
       "        ...,\n",
       "        [ 11,  13,  18, ...,  66,  60,  79],\n",
       "        [ 11,  13,  16, ...,  58,  73,  91],\n",
       "        [ 11,  12,  14, ...,  57,  86, 100]], dtype=uint8),\n",
       " array([[  4,   5,   5, ..., 239, 231, 204],\n",
       "        [  4,   5,   5, ..., 232, 222, 211],\n",
       "        [  5,   5,   6, ..., 235, 213, 209],\n",
       "        ...,\n",
       "        [  1,   2,   1, ...,  32,  42,  46],\n",
       "        [  1,   1,   1, ...,  36,  47,  46],\n",
       "        [  2,   1,   1, ...,  34,  28,  33]], dtype=uint8),\n",
       " array([[  0,  23,  90, ...,   0,   0,   0],\n",
       "        [  1,  38,  94, ...,   0,   0,   0],\n",
       "        [  3,  63, 101, ...,   0,   0,   0],\n",
       "        ...,\n",
       "        [  4,   0,   0, ...,   0,   0,   0],\n",
       "        [  5,   2,   0, ...,   0,   0,   0],\n",
       "        [  4,   2,   1, ...,   0,   0,   0]], dtype=uint8),\n",
       " array([[  6,   9,  26, ..., 155, 139, 113],\n",
       "        [  6,  10,  27, ..., 150, 133, 109],\n",
       "        [  6,  12,  30, ..., 149, 133, 128],\n",
       "        ...,\n",
       "        [  6,   6,   6, ..., 106, 121,  40],\n",
       "        [  4,   5,   5, ..., 117, 123,  33],\n",
       "        [  5,   5,   5, ..., 129, 124,  30]], dtype=uint8),\n",
       " array([[255, 255, 255, ...,  16,  16,  18],\n",
       "        [255, 255, 255, ...,  16,  16,  18],\n",
       "        [253, 255, 253, ...,  15,  16,  17],\n",
       "        ...,\n",
       "        [231, 236, 250, ...,  16,  15,  15],\n",
       "        [227, 229, 249, ...,  16,  15,  15],\n",
       "        [218, 239, 247, ...,  15,  14,  15]], dtype=uint8),\n",
       " array([[  2,   2,   2, ..., 213, 178, 150],\n",
       "        [  2,   2,   1, ..., 157, 182, 164],\n",
       "        [  2,   1,   0, ...,  88, 134, 158],\n",
       "        ...,\n",
       "        [  2,   3,   3, ...,  49,  51,  54],\n",
       "        [  3,   2,   3, ...,  50,  52,  56],\n",
       "        [  2,   2,   3, ...,  47,  53,  57]], dtype=uint8),\n",
       " array([[110, 117, 123, ...,  54,  41,  29],\n",
       "        [111, 117, 126, ...,  55,  41,  30],\n",
       "        [110, 116, 126, ...,  54,  41,  31],\n",
       "        ...,\n",
       "        [ 36,   7,   9, ...,   0,   0,   0],\n",
       "        [ 55,  24,   5, ...,   0,   0,   0],\n",
       "        [ 59,  54,  11, ...,   0,   0,   0]], dtype=uint8),\n",
       " array([[ 80, 102, 123, ...,  60,  43,  33],\n",
       "        [ 79, 102, 122, ...,  56,  41,  31],\n",
       "        [ 78, 101, 124, ...,  54,  41,  40],\n",
       "        ...,\n",
       "        [ 48,  18,  24, ...,  10,  11,   4],\n",
       "        [ 65,  42,  14, ...,   9,  12,   4],\n",
       "        [ 74,  67,  33, ...,  14,  21,  11]], dtype=uint8),\n",
       " array([[  5,   6,   7, ..., 124,  50,  47],\n",
       "        [  6,   5,   5, ...,  98,  49,  55],\n",
       "        [  6,   4,   5, ...,  66,  46,  54],\n",
       "        ...,\n",
       "        [  5,   5,   4, ..., 107, 105, 105],\n",
       "        [  5,   4,   5, ..., 101,  95,  92],\n",
       "        [  5,   5,   5, ...,  90,  84,  80]], dtype=uint8),\n",
       " array([[ 1,  1,  3, ...,  3,  2,  2],\n",
       "        [ 1,  1,  1, ...,  2,  2,  1],\n",
       "        [ 1,  1,  1, ...,  1,  1,  1],\n",
       "        ...,\n",
       "        [10, 12,  1, ...,  7, 10,  9],\n",
       "        [15, 11,  4, ..., 25, 15,  8],\n",
       "        [16, 11,  9, ..., 30, 15,  9]], dtype=uint8)]"
      ]
     },
     "execution_count": 44,
     "metadata": {},
     "output_type": "execute_result"
    }
   ],
   "source": [
    "trial1"
   ]
  },
  {
   "cell_type": "code",
   "execution_count": 45,
   "metadata": {},
   "outputs": [],
   "source": [
    "trial2 = sample(images, 482)\n",
    "trial3 = sample(images, 482)\n",
    "trial4 = sample(images, 482)\n",
    "trial5 = sample(images, 482)"
   ]
  },
  {
   "cell_type": "code",
   "execution_count": 46,
   "metadata": {},
   "outputs": [],
   "source": [
    "trial1 = np.array(trial1)\n",
    "trial2 = np.array(trial2)\n",
    "trial3 = np.array(trial3)\n",
    "trial4 = np.array(trial4)\n",
    "trial5 = np.array(trial5)"
   ]
  },
  {
   "cell_type": "code",
   "execution_count": 47,
   "metadata": {},
   "outputs": [
    {
     "data": {
      "text/plain": [
       "(482, 48, 42)"
      ]
     },
     "execution_count": 47,
     "metadata": {},
     "output_type": "execute_result"
    }
   ],
   "source": [
    "trial1.shape"
   ]
  },
  {
   "cell_type": "code",
   "execution_count": 48,
   "metadata": {},
   "outputs": [],
   "source": [
    "trial_train1 = trial1.reshape(trial1.shape[0], (trial1.shape[1]*trial1.shape[2]))"
   ]
  },
  {
   "cell_type": "code",
   "execution_count": 49,
   "metadata": {},
   "outputs": [
    {
     "data": {
      "text/plain": [
       "(482, 2016)"
      ]
     },
     "execution_count": 49,
     "metadata": {},
     "output_type": "execute_result"
    }
   ],
   "source": [
    "trial_train1.shape"
   ]
  },
  {
   "cell_type": "code",
   "execution_count": 50,
   "metadata": {},
   "outputs": [],
   "source": [
    "trial_train2 = trial2.reshape(trial2.shape[0], -1)\n",
    "trial_train3 = trial3.reshape(trial3.shape[0], -1)\n",
    "trial_train4 = trial4.reshape(trial4.shape[0], -1)\n",
    "trial_train5 = trial5.reshape(trial5.shape[0], -1)"
   ]
  },
  {
   "cell_type": "code",
   "execution_count": 51,
   "metadata": {},
   "outputs": [],
   "source": [
    "trial1_gau = gau_generation(trial_train1, image_size, g_ratio=2)\n",
    "trial2_gau = gau_generation(trial_train2, image_size, g_ratio=2)\n",
    "trial3_gau = gau_generation(trial_train3, image_size, g_ratio=2)\n",
    "trial4_gau = gau_generation(trial_train4, image_size, g_ratio=2)\n",
    "trial5_gau = gau_generation(trial_train5, image_size, g_ratio=2)"
   ]
  },
  {
   "cell_type": "code",
   "execution_count": 52,
   "metadata": {},
   "outputs": [
    {
     "data": {
      "text/plain": [
       "(482, 48, 42)"
      ]
     },
     "execution_count": 52,
     "metadata": {},
     "output_type": "execute_result"
    }
   ],
   "source": [
    "trial1_gau.shape"
   ]
  },
  {
   "cell_type": "code",
   "execution_count": 53,
   "metadata": {},
   "outputs": [],
   "source": [
    "trial1_gau = trial1_gau.reshape(trial1_gau.shape[0], -1)\n",
    "trial2_gau = trial2_gau.reshape(trial2_gau.shape[0], -1)\n",
    "trial3_gau = trial3_gau.reshape(trial3_gau.shape[0], -1)\n",
    "trial4_gau = trial4_gau.reshape(trial4_gau.shape[0], -1)\n",
    "trial5_gau = trial5_gau.reshape(trial5_gau.shape[0], -1)"
   ]
  },
  {
   "cell_type": "code",
   "execution_count": 54,
   "metadata": {},
   "outputs": [
    {
     "data": {
      "text/plain": [
       "(482, 2016)"
      ]
     },
     "execution_count": 54,
     "metadata": {},
     "output_type": "execute_result"
    }
   ],
   "source": [
    "trial1_gau.shape"
   ]
  },
  {
   "cell_type": "code",
   "execution_count": 55,
   "metadata": {},
   "outputs": [],
   "source": [
    "trial1_salt = salt_pepper(trial1, 0.1, 0.5, 48, 42)\n",
    "trial2_salt = salt_pepper(trial2, 0.1, 0.5, 48, 42)\n",
    "trial3_salt = salt_pepper(trial3, 0.1, 0.5, 48, 42)\n",
    "trial4_salt = salt_pepper(trial4, 0.1, 0.5, 48, 42)\n",
    "trial5_salt = salt_pepper(trial5, 0.1, 0.5, 48, 42)"
   ]
  },
  {
   "cell_type": "code",
   "execution_count": 56,
   "metadata": {},
   "outputs": [],
   "source": [
    "trial1_salt = trial1_salt.reshape(trial1_salt.shape[0], -1)\n",
    "trial2_salt = trial2_salt.reshape(trial2_salt.shape[0], -1)\n",
    "trial3_salt = trial3_salt.reshape(trial3_salt.shape[0], -1)\n",
    "trial4_salt = trial4_salt.reshape(trial4_salt.shape[0], -1)\n",
    "trial5_salt = trial5_salt.reshape(trial5_salt.shape[0], -1)"
   ]
  },
  {
   "cell_type": "code",
   "execution_count": 57,
   "metadata": {},
   "outputs": [
    {
     "data": {
      "text/plain": [
       "(482, 2016)"
      ]
     },
     "execution_count": 57,
     "metadata": {},
     "output_type": "execute_result"
    }
   ],
   "source": [
    "trial1_salt.shape"
   ]
  },
  {
   "cell_type": "markdown",
   "metadata": {},
   "source": [
    "### NMF implementation"
   ]
  },
  {
   "cell_type": "code",
   "execution_count": 58,
   "metadata": {},
   "outputs": [],
   "source": [
    "## visualize the progress of implementing code\n",
    "from tqdm import tqdm"
   ]
  },
  {
   "cell_type": "code",
   "execution_count": 59,
   "metadata": {},
   "outputs": [],
   "source": [
    "## define a simple NMF method that follows the multiplication update rules\n",
    "def simpleNMF(R, K, steps=1000, max_iterations = 1000):\n",
    "    rng = np.random.RandomState(1)\n",
    "    W = rng.rand(482, K)\n",
    "    H = rng.rand(2016, K)\n",
    "    for step in range(steps):\n",
    "        Wu = W*(R.dot(H))/(W.dot(H.T).dot(H))\n",
    "        Hu = (H.T*(Wu.T.dot(R))/(Wu.T.dot(Wu).dot(H.T))).T\n",
    "        \n",
    "        e_W = np.sqrt(np.sum((Wu-W)**2, axis=(0,1)))/W.size\n",
    "        e_H = np.sqrt(np.sum((Hu-H)**2, axis=(0,1)))/H.size\n",
    "        if e_W<0.001 and e_H<0.001:\n",
    "            print('step is:',step)\n",
    "            break\n",
    "        W = Wu\n",
    "        H = Hu\n",
    "        \n",
    "    return  W, H"
   ]
  },
  {
   "cell_type": "code",
   "execution_count": 60,
   "metadata": {},
   "outputs": [
    {
     "name": "stdout",
     "output_type": "stream",
     "text": [
      "step is: 45\n"
     ]
    }
   ],
   "source": [
    "W, H = simpleNMF(trial_train1, 2, max_iterations=100)"
   ]
  },
  {
   "cell_type": "code",
   "execution_count": 61,
   "metadata": {},
   "outputs": [
    {
     "name": "stdout",
     "output_type": "stream",
     "text": [
      "(482, 2)\n",
      "(2016, 2)\n"
     ]
    }
   ],
   "source": [
    "print(np.shape(np.array(W)))\n",
    "print(np.shape(np.array(H)))"
   ]
  },
  {
   "cell_type": "code",
   "execution_count": 62,
   "metadata": {},
   "outputs": [
    {
     "data": {
      "text/plain": [
       "38"
      ]
     },
     "execution_count": 62,
     "metadata": {},
     "output_type": "execute_result"
    }
   ],
   "source": [
    "#n_components = \n",
    "len(set(labels))"
   ]
  },
  {
   "cell_type": "code",
   "execution_count": 63,
   "metadata": {},
   "outputs": [
    {
     "name": "stdout",
     "output_type": "stream",
     "text": [
      "step is: 1\n",
      "step is: 1\n",
      "step is: 1\n",
      "step is: 1\n",
      "step is: 1\n"
     ]
    }
   ],
   "source": [
    "#result after gaussian noises\n",
    "W1_estimate_gau, H1_estimate_gau = simpleNMF(trial1_gau, 38, max_iterations=100)\n",
    "W2_estimate_gau, H2_estimate_gau = simpleNMF(trial2_gau, 38, max_iterations=100)\n",
    "W3_estimate_gau, H3_estimate_gau = simpleNMF(trial3_gau, 38, max_iterations=100)\n",
    "W4_estimate_gau, H4_estimate_gau = simpleNMF(trial4_gau, 38, max_iterations=100)\n",
    "W5_estimate_gau, H5_estimate_gau = simpleNMF(trial5_gau, 38, max_iterations=100)"
   ]
  },
  {
   "cell_type": "code",
   "execution_count": 64,
   "metadata": {},
   "outputs": [
    {
     "data": {
      "text/plain": [
       "(2016, 38)"
      ]
     },
     "execution_count": 64,
     "metadata": {},
     "output_type": "execute_result"
    }
   ],
   "source": [
    "np.shape(H1_estimate_gau)"
   ]
  },
  {
   "cell_type": "code",
   "execution_count": 65,
   "metadata": {},
   "outputs": [
    {
     "name": "stdout",
     "output_type": "stream",
     "text": [
      "step is: 1\n",
      "step is: 1\n",
      "step is: 1\n",
      "step is: 1\n",
      "step is: 1\n"
     ]
    }
   ],
   "source": [
    "W1_estimate_salt, H1_estimate_salt = simpleNMF(trial1_salt, 38, max_iterations=100)\n",
    "W2_estimate_salt, H2_estimate_salt = simpleNMF(trial2_salt, 38, max_iterations=100)\n",
    "W3_estimate_salt, H3_estimate_salt = simpleNMF(trial3_salt, 38, max_iterations=100)\n",
    "W4_estimate_salt, H4_estimate_salt = simpleNMF(trial4_salt, 38, max_iterations=100)\n",
    "W5_estimate_salt, H5_estimate_salt = simpleNMF(trial5_salt, 38, max_iterations=100)\n"
   ]
  },
  {
   "cell_type": "code",
   "execution_count": 66,
   "metadata": {},
   "outputs": [
    {
     "name": "stdout",
     "output_type": "stream",
     "text": [
      "==> Evaluate RRE on Gaussian noises .....\n",
      "RRE_salt1 = 0.5751611516361055\n",
      "RRE_salt2 = 0.5953460169824467\n",
      "RRE_salt3 = 0.5941119225045925\n",
      "RRE_gau4 = 0.5682125624791005\n",
      "RRE_gau5 = 0.5774293922560105\n",
      "average RRE gaussian for yaleB=0.5820522091716512 \n"
     ]
    }
   ],
   "source": [
    "print('==> Evaluate RRE on Gaussian noises .....')\n",
    "RRE_gau1 = np.linalg.norm((trial_train1 - np.array(W1_estimate_gau).dot(np.array(H1_estimate_gau.T)))) / np.linalg.norm(trial_train1)\n",
    "RRE_gau2 = np.linalg.norm((trial_train2 - np.array(W2_estimate_gau).dot(np.array(H2_estimate_gau.T)))) / np.linalg.norm(trial_train2)\n",
    "RRE_gau3 = np.linalg.norm((trial_train3 - np.array(W3_estimate_gau).dot(np.array(H3_estimate_gau.T)))) / np.linalg.norm(trial_train3)\n",
    "RRE_gau4 = np.linalg.norm((trial_train4 - np.array(W4_estimate_gau).dot(np.array(H4_estimate_gau.T)))) / np.linalg.norm(trial_train4)\n",
    "RRE_gau5 = np.linalg.norm((trial_train5 - np.array(W5_estimate_gau).dot(np.array(H5_estimate_gau.T)))) / np.linalg.norm(trial_train5)\n",
    "print('RRE_salt1 = {}'.format(RRE_gau1))\n",
    "print('RRE_salt2 = {}'.format(RRE_gau2))\n",
    "print('RRE_salt3 = {}'.format(RRE_gau3))\n",
    "print('RRE_gau4 = {}'.format(RRE_gau4))\n",
    "print('RRE_gau5 = {}'.format(RRE_gau5))\n",
    "total_gau_yaleb = RRE_gau1+RRE_gau2+RRE_gau3+RRE_gau4+RRE_gau5\n",
    "average_RRE_gau_yaleb = total_gau_yaleb / 5\n",
    "print('average RRE gaussian for yaleB={} '.format(average_RRE_gau_yaleb))"
   ]
  },
  {
   "cell_type": "code",
   "execution_count": 67,
   "metadata": {},
   "outputs": [
    {
     "name": "stdout",
     "output_type": "stream",
     "text": [
      "==> Evaluate RRE on Saltpepper noises .....\n",
      "RRE_salt1 = 0.5362130276380688\n",
      "RRE_salt2 = 0.5468943936192872\n",
      "RRE_salt3 = 0.5448319403884407\n",
      "RRE_salt4 = 0.5289244910105586\n",
      "RRE_salt5 = 0.5306870762876486\n",
      "average RRE salt pepper for yaleB=0.5375101857888007 \n"
     ]
    }
   ],
   "source": [
    "print('==> Evaluate RRE on Saltpepper noises .....')\n",
    "RRE_salt1 = np.linalg.norm((trial_train1 - np.array(W1_estimate_salt).dot(np.array(H1_estimate_salt.T)))) / np.linalg.norm(trial_train1)\n",
    "RRE_salt2 = np.linalg.norm((trial_train2 - np.array(W2_estimate_salt).dot(np.array(H2_estimate_salt.T)))) / np.linalg.norm(trial_train2)\n",
    "RRE_salt3 = np.linalg.norm((trial_train3 - np.array(W3_estimate_salt).dot(np.array(H3_estimate_salt.T)))) / np.linalg.norm(trial_train3)\n",
    "RRE_salt4 = np.linalg.norm((trial_train4 - np.array(W4_estimate_salt).dot(np.array(H4_estimate_salt.T)))) / np.linalg.norm(trial_train4)\n",
    "RRE_salt5 = np.linalg.norm((trial_train5 - np.array(W5_estimate_salt).dot(np.array(H5_estimate_salt.T)))) / np.linalg.norm(trial_train5)\n",
    "\n",
    "print('RRE_salt1 = {}'.format(RRE_salt1))\n",
    "print('RRE_salt2 = {}'.format(RRE_salt2))\n",
    "print('RRE_salt3 = {}'.format(RRE_salt3))\n",
    "print('RRE_salt4 = {}'.format(RRE_salt4))\n",
    "print('RRE_salt5 = {}'.format(RRE_salt5))\n",
    "total_salt_yaleb = RRE_salt1+RRE_salt2+RRE_salt3+RRE_salt4+RRE_salt5\n",
    "average_RRE_salt_yaleb = total_salt_yaleb / 5\n",
    "print('average RRE salt pepper for yaleB={} '.format(average_RRE_salt_yaleb))"
   ]
  },
  {
   "cell_type": "code",
   "execution_count": 68,
   "metadata": {},
   "outputs": [],
   "source": [
    "## Define a L1-RNMF class\n",
    "class L1RNMF( ):\n",
    "    def __init__(\n",
    "            self,\n",
    "            n_components,\n",
    "            tol=0.01,\n",
    "            max_iter=300,\n",
    "            skip_iter=10,\n",
    "            lambda_=128):\n",
    "        self.n_components = n_components\n",
    "        self.tol = tol\n",
    "        self.max_iter = max_iter\n",
    "        self.skip_iter = skip_iter\n",
    "        self.lambda_ = lambda_\n",
    "\n",
    "    def _compute_loss(self, R, W, H, E):\n",
    "        return (np.linalg.norm(R - W.dot(H) - E) ** 2 +\n",
    "                128 * np.sum(np.abs(E)))\n",
    "\n",
    "    def _update(self, R, W, H):\n",
    "        # compute E\n",
    "        E = R - W.dot(H)\n",
    "        idx_gre = E > 128 / 2\n",
    "        E[idx_gre] = E[idx_gre] - 128 / 2\n",
    "        idx_les = E < -128 / 2\n",
    "        E[idx_les] = E[idx_les] + 128 / 2\n",
    "        E[np.logical_not(np.logical_or(idx_gre, idx_les))] = 0\n",
    "        \n",
    "        # update W\n",
    "        de_W = 2 * W.dot(H).dot(H.T)\n",
    "        de_W[de_W == 0] = np.finfo(np.float32).eps\n",
    "        W = (W * (np.abs((E-R).dot(H.T)) - (E-R).dot(H.T)) /\n",
    "             de_W)\n",
    "        \n",
    "        # update H\n",
    "        de_H = 2 * W.T.dot(W).dot(H)\n",
    "        de_H[de_H == 0] = np.finfo(np.float32).eps\n",
    "        H = (H * (np.abs(W.T.dot(E-R)) - W.T.dot(E-R)) /\n",
    "             de_H)\n",
    "    \n",
    "        # normalize W and H\n",
    "        nor = np.sqrt(np.sum(np.square(W), axis=0, keepdims=True))\n",
    "        W = W / nor\n",
    "        H = H * nor.T\n",
    "        return W, H, E\n",
    "\n",
    "    def fit(self, R , n_components):\n",
    "       \n",
    "        rng = np.random.RandomState(1)\n",
    "        W = rng.rand(482, n_components)\n",
    "        H = rng.rand( n_components,2016)\n",
    "\n",
    "        los = [self._compute_loss(R, W, H, R - W.dot(H))]\n",
    "        for iter_ in range(300):\n",
    "            W, H, E = self._update(R, W, H)\n",
    "            if iter_ % self.skip_iter == 0:\n",
    "                los.append(self._compute_loss(R, W, H, E))\n",
    "                criterion = abs(los[-1] - los[-2]) / los[-2]\n",
    "            if criterion < 0.001:\n",
    "                 break\n",
    "        return W, H, E"
   ]
  },
  {
   "cell_type": "code",
   "execution_count": 69,
   "metadata": {},
   "outputs": [],
   "source": [
    "data_L1RNMF = L1RNMF(n_components = len(set(labels)))"
   ]
  },
  {
   "cell_type": "code",
   "execution_count": 70,
   "metadata": {},
   "outputs": [],
   "source": [
    "##result after gaussian noises\n",
    "W1_estimate_gau_1, H1_estimate_gau_1, E_estimate_gau_1 = data_L1RNMF.fit(trial1_gau, n_components = len(set(labels)))\n",
    "W2_estimate_gau_1, H2_estimate_gau_1, E_estimate_gau_1 = data_L1RNMF.fit(trial2_gau, n_components = len(set(labels)))\n",
    "W3_estimate_gau_1, H3_estimate_gau_1, E_estimate_gau_1 = data_L1RNMF.fit(trial3_gau, n_components = len(set(labels)))\n",
    "W4_estimate_gau_1, H4_estimate_gau_1, E_estimate_gau_1 = data_L1RNMF.fit(trial4_gau, n_components = len(set(labels)))\n",
    "W5_estimate_gau_1, H5_estimate_gau_1, E_estimate_gau_1 = data_L1RNMF.fit(trial5_gau, n_components = len(set(labels)))"
   ]
  },
  {
   "cell_type": "code",
   "execution_count": 71,
   "metadata": {},
   "outputs": [],
   "source": [
    "##result after saltpepper noises\n",
    "W1_estimate_salt_1, H1_estimate_salt_1, E_estimate_salt_1 = data_L1RNMF.fit(trial1_salt, n_components = len(set(labels)))\n",
    "W2_estimate_salt_1, H2_estimate_salt_1, E_estimate_salt_1 = data_L1RNMF.fit(trial2_salt, n_components = len(set(labels)))\n",
    "W3_estimate_salt_1, H3_estimate_salt_1, E_estimate_salt_1 = data_L1RNMF.fit(trial3_salt, n_components = len(set(labels)))\n",
    "W4_estimate_salt_1, H4_estimate_salt_1, E_estimate_salt_1 = data_L1RNMF.fit(trial4_salt, n_components = len(set(labels)))\n",
    "W5_estimate_salt_1, H5_estimate_salt_1, E_estimate_salt_1 = data_L1RNMF.fit(trial5_salt, n_components = len(set(labels)))"
   ]
  },
  {
   "cell_type": "code",
   "execution_count": 72,
   "metadata": {},
   "outputs": [
    {
     "name": "stdout",
     "output_type": "stream",
     "text": [
      "==> Evaluate RRE on Gaussian noises via L1RNMF.....\n",
      "RRE_salt1_1 = 0.24050854183585135\n",
      "RRE_salt2_1 = 0.27571504035373423\n",
      "RRE_salt3_1 = 0.26163471176626985\n",
      "RRE_gau4_1 = 0.23994043593693615\n",
      "RRE_gau5_1 = 0.2649567392015686\n",
      "average RRE gaussian for yaleB via L1RNMF=0.25655109381887203 \n"
     ]
    }
   ],
   "source": [
    "print('==> Evaluate RRE on Gaussian noises via L1RNMF.....')\n",
    "RRE_gau1_1 = np.linalg.norm((trial_train1 - np.array(W1_estimate_gau_1).dot(np.array(H1_estimate_gau_1)))) / np.linalg.norm(trial_train1)\n",
    "RRE_gau2_1 = np.linalg.norm((trial_train2 - np.array(W2_estimate_gau_1).dot(np.array(H2_estimate_gau_1)))) / np.linalg.norm(trial_train2)\n",
    "RRE_gau3_1 = np.linalg.norm((trial_train3 - np.array(W3_estimate_gau_1).dot(np.array(H3_estimate_gau_1)))) / np.linalg.norm(trial_train3)\n",
    "RRE_gau4_1 = np.linalg.norm((trial_train4 - np.array(W4_estimate_gau_1).dot(np.array(H4_estimate_gau_1)))) / np.linalg.norm(trial_train4)\n",
    "RRE_gau5_1 = np.linalg.norm((trial_train5 - np.array(W5_estimate_gau_1).dot(np.array(H5_estimate_gau_1)))) / np.linalg.norm(trial_train5)\n",
    "print('RRE_salt1_1 = {}'.format(RRE_gau1_1))\n",
    "print('RRE_salt2_1 = {}'.format(RRE_gau2_1))\n",
    "print('RRE_salt3_1 = {}'.format(RRE_gau3_1))\n",
    "print('RRE_gau4_1 = {}'.format(RRE_gau4_1))\n",
    "print('RRE_gau5_1 = {}'.format(RRE_gau5_1))\n",
    "total_gau_yaleb_1 = RRE_gau1_1+RRE_gau2_1+RRE_gau3_1+RRE_gau4_1+RRE_gau5_1\n",
    "average_RRE_gau_yaleb_1 = total_gau_yaleb_1 / 5\n",
    "print('average RRE gaussian for yaleB via L1RNMF={} '.format(average_RRE_gau_yaleb_1))"
   ]
  },
  {
   "cell_type": "code",
   "execution_count": 73,
   "metadata": {},
   "outputs": [
    {
     "name": "stdout",
     "output_type": "stream",
     "text": [
      "==> Evaluate RRE on Saltpepper noises via L1RNMF.....\n",
      "RRE_salt1_1 = 0.19559473327083632\n",
      "RRE_salt2_1 = 0.20222224587067802\n",
      "RRE_salt3_1 = 0.2058679329063069\n",
      "RRE_salt4_1 = 0.19817933256665787\n",
      "RRE_salt5_1 = 0.2009852600482199\n",
      "average RRE Saltpepper for yaleB via L1RNMF=0.20056990093253982 \n"
     ]
    }
   ],
   "source": [
    "print('==> Evaluate RRE on Saltpepper noises via L1RNMF.....')\n",
    "RRE_salt1_1 = np.linalg.norm((trial_train1 - np.array(W1_estimate_salt_1).dot(np.array(H1_estimate_salt_1)))) / np.linalg.norm(trial_train1)\n",
    "RRE_salt2_1 = np.linalg.norm((trial_train2 - np.array(W2_estimate_salt_1).dot(np.array(H2_estimate_salt_1)))) / np.linalg.norm(trial_train2)\n",
    "RRE_salt3_1 = np.linalg.norm((trial_train3 - np.array(W3_estimate_salt_1).dot(np.array(H3_estimate_salt_1)))) / np.linalg.norm(trial_train3)\n",
    "RRE_salt4_1 = np.linalg.norm((trial_train4 - np.array(W4_estimate_salt_1).dot(np.array(H4_estimate_salt_1)))) / np.linalg.norm(trial_train4)\n",
    "RRE_salt5_1 = np.linalg.norm((trial_train5 - np.array(W5_estimate_salt_1).dot(np.array(H5_estimate_salt_1)))) / np.linalg.norm(trial_train5)\n",
    "\n",
    "print('RRE_salt1_1 = {}'.format(RRE_salt1_1))\n",
    "print('RRE_salt2_1 = {}'.format(RRE_salt2_1))\n",
    "print('RRE_salt3_1 = {}'.format(RRE_salt3_1))\n",
    "print('RRE_salt4_1 = {}'.format(RRE_salt4_1))\n",
    "print('RRE_salt5_1 = {}'.format(RRE_salt5_1))\n",
    "total_salt_yaleb_1 = RRE_salt1_1+RRE_salt2_1+RRE_salt3_1+RRE_salt4_1+RRE_salt5_1\n",
    "average_RRE_salt_yaleb_1 = total_salt_yaleb_1 / 5\n",
    "print('average RRE Saltpepper for yaleB via L1RNMF={} '.format(average_RRE_salt_yaleb_1))"
   ]
  },
  {
   "cell_type": "markdown",
   "metadata": {},
   "source": [
    "### 　Evaluate Clustering Performance"
   ]
  },
  {
   "cell_type": "code",
   "execution_count": 74,
   "metadata": {},
   "outputs": [],
   "source": [
    "from collections import Counter\n",
    "from sklearn.cluster import KMeans\n",
    "from sklearn.metrics import accuracy_score\n",
    "from sklearn.metrics import normalized_mutual_info_score\n"
   ]
  },
  {
   "cell_type": "code",
   "execution_count": 75,
   "metadata": {},
   "outputs": [],
   "source": [
    "def assign_cluster_label(X, Y):\n",
    "    kmeans = KMeans(n_clusters=len(set(Y))).fit(X)\n",
    "    Y_pred = np.zeros(Y.shape)\n",
    "    for i in set(kmeans.labels_):\n",
    "        ind = kmeans.labels_ == i\n",
    "        Y_pred[ind] = Counter(Y[ind]).most_common(1)[0][0] # assign label.\n",
    "    return Y_pred"
   ]
  },
  {
   "cell_type": "code",
   "execution_count": 76,
   "metadata": {},
   "outputs": [
    {
     "data": {
      "text/plain": [
       "2414"
      ]
     },
     "execution_count": 76,
     "metadata": {},
     "output_type": "execute_result"
    }
   ],
   "source": [
    "len(labels)"
   ]
  },
  {
   "cell_type": "code",
   "execution_count": 77,
   "metadata": {},
   "outputs": [],
   "source": [
    "Y_hat_1 = sample(labels, 482)\n",
    "Y_hat_2 = sample(labels, 482)\n",
    "Y_hat_3 = sample(labels, 482)\n",
    "Y_hat_4 = sample(labels, 482)\n",
    "Y_hat_5 = sample(labels, 482)"
   ]
  },
  {
   "cell_type": "code",
   "execution_count": 78,
   "metadata": {},
   "outputs": [
    {
     "data": {
      "text/plain": [
       "(482,)"
      ]
     },
     "execution_count": 78,
     "metadata": {},
     "output_type": "execute_result"
    }
   ],
   "source": [
    "Y_hat_1 = np.array(Y_hat_1)\n",
    "Y_hat_2 = np.array(Y_hat_2)\n",
    "Y_hat_3 = np.array(Y_hat_3)\n",
    "Y_hat_4 = np.array(Y_hat_4)\n",
    "Y_hat_5 = np.array(Y_hat_5)\n",
    "Y_hat_1.shape"
   ]
  },
  {
   "cell_type": "code",
   "execution_count": 79,
   "metadata": {},
   "outputs": [
    {
     "name": "stdout",
     "output_type": "stream",
     "text": [
      "==> Evaluate Acc and NMI ...\n",
      "Acc(NMI) for gauss 1 yaleB = 0.1432 (0.2417)\n",
      "Acc(NMI) for gauss 2 yaleB = 0.1494 (0.2310)\n",
      "Acc(NMI) for gauss 3 yaleB = 0.1535 (0.2554)\n",
      "Acc(NMI) for gauss 4 yaleB = 0.1473 (0.2457)\n",
      "Acc(NMI) for gauss 5 yaleB = 0.1494 (0.2076)\n"
     ]
    }
   ],
   "source": [
    "print('==> Evaluate Acc and NMI ...')\n",
    "\n",
    "# Assign cluster labels.\n",
    "Y_pred1_gau = assign_cluster_label(W1_estimate_gau, Y_hat_1)\n",
    "acc = accuracy_score(Y_hat_1, Y_pred1_gau)\n",
    "nmi = normalized_mutual_info_score(Y_hat_1, Y_pred1_gau)\n",
    "print('Acc(NMI) for gauss 1 yaleB = {:.4f} ({:.4f})'.format(acc, nmi))\n",
    "Y_pred2_gau = assign_cluster_label(W2_estimate_gau, Y_hat_2)\n",
    "acc = accuracy_score(Y_hat_2, Y_pred2_gau)\n",
    "nmi = normalized_mutual_info_score(Y_hat_2, Y_pred2_gau)\n",
    "print('Acc(NMI) for gauss 2 yaleB = {:.4f} ({:.4f})'.format(acc, nmi))\n",
    "Y_pred3_gau = assign_cluster_label(W3_estimate_gau, Y_hat_3)\n",
    "acc = accuracy_score(Y_hat_3, Y_pred3_gau)\n",
    "nmi = normalized_mutual_info_score(Y_hat_3, Y_pred3_gau)\n",
    "print('Acc(NMI) for gauss 3 yaleB = {:.4f} ({:.4f})'.format(acc, nmi))\n",
    "Y_pred4_gau = assign_cluster_label(W4_estimate_gau, Y_hat_4)\n",
    "acc = accuracy_score(Y_hat_4, Y_pred4_gau)\n",
    "nmi = normalized_mutual_info_score(Y_hat_4, Y_pred4_gau)\n",
    "print('Acc(NMI) for gauss 4 yaleB = {:.4f} ({:.4f})'.format(acc, nmi))\n",
    "Y_pred5_gau = assign_cluster_label(W5_estimate_gau, Y_hat_5)\n",
    "acc = accuracy_score(Y_hat_5, Y_pred5_gau)\n",
    "nmi = normalized_mutual_info_score(Y_hat_5, Y_pred5_gau)\n",
    "print('Acc(NMI) for gauss 5 yaleB = {:.4f} ({:.4f})'.format(acc, nmi))"
   ]
  },
  {
   "cell_type": "code",
   "execution_count": 80,
   "metadata": {},
   "outputs": [
    {
     "name": "stdout",
     "output_type": "stream",
     "text": [
      "average accuracy for gauss YaleB is: 0.14192\n"
     ]
    }
   ],
   "source": [
    "print('average accuracy for gauss YaleB is:',(0.1452 + 0.1452 + 0.1349 + 0.1411 + 0.1432)/5)"
   ]
  },
  {
   "cell_type": "code",
   "execution_count": 81,
   "metadata": {},
   "outputs": [
    {
     "name": "stdout",
     "output_type": "stream",
     "text": [
      "average NMI for gauss YaleB is: 0.23242\n"
     ]
    }
   ],
   "source": [
    "print('average NMI for gauss YaleB is:',(0.2423 + 0.2288 + 0.2420 + 0.2205 + 0.2285)/5)"
   ]
  },
  {
   "cell_type": "code",
   "execution_count": 82,
   "metadata": {},
   "outputs": [
    {
     "name": "stdout",
     "output_type": "stream",
     "text": [
      "==> Evaluate Acc and NMI ...\n",
      "Acc(NMI) for salt 1 yaleB = 0.1515 (0.2429)\n",
      "Acc(NMI) for salt 2 yaleB = 0.1307 (0.1871)\n",
      "Acc(NMI) for salt 3 yaleB = 0.1473 (0.2290)\n",
      "Acc(NMI) for salt 4 yaleB = 0.1556 (0.2367)\n",
      "Acc(NMI) for salt 5 yaleB = 0.1432 (0.2194)\n"
     ]
    }
   ],
   "source": [
    "print('==> Evaluate Acc and NMI ...')\n",
    "\n",
    "# Assign cluster labels.\n",
    "Y_pred1_salt = assign_cluster_label(W1_estimate_salt, Y_hat_1)\n",
    "acc = accuracy_score(Y_hat_1, Y_pred1_salt)\n",
    "nmi = normalized_mutual_info_score(Y_hat_1, Y_pred1_salt)\n",
    "print('Acc(NMI) for salt 1 yaleB = {:.4f} ({:.4f})'.format(acc, nmi))\n",
    "Y_pred2_salt = assign_cluster_label(W2_estimate_salt, Y_hat_2)\n",
    "acc = accuracy_score(Y_hat_2, Y_pred2_salt)\n",
    "nmi = normalized_mutual_info_score(Y_hat_2, Y_pred2_salt)\n",
    "print('Acc(NMI) for salt 2 yaleB = {:.4f} ({:.4f})'.format(acc, nmi))\n",
    "Y_pred3_salt = assign_cluster_label(W3_estimate_salt, Y_hat_3)\n",
    "acc = accuracy_score(Y_hat_3, Y_pred3_salt)\n",
    "nmi = normalized_mutual_info_score(Y_hat_3, Y_pred3_salt)\n",
    "print('Acc(NMI) for salt 3 yaleB = {:.4f} ({:.4f})'.format(acc, nmi))\n",
    "Y_pred4_salt = assign_cluster_label(W4_estimate_salt, Y_hat_4)\n",
    "acc = accuracy_score(Y_hat_4, Y_pred4_salt)\n",
    "nmi = normalized_mutual_info_score(Y_hat_4, Y_pred4_salt)\n",
    "print('Acc(NMI) for salt 4 yaleB = {:.4f} ({:.4f})'.format(acc, nmi))\n",
    "Y_pred5_salt = assign_cluster_label(W5_estimate_salt, Y_hat_5)\n",
    "acc = accuracy_score(Y_hat_5, Y_pred5_salt)\n",
    "nmi = normalized_mutual_info_score(Y_hat_5, Y_pred5_salt)\n",
    "print('Acc(NMI) for salt 5 yaleB = {:.4f} ({:.4f})'.format(acc, nmi))"
   ]
  },
  {
   "cell_type": "code",
   "execution_count": 83,
   "metadata": {},
   "outputs": [
    {
     "name": "stdout",
     "output_type": "stream",
     "text": [
      "average accuracy for salt pepper YaleB is: 0.14316\n"
     ]
    }
   ],
   "source": [
    "print('average accuracy for salt pepper YaleB is:', (0.1452+0.1494+0.1432+0.1369+0.1411)/5)"
   ]
  },
  {
   "cell_type": "code",
   "execution_count": 84,
   "metadata": {},
   "outputs": [
    {
     "name": "stdout",
     "output_type": "stream",
     "text": [
      "average NMI for salt pepper YaleB is: 0.22188\n"
     ]
    }
   ],
   "source": [
    "print('average NMI for salt pepper YaleB is:', (0.2018+0.2159+0.2430+0.2200+0.2287)/5)"
   ]
  },
  {
   "cell_type": "markdown",
   "metadata": {},
   "source": [
    "## Import Data-ORL"
   ]
  },
  {
   "cell_type": "code",
   "execution_count": 85,
   "metadata": {},
   "outputs": [
    {
     "name": "stdout",
     "output_type": "stream",
     "text": [
      "Files and directories in ' C:/Users/Administrator/Downloads/COMP5328/Data/ORL ' :\n",
      "['.DS_Store', 'README', 's1', 's10', 's11', 's12', 's13', 's14', 's15', 's16', 's17', 's18', 's19', 's2', 's20', 's21', 's22', 's23', 's24', 's25', 's26', 's27', 's28', 's29', 's3', 's30', 's31', 's32', 's33', 's34', 's35', 's36', 's37', 's38', 's39', 's4', 's40', 's5', 's6', 's7', 's8', 's9']\n"
     ]
    }
   ],
   "source": [
    "# Get the list of all files and directories \n",
    "# in the root directory \n",
    "path = \"./Data/ORL\"\n",
    "dir_list = os.listdir(path) \n",
    "  \n",
    "print(\"Files and directories in '\", path, \"' :\")  \n",
    "  \n",
    "# print the list \n",
    "print(dir_list)"
   ]
  },
  {
   "cell_type": "code",
   "execution_count": 86,
   "metadata": {},
   "outputs": [],
   "source": [
    "images_ORL, labels_ORL = [], []\n",
    "reduce_size = 2\n",
    "root = \"./Data/ORL\"\n",
    "for i, person in enumerate(sorted(os.listdir(root))):\n",
    "    if not os.path.isdir(os.path.join(root, person)):\n",
    "        continue\n",
    "    else:    \n",
    "        for fname in os.listdir(os.path.join(root, person)):    \n",
    "            \n",
    "            # Remove background images in Extended YaleB dataset.\n",
    "            if fname.endswith('Ambient.pgm'):\n",
    "                continue\n",
    "            \n",
    "            elif fname.endswith('.pgm'):\n",
    "                \n",
    "            \n",
    "                # load image.\n",
    "                img_ORL = Image.open(os.path.join(root, person, fname))\n",
    "                img_ORL = img_ORL.convert('L') # grey image.\n",
    "\n",
    "                #reduce computation complexity.\n",
    "                #reduce size: define 减小倍数\n",
    "                \n",
    "                img_ORL = img_ORL.resize([s//reduce_size for s in img_ORL.size])\n",
    "\n",
    "                # convert image to numpy array.\n",
    "                img_ORL = np.asarray(img_ORL)\n",
    "\n",
    "                # collect data and label.\n",
    "                images_ORL.append(img_ORL)\n",
    "                labels_ORL.append(i)\n"
   ]
  },
  {
   "cell_type": "markdown",
   "metadata": {},
   "source": [
    "### Explore data info"
   ]
  },
  {
   "cell_type": "code",
   "execution_count": 87,
   "metadata": {
    "scrolled": true
   },
   "outputs": [
    {
     "data": {
      "text/plain": [
       "(56, 46)"
      ]
     },
     "execution_count": 87,
     "metadata": {},
     "output_type": "execute_result"
    }
   ],
   "source": [
    "np.shape(img_ORL)"
   ]
  },
  {
   "cell_type": "code",
   "execution_count": 88,
   "metadata": {},
   "outputs": [
    {
     "data": {
      "text/plain": [
       "400"
      ]
     },
     "execution_count": 88,
     "metadata": {},
     "output_type": "execute_result"
    }
   ],
   "source": [
    "len(images_ORL)"
   ]
  },
  {
   "cell_type": "code",
   "execution_count": 89,
   "metadata": {},
   "outputs": [
    {
     "data": {
      "text/plain": [
       "(400, 56, 46)"
      ]
     },
     "execution_count": 89,
     "metadata": {},
     "output_type": "execute_result"
    }
   ],
   "source": [
    "np.shape(np.array(images_ORL))"
   ]
  },
  {
   "cell_type": "markdown",
   "metadata": {},
   "source": [
    "### Display a random image"
   ]
  },
  {
   "cell_type": "code",
   "execution_count": 90,
   "metadata": {
    "scrolled": true
   },
   "outputs": [
    {
     "data": {
      "text/plain": [
       "<matplotlib.image.AxesImage at 0x1a8a2ad2b80>"
      ]
     },
     "execution_count": 90,
     "metadata": {},
     "output_type": "execute_result"
    },
    {
     "data": {
      "image/png": "[encoded data removed]",
      "text/plain": [
       "<Figure size 432x288 with 1 Axes>"
      ]
     },
     "metadata": {
      "needs_background": "light"
     },
     "output_type": "display_data"
    }
   ],
   "source": [
    "plt.imshow(images_ORL[10], cmap=\"gray\")"
   ]
  },
  {
   "cell_type": "markdown",
   "metadata": {},
   "source": [
    "As computational complexity has been reduced by dividing the image size by a reduce size of 2 for both height and weight, the shape of a single image has been reduced from (112,92) to (56,46)"
   ]
  },
  {
   "cell_type": "code",
   "execution_count": 91,
   "metadata": {
    "scrolled": true
   },
   "outputs": [
    {
     "name": "stdout",
     "output_type": "stream",
     "text": [
      "<class 'list'>\n"
     ]
    }
   ],
   "source": [
    "print(type(images_ORL))"
   ]
  },
  {
   "cell_type": "markdown",
   "metadata": {},
   "source": [
    "### add noises"
   ]
  },
  {
   "cell_type": "code",
   "execution_count": 92,
   "metadata": {},
   "outputs": [],
   "source": [
    "##add noise 1: saltpepper noise\n",
    "salt_pepper_noise_ORL = salt_pepper(images_ORL, 0.1, 0.5, 48, 42)"
   ]
  },
  {
   "cell_type": "markdown",
   "metadata": {},
   "source": [
    "p and r are hyperparameters, p is set to control the noise level (no. of modified pixels / total no. of pixels) and equals to 0.1, r is set to control the ratio of being w255 (white) to the number of modified pixel values and equals to 0.5"
   ]
  },
  {
   "cell_type": "markdown",
   "metadata": {},
   "source": [
    "### display a random image after saltpepper noise"
   ]
  },
  {
   "cell_type": "code",
   "execution_count": 93,
   "metadata": {
    "scrolled": true
   },
   "outputs": [
    {
     "data": {
      "text/plain": [
       "<matplotlib.image.AxesImage at 0x1a8a2b1de80>"
      ]
     },
     "execution_count": 93,
     "metadata": {},
     "output_type": "execute_result"
    },
    {
     "data": {
      "image/png": "[encoded data removed]",
      "text/plain": [
       "<Figure size 432x288 with 1 Axes>"
      ]
     },
     "metadata": {
      "needs_background": "light"
     },
     "output_type": "display_data"
    }
   ],
   "source": [
    "plt.imshow(salt_pepper_noise_ORL[10], cmap=\"gray\")"
   ]
  },
  {
   "cell_type": "code",
   "execution_count": 94,
   "metadata": {},
   "outputs": [
    {
     "data": {
      "image/png": "[encoded data removed]",
      "text/plain": [
       "<Figure size 432x288 with 2 Axes>"
      ]
     },
     "metadata": {
      "needs_background": "light"
     },
     "output_type": "display_data"
    }
   ],
   "source": [
    "##see effect of adding saltpepper noise\n",
    "plt.subplot(121)\n",
    "plt.imshow(images_ORL[10], cmap=\"gray\")\n",
    "plt.title('original image')\n",
    "plt.subplot(122)\n",
    "restructured_ORL = salt_pepper(images, 0.1, 0.5, 48, 42)\n",
    "plt.imshow(salt_pepper_noise_ORL[10], cmap=\"gray\")\n",
    "plt.title('saltpepper ORL noise image')\n",
    "plt.show()"
   ]
  },
  {
   "cell_type": "code",
   "execution_count": 97,
   "metadata": {},
   "outputs": [],
   "source": [
    "## add noise 2: gaussian noise\n",
    "image_size_ORL = (images_ORL[0].shape[0], images_ORL[0].shape[1])\n",
    "image_gause_ORL = gau_generation(images_ORL, image_size_ORL, g_ratio = 1)"
   ]
  },
  {
   "cell_type": "code",
   "execution_count": 98,
   "metadata": {},
   "outputs": [
    {
     "data": {
      "text/plain": [
       "(56, 46)"
      ]
     },
     "execution_count": 98,
     "metadata": {},
     "output_type": "execute_result"
    }
   ],
   "source": [
    "image_size_ORL"
   ]
  },
  {
   "cell_type": "code",
   "execution_count": 99,
   "metadata": {
    "scrolled": true
   },
   "outputs": [
    {
     "data": {
      "text/plain": [
       "<matplotlib.image.AxesImage at 0x1a8a2c426a0>"
      ]
     },
     "execution_count": 99,
     "metadata": {},
     "output_type": "execute_result"
    },
    {
     "data": {
      "image/png": "[encoded data removed]",
      "text/plain": [
       "<Figure size 432x288 with 1 Axes>"
      ]
     },
     "metadata": {
      "needs_background": "light"
     },
     "output_type": "display_data"
    }
   ],
   "source": [
    "plt.imshow(image_gause_ORL[10], cmap=\"gray\")"
   ]
  },
  {
   "cell_type": "code",
   "execution_count": 100,
   "metadata": {},
   "outputs": [
    {
     "data": {
      "image/png": "[encoded data removed]",
      "text/plain": [
       "<Figure size 432x288 with 2 Axes>"
      ]
     },
     "metadata": {
      "needs_background": "light"
     },
     "output_type": "display_data"
    }
   ],
   "source": [
    "##see effect of adding gaussian noise\n",
    "plt.subplot(121)\n",
    "plt.imshow(images_ORL[10], cmap=\"gray\")\n",
    "plt.title('original image')\n",
    "plt.subplot(122)\n",
    "restructured_ORL = gau_generation(images_ORL, image_size_ORL, g_ratio = 2)\n",
    "plt.imshow(image_gause_ORL[10], cmap=\"gray\")\n",
    "plt.title('gaussian ORL noise image')\n",
    "plt.show()"
   ]
  },
  {
   "cell_type": "markdown",
   "metadata": {},
   "source": [
    "### Data Preprocessing"
   ]
  },
  {
   "cell_type": "code",
   "execution_count": 101,
   "metadata": {},
   "outputs": [
    {
     "data": {
      "text/plain": [
       "(400, 56, 46)"
      ]
     },
     "execution_count": 101,
     "metadata": {},
     "output_type": "execute_result"
    }
   ],
   "source": [
    "np.array(images_ORL).shape"
   ]
  },
  {
   "cell_type": "code",
   "execution_count": 102,
   "metadata": {},
   "outputs": [
    {
     "data": {
      "text/plain": [
       "(400, 56, 46)"
      ]
     },
     "execution_count": 102,
     "metadata": {},
     "output_type": "execute_result"
    }
   ],
   "source": [
    "image_faces_ORL = (images_ORL)\n",
    "image_faces_ORL = np.array(image_faces_ORL)\n",
    "image_faces_ORL.shape"
   ]
  },
  {
   "cell_type": "code",
   "execution_count": 103,
   "metadata": {},
   "outputs": [
    {
     "data": {
      "text/plain": [
       "400"
      ]
     },
     "execution_count": 103,
     "metadata": {},
     "output_type": "execute_result"
    }
   ],
   "source": [
    "len(image_faces_ORL)"
   ]
  },
  {
   "cell_type": "code",
   "execution_count": 104,
   "metadata": {},
   "outputs": [
    {
     "data": {
      "text/plain": [
       "80.0"
      ]
     },
     "execution_count": 104,
     "metadata": {},
     "output_type": "execute_result"
    }
   ],
   "source": [
    "subsample_size_ORL = image_faces_ORL.shape[0]*0.2\n",
    "subsample_size_ORL"
   ]
  },
  {
   "cell_type": "code",
   "execution_count": 105,
   "metadata": {},
   "outputs": [
    {
     "name": "stdout",
     "output_type": "stream",
     "text": [
      "image_faces_train ORL shape: (80, 56, 46)\n",
      "n_samples size ORL: 80\n",
      "image shape ORL is: (56, 46)\n"
     ]
    }
   ],
   "source": [
    "# use a subsample for training\n",
    "image_faces_train_ORL = image_faces_ORL[:80,:,:]\n",
    "print(\"image_faces_train ORL shape:\",image_faces_train_ORL.shape)\n",
    "n_samples_ORL = len(image_faces_train_ORL)\n",
    "print(\"n_samples size ORL:\",n_samples_ORL)\n",
    "image_shape_ORL = image_faces_train_ORL[0].shape\n",
    "print(\"image shape ORL is:\", image_shape_ORL)"
   ]
  },
  {
   "cell_type": "code",
   "execution_count": 106,
   "metadata": {},
   "outputs": [],
   "source": [
    "from random import sample"
   ]
  },
  {
   "cell_type": "code",
   "execution_count": 107,
   "metadata": {},
   "outputs": [],
   "source": [
    "trial1_ORL = sample(images_ORL, 80)\n",
    "trial2_ORL = sample(images_ORL, 80)\n",
    "trial3_ORL = sample(images_ORL, 80)\n",
    "trial4_ORL = sample(images_ORL, 80)\n",
    "trial5_ORL = sample(images_ORL, 80)"
   ]
  },
  {
   "cell_type": "code",
   "execution_count": 108,
   "metadata": {},
   "outputs": [],
   "source": [
    "trial1_ORL = np.array(trial1_ORL)\n",
    "trial2_ORL = np.array(trial2_ORL)\n",
    "trial3_ORL = np.array(trial3_ORL)\n",
    "trial4_ORL = np.array(trial4_ORL)\n",
    "trial5_ORL = np.array(trial5_ORL)"
   ]
  },
  {
   "cell_type": "code",
   "execution_count": 109,
   "metadata": {},
   "outputs": [
    {
     "data": {
      "text/plain": [
       "(80, 56, 46)"
      ]
     },
     "execution_count": 109,
     "metadata": {},
     "output_type": "execute_result"
    }
   ],
   "source": [
    "trial1_ORL.shape"
   ]
  },
  {
   "cell_type": "code",
   "execution_count": 110,
   "metadata": {},
   "outputs": [],
   "source": [
    "trial_train1_ORL = trial1_ORL.reshape(trial1_ORL.shape[0], (trial1_ORL.shape[1]*trial1_ORL.shape[2]))\n",
    "trial_train2_ORL = trial2_ORL.reshape(trial2_ORL.shape[0], (trial2_ORL.shape[1]*trial2_ORL.shape[2]))\n",
    "trial_train3_ORL = trial3_ORL.reshape(trial3_ORL.shape[0], (trial3_ORL.shape[1]*trial3_ORL.shape[2]))\n",
    "trial_train4_ORL = trial4_ORL.reshape(trial4_ORL.shape[0], (trial4_ORL.shape[1]*trial4_ORL.shape[2]))\n",
    "trial_train5_ORL = trial5_ORL.reshape(trial5_ORL.shape[0], (trial5_ORL.shape[1]*trial5_ORL.shape[2]))\n"
   ]
  },
  {
   "cell_type": "code",
   "execution_count": 111,
   "metadata": {},
   "outputs": [
    {
     "data": {
      "text/plain": [
       "(80, 2576)"
      ]
     },
     "execution_count": 111,
     "metadata": {},
     "output_type": "execute_result"
    }
   ],
   "source": [
    "trial_train1_ORL.shape"
   ]
  },
  {
   "cell_type": "code",
   "execution_count": 112,
   "metadata": {},
   "outputs": [],
   "source": [
    "trial1_gau_ORL = gau_generation(trial_train1_ORL, image_size_ORL, g_ratio=2)\n",
    "trial2_gau_ORL = gau_generation(trial_train2_ORL, image_size_ORL, g_ratio=2)\n",
    "trial3_gau_ORL = gau_generation(trial_train3_ORL, image_size_ORL, g_ratio=2)\n",
    "trial4_gau_ORL = gau_generation(trial_train4_ORL, image_size_ORL, g_ratio=2)\n",
    "trial5_gau_ORL = gau_generation(trial_train5_ORL, image_size_ORL, g_ratio=2)\n",
    "\n"
   ]
  },
  {
   "cell_type": "code",
   "execution_count": 113,
   "metadata": {},
   "outputs": [],
   "source": [
    "trial1_gau_ORL = trial1_gau_ORL.reshape(trial1_gau_ORL.shape[0], (trial1_gau_ORL.shape[1]*trial1_gau_ORL.shape[2]))\n",
    "trial2_gau_ORL = trial2_gau_ORL.reshape(trial2_gau_ORL.shape[0], (trial2_gau_ORL.shape[1]*trial2_gau_ORL.shape[2]))\n",
    "trial3_gau_ORL = trial3_gau_ORL.reshape(trial3_gau_ORL.shape[0], (trial3_gau_ORL.shape[1]*trial3_gau_ORL.shape[2]))\n",
    "trial4_gau_ORL = trial4_gau_ORL.reshape(trial4_gau_ORL.shape[0], (trial4_gau_ORL.shape[1]*trial4_gau_ORL.shape[2]))\n",
    "trial5_gau_ORL = trial5_gau_ORL.reshape(trial5_gau_ORL.shape[0], (trial5_gau_ORL.shape[1]*trial5_gau_ORL.shape[2]))"
   ]
  },
  {
   "cell_type": "code",
   "execution_count": 114,
   "metadata": {},
   "outputs": [
    {
     "data": {
      "text/plain": [
       "(80, 2576)"
      ]
     },
     "execution_count": 114,
     "metadata": {},
     "output_type": "execute_result"
    }
   ],
   "source": [
    "trial1_gau_ORL.shape"
   ]
  },
  {
   "cell_type": "code",
   "execution_count": 115,
   "metadata": {},
   "outputs": [],
   "source": [
    "trial1_salt_ORL = salt_pepper(trial1_ORL, 0.1, 0.5, 48, 42)\n",
    "trial2_salt_ORL = salt_pepper(trial2_ORL, 0.1, 0.5, 48, 42)\n",
    "trial3_salt_ORL = salt_pepper(trial3_ORL, 0.1, 0.5, 48, 42)\n",
    "trial4_salt_ORL = salt_pepper(trial4_ORL, 0.1, 0.5, 48, 42)\n",
    "trial5_salt_ORL = salt_pepper(trial5_ORL, 0.1, 0.5, 48, 42)"
   ]
  },
  {
   "cell_type": "code",
   "execution_count": 116,
   "metadata": {},
   "outputs": [],
   "source": [
    "trial1_salt_ORL = trial1_salt_ORL.reshape(trial1_salt_ORL.shape[0], (trial1_salt_ORL.shape[1]*trial1_salt_ORL.shape[2]))\n",
    "trial2_salt_ORL = trial2_salt_ORL.reshape(trial2_salt_ORL.shape[0], (trial2_salt_ORL.shape[1]*trial2_salt_ORL.shape[2]))\n",
    "trial3_salt_ORL = trial3_salt_ORL.reshape(trial3_salt_ORL.shape[0], (trial3_salt_ORL.shape[1]*trial3_salt_ORL.shape[2]))\n",
    "trial4_salt_ORL = trial4_salt_ORL.reshape(trial4_salt_ORL.shape[0], (trial4_salt_ORL.shape[1]*trial4_salt_ORL.shape[2]))\n",
    "trial5_salt_ORL = trial5_salt_ORL.reshape(trial5_salt_ORL.shape[0], (trial5_salt_ORL.shape[1]*trial5_salt_ORL.shape[2]))\n",
    "\n",
    "\n"
   ]
  },
  {
   "cell_type": "code",
   "execution_count": 117,
   "metadata": {},
   "outputs": [
    {
     "data": {
      "text/plain": [
       "(80, 2576)"
      ]
     },
     "execution_count": 117,
     "metadata": {},
     "output_type": "execute_result"
    }
   ],
   "source": [
    "trial5_salt_ORL.shape"
   ]
  },
  {
   "cell_type": "markdown",
   "metadata": {},
   "source": [
    "### NMF implementation"
   ]
  },
  {
   "cell_type": "code",
   "execution_count": 118,
   "metadata": {},
   "outputs": [],
   "source": [
    "## visualize the progress of implementing code\n",
    "from tqdm import tqdm"
   ]
  },
  {
   "cell_type": "code",
   "execution_count": 119,
   "metadata": {},
   "outputs": [
    {
     "data": {
      "text/plain": [
       "80"
      ]
     },
     "execution_count": 119,
     "metadata": {},
     "output_type": "execute_result"
    }
   ],
   "source": [
    "len(trial_train1_ORL)"
   ]
  },
  {
   "cell_type": "code",
   "execution_count": 120,
   "metadata": {},
   "outputs": [
    {
     "data": {
      "text/plain": [
       "(56, 46)"
      ]
     },
     "execution_count": 120,
     "metadata": {},
     "output_type": "execute_result"
    }
   ],
   "source": [
    "image_size_ORL"
   ]
  },
  {
   "cell_type": "code",
   "execution_count": 121,
   "metadata": {},
   "outputs": [
    {
     "data": {
      "text/plain": [
       "2576"
      ]
     },
     "execution_count": 121,
     "metadata": {},
     "output_type": "execute_result"
    }
   ],
   "source": [
    "56*46"
   ]
  },
  {
   "cell_type": "code",
   "execution_count": 122,
   "metadata": {},
   "outputs": [],
   "source": [
    "def simpleNMF(R, K, steps=1000, max_iterations = 1000):\n",
    "    rng = np.random.RandomState(1)\n",
    "    W = rng.rand(80, K)\n",
    "    H = rng.rand(2576, K)\n",
    "    for step in range(steps):\n",
    "        Wu = W*(R.dot(H))/(W.dot(H.T).dot(H))\n",
    "        Hu = (H.T*(Wu.T.dot(R))/(Wu.T.dot(Wu).dot(H.T))).T\n",
    "        \n",
    "        e_W = np.sqrt(np.sum((Wu-W)**2, axis=(0,1)))/W.size\n",
    "        e_H = np.sqrt(np.sum((Hu-H)**2, axis=(0,1)))/H.size\n",
    "        if e_W<0.001 and e_H<0.001:\n",
    "            print('step is:',step)\n",
    "            break\n",
    "        W = Wu\n",
    "        H = Hu\n",
    "        \n",
    "    return  W, H"
   ]
  },
  {
   "cell_type": "code",
   "execution_count": 123,
   "metadata": {},
   "outputs": [
    {
     "name": "stdout",
     "output_type": "stream",
     "text": [
      "step is: 200\n"
     ]
    }
   ],
   "source": [
    "W, H = simpleNMF(trial_train1_ORL, 2, max_iterations=100)"
   ]
  },
  {
   "cell_type": "code",
   "execution_count": 124,
   "metadata": {},
   "outputs": [
    {
     "name": "stdout",
     "output_type": "stream",
     "text": [
      "(80, 2)\n",
      "(2576, 2)\n"
     ]
    }
   ],
   "source": [
    "print(np.shape(np.array(W)))\n",
    "print(np.shape(np.array(H)))"
   ]
  },
  {
   "cell_type": "code",
   "execution_count": 125,
   "metadata": {},
   "outputs": [
    {
     "data": {
      "text/plain": [
       "40"
      ]
     },
     "execution_count": 125,
     "metadata": {},
     "output_type": "execute_result"
    }
   ],
   "source": [
    "##n_components\n",
    "len(set(labels_ORL))"
   ]
  },
  {
   "cell_type": "code",
   "execution_count": 126,
   "metadata": {},
   "outputs": [
    {
     "name": "stdout",
     "output_type": "stream",
     "text": [
      "step is: 2\n",
      "step is: 2\n",
      "step is: 2\n",
      "step is: 2\n",
      "step is: 2\n"
     ]
    }
   ],
   "source": [
    "##result after gaussian noises\n",
    "W1_estimate_gau_ORL, H1_estimate_gau_ORL = simpleNMF(trial1_gau_ORL, 40, max_iterations=100)\n",
    "W2_estimate_gau_ORL, H2_estimate_gau_ORL = simpleNMF(trial2_gau_ORL, 40, max_iterations=100)\n",
    "W3_estimate_gau_ORL, H3_estimate_gau_ORL = simpleNMF(trial3_gau_ORL, 40, max_iterations=100)\n",
    "W4_estimate_gau_ORL, H4_estimate_gau_ORL = simpleNMF(trial4_gau_ORL, 40, max_iterations=100)\n",
    "W5_estimate_gau_ORL, H5_estimate_gau_ORL = simpleNMF(trial5_gau_ORL, 40, max_iterations=100)\n"
   ]
  },
  {
   "cell_type": "code",
   "execution_count": 127,
   "metadata": {},
   "outputs": [
    {
     "name": "stdout",
     "output_type": "stream",
     "text": [
      "step is: 2\n",
      "step is: 2\n",
      "step is: 2\n",
      "step is: 2\n",
      "step is: 2\n"
     ]
    }
   ],
   "source": [
    "W1_estimate_salt_ORL, H1_estimate_salt_ORL = simpleNMF(trial1_salt_ORL, 40, max_iterations=100)\n",
    "W2_estimate_salt_ORL, H2_estimate_salt_ORL = simpleNMF(trial2_salt_ORL, 40, max_iterations=100)\n",
    "W3_estimate_salt_ORL, H3_estimate_salt_ORL = simpleNMF(trial3_salt_ORL, 40, max_iterations=100)\n",
    "W4_estimate_salt_ORL, H4_estimate_salt_ORL = simpleNMF(trial4_salt_ORL, 40, max_iterations=100)\n",
    "W5_estimate_salt_ORL, H5_estimate_salt_ORL = simpleNMF(trial5_salt_ORL, 40, max_iterations=100)\n"
   ]
  },
  {
   "cell_type": "code",
   "execution_count": 128,
   "metadata": {},
   "outputs": [],
   "source": [
    "W1_estimate_gau_ORL = np.array(W1_estimate_gau_ORL)\n",
    "W2_estimate_gau_ORL = np.array(W2_estimate_gau_ORL)\n",
    "W3_estimate_gau_ORL = np.array(W3_estimate_gau_ORL)\n",
    "W4_estimate_gau_ORL = np.array(W4_estimate_gau_ORL)\n",
    "W5_estimate_gau_ORL = np.array(W5_estimate_gau_ORL)"
   ]
  },
  {
   "cell_type": "code",
   "execution_count": 129,
   "metadata": {},
   "outputs": [],
   "source": [
    "H1_estimate_gau_ORL = np.array(H1_estimate_gau_ORL)\n",
    "H2_estimate_gau_ORL = np.array(H2_estimate_gau_ORL)\n",
    "H3_estimate_gau_ORL = np.array(H3_estimate_gau_ORL)\n",
    "H4_estimate_gau_ORL = np.array(H4_estimate_gau_ORL)\n",
    "H5_estimate_gau_ORL = np.array(H5_estimate_gau_ORL)"
   ]
  },
  {
   "cell_type": "code",
   "execution_count": 130,
   "metadata": {},
   "outputs": [],
   "source": [
    "W1_estimate_salt_ORL = np.array(W1_estimate_salt_ORL)\n",
    "W2_estimate_salt_ORL = np.array(W2_estimate_salt_ORL)\n",
    "W3_estimate_salt_ORL = np.array(W3_estimate_salt_ORL)\n",
    "W4_estimate_salt_ORL = np.array(W4_estimate_salt_ORL)\n",
    "W5_estimate_salt_ORL = np.array(W5_estimate_salt_ORL)"
   ]
  },
  {
   "cell_type": "code",
   "execution_count": 131,
   "metadata": {},
   "outputs": [],
   "source": [
    "H1_estimate_salt_ORL = np.array(H1_estimate_salt_ORL)\n",
    "H2_estimate_salt_ORL = np.array(H2_estimate_salt_ORL)\n",
    "H3_estimate_salt_ORL = np.array(H3_estimate_salt_ORL)\n",
    "H4_estimate_salt_ORL = np.array(H4_estimate_salt_ORL)\n",
    "H5_estimate_salt_ORL = np.array(H5_estimate_salt_ORL)"
   ]
  },
  {
   "cell_type": "code",
   "execution_count": 132,
   "metadata": {},
   "outputs": [
    {
     "name": "stdout",
     "output_type": "stream",
     "text": [
      "==> Evaluate RRE on Gaussian noises.....\n",
      "RRE_gau1_ORL = 0.2849819070760367\n",
      "RRE_gau2_ORL = 0.29197551181097986\n",
      "RRE_gau3_ORL = 0.29458924777427437\n",
      "RRE_gau4_ORL = 0.29405413379978534\n",
      "RRE_gau5_ORL = 0.2953103491943323\n"
     ]
    }
   ],
   "source": [
    "print('==> Evaluate RRE on Gaussian noises.....')\n",
    "RRE_gau1_ORL = np.linalg.norm((trial_train1_ORL - W1_estimate_gau_ORL.dot(H1_estimate_gau_ORL.T))) / np.linalg.norm(trial_train1_ORL)\n",
    "RRE_gau2_ORL = np.linalg.norm((trial_train2_ORL - W2_estimate_gau_ORL.dot(H2_estimate_gau_ORL.T))) / np.linalg.norm(trial_train2_ORL)\n",
    "RRE_gau3_ORL = np.linalg.norm((trial_train3_ORL - W3_estimate_gau_ORL.dot(H3_estimate_gau_ORL.T))) / np.linalg.norm(trial_train3_ORL)\n",
    "RRE_gau4_ORL = np.linalg.norm((trial_train4_ORL - W4_estimate_gau_ORL.dot(H4_estimate_gau_ORL.T))) / np.linalg.norm(trial_train4_ORL)\n",
    "RRE_gau5_ORL = np.linalg.norm((trial_train5_ORL - W5_estimate_gau_ORL.dot(H5_estimate_gau_ORL.T))) / np.linalg.norm(trial_train5_ORL)\n",
    "print('RRE_gau1_ORL = {}'.format(RRE_gau1_ORL))\n",
    "print('RRE_gau2_ORL = {}'.format(RRE_gau2_ORL))\n",
    "print('RRE_gau3_ORL = {}'.format(RRE_gau3_ORL))\n",
    "print('RRE_gau4_ORL = {}'.format(RRE_gau4_ORL))\n",
    "print('RRE_gau5_ORL = {}'.format(RRE_gau5_ORL))\n"
   ]
  },
  {
   "cell_type": "code",
   "execution_count": 133,
   "metadata": {},
   "outputs": [
    {
     "name": "stdout",
     "output_type": "stream",
     "text": [
      "average RRE gaussian for ORL=0.2921822299310817 \n"
     ]
    }
   ],
   "source": [
    "total_gau_ORL = RRE_gau1_ORL+RRE_gau2_ORL+RRE_gau3_ORL+RRE_gau4_ORL+RRE_gau5_ORL\n",
    "average_RRE_gau_ORL = total_gau_ORL / 5\n",
    "print('average RRE gaussian for ORL={} '.format(average_RRE_gau_ORL))\n",
    "\n"
   ]
  },
  {
   "cell_type": "code",
   "execution_count": 134,
   "metadata": {},
   "outputs": [
    {
     "name": "stdout",
     "output_type": "stream",
     "text": [
      "==> Evaluate RRE on Gaussian noises.....\n",
      "RRE_salt1_ORL = 0.28822509159835813\n",
      "RRE_salt2_ORL = 0.2949582643695762\n",
      "RRE_salt3_ORL = 0.29739385575203336\n",
      "RRE_salt4_ORL = 0.29705838491240616\n",
      "RRE_salt5_ORL = 0.298613823278962\n"
     ]
    }
   ],
   "source": [
    "print('==> Evaluate RRE on Gaussian noises.....')\n",
    "RRE_salt1_ORL = np.linalg.norm((trial_train1_ORL - W1_estimate_salt_ORL.dot(H1_estimate_salt_ORL.T))) / np.linalg.norm(trial_train1_ORL)\n",
    "RRE_salt2_ORL = np.linalg.norm((trial_train2_ORL - W2_estimate_salt_ORL.dot(H2_estimate_salt_ORL.T))) / np.linalg.norm(trial_train2_ORL)\n",
    "RRE_salt3_ORL = np.linalg.norm((trial_train3_ORL - W3_estimate_salt_ORL.dot(H3_estimate_salt_ORL.T))) / np.linalg.norm(trial_train3_ORL)\n",
    "RRE_salt4_ORL = np.linalg.norm((trial_train4_ORL - W4_estimate_salt_ORL.dot(H4_estimate_salt_ORL.T))) / np.linalg.norm(trial_train4_ORL)\n",
    "RRE_salt5_ORL = np.linalg.norm((trial_train5_ORL - W5_estimate_salt_ORL.dot(H5_estimate_salt_ORL.T))) / np.linalg.norm(trial_train5_ORL)\n",
    "print('RRE_salt1_ORL = {}'.format(RRE_salt1_ORL))\n",
    "print('RRE_salt2_ORL = {}'.format(RRE_salt2_ORL))\n",
    "print('RRE_salt3_ORL = {}'.format(RRE_salt3_ORL))\n",
    "print('RRE_salt4_ORL = {}'.format(RRE_salt4_ORL))\n",
    "print('RRE_salt5_ORL = {}'.format(RRE_salt5_ORL))"
   ]
  },
  {
   "cell_type": "code",
   "execution_count": 135,
   "metadata": {},
   "outputs": [
    {
     "name": "stdout",
     "output_type": "stream",
     "text": [
      "average RRE salt pepper for ORL =0.29524988398226715 \n"
     ]
    }
   ],
   "source": [
    "total_salt_ORL = RRE_salt1_ORL+RRE_salt2_ORL+RRE_salt3_ORL+RRE_salt4_ORL+RRE_salt5_ORL\n",
    "average_RRE_salt_ORL = total_salt_ORL / 5\n",
    "print('average RRE salt pepper for ORL ={} '.format(average_RRE_salt_ORL))"
   ]
  },
  {
   "cell_type": "markdown",
   "metadata": {},
   "source": [
    "### Evaluate Clustering Performance"
   ]
  },
  {
   "cell_type": "code",
   "execution_count": 136,
   "metadata": {},
   "outputs": [],
   "source": [
    "Y_hat_1_ORL = sample(labels_ORL, 80)\n",
    "Y_hat_2_ORL = sample(labels_ORL, 80)\n",
    "Y_hat_3_ORL = sample(labels_ORL, 80)\n",
    "Y_hat_4_ORL = sample(labels_ORL, 80)\n",
    "Y_hat_5_ORL = sample(labels_ORL, 80)"
   ]
  },
  {
   "cell_type": "code",
   "execution_count": 137,
   "metadata": {},
   "outputs": [],
   "source": [
    "Y_hat_1_ORL = np.array(Y_hat_1_ORL)\n",
    "Y_hat_2_ORL = np.array(Y_hat_2_ORL)\n",
    "Y_hat_3_ORL = np.array(Y_hat_3_ORL)\n",
    "Y_hat_4_ORL = np.array(Y_hat_4_ORL)\n",
    "Y_hat_5_ORL = np.array(Y_hat_5_ORL)"
   ]
  },
  {
   "cell_type": "code",
   "execution_count": 138,
   "metadata": {},
   "outputs": [
    {
     "name": "stdout",
     "output_type": "stream",
     "text": [
      "==> Evaluate Acc and NMI ...\n",
      "Acc(NMI) for gauss 1 _ORL = 0.5375 (0.7737)\n",
      "Acc(NMI) for gauss 2 _ORL = 0.4750 (0.6965)\n",
      "Acc(NMI) for gauss 3 _ORL = 0.5000 (0.7379)\n",
      "Acc(NMI) for gauss 4 _ORL = 0.4625 (0.6980)\n",
      "Acc(NMI) for gauss 5 _ORL = 0.4875 (0.7171)\n"
     ]
    }
   ],
   "source": [
    "print('==> Evaluate Acc and NMI ...')\n",
    "\n",
    "# Assign cluster labels.\n",
    "Y_pred1_gau_ORL = assign_cluster_label(W1_estimate_gau_ORL, Y_hat_1_ORL)\n",
    "acc = accuracy_score(Y_hat_1_ORL, Y_pred1_gau_ORL)\n",
    "nmi = normalized_mutual_info_score(Y_hat_1_ORL, Y_pred1_gau_ORL)\n",
    "print('Acc(NMI) for gauss 1 _ORL = {:.4f} ({:.4f})'.format(acc, nmi))\n",
    "Y_pred2_gau_ORL = assign_cluster_label(W2_estimate_gau_ORL, Y_hat_2_ORL)\n",
    "acc = accuracy_score(Y_hat_2_ORL, Y_pred2_gau_ORL)\n",
    "nmi = normalized_mutual_info_score(Y_hat_2_ORL, Y_pred2_gau_ORL)\n",
    "print('Acc(NMI) for gauss 2 _ORL = {:.4f} ({:.4f})'.format(acc, nmi))\n",
    "Y_pred3_gau_ORL = assign_cluster_label(W3_estimate_gau_ORL, Y_hat_3_ORL)\n",
    "acc = accuracy_score(Y_hat_3_ORL, Y_pred3_gau_ORL)\n",
    "nmi = normalized_mutual_info_score(Y_hat_3_ORL, Y_pred3_gau_ORL)\n",
    "print('Acc(NMI) for gauss 3 _ORL = {:.4f} ({:.4f})'.format(acc, nmi))\n",
    "Y_pred4_gau_ORL = assign_cluster_label(W4_estimate_gau_ORL, Y_hat_4_ORL)\n",
    "acc = accuracy_score(Y_hat_4_ORL, Y_pred4_gau_ORL)\n",
    "nmi = normalized_mutual_info_score(Y_hat_4_ORL, Y_pred4_gau_ORL)\n",
    "print('Acc(NMI) for gauss 4 _ORL = {:.4f} ({:.4f})'.format(acc, nmi))\n",
    "Y_pred5_gau_ORL = assign_cluster_label(W5_estimate_gau_ORL, Y_hat_5_ORL)\n",
    "acc = accuracy_score(Y_hat_5_ORL, Y_pred5_gau_ORL)\n",
    "nmi = normalized_mutual_info_score(Y_hat_5_ORL, Y_pred5_gau_ORL)\n",
    "print('Acc(NMI) for gauss 5 _ORL = {:.4f} ({:.4f})'.format(acc, nmi))"
   ]
  },
  {
   "cell_type": "code",
   "execution_count": 139,
   "metadata": {},
   "outputs": [
    {
     "name": "stdout",
     "output_type": "stream",
     "text": [
      "average accuracy for gauss ORL is: 0.475\n"
     ]
    }
   ],
   "source": [
    "print('average accuracy for gauss ORL is:',(0.45 + 0.4625 + 0.5250 + 0.4750 + 0.4625)/5)"
   ]
  },
  {
   "cell_type": "code",
   "execution_count": 140,
   "metadata": {},
   "outputs": [
    {
     "name": "stdout",
     "output_type": "stream",
     "text": [
      "average NMI for gauss ORL is: 0.69504\n"
     ]
    }
   ],
   "source": [
    "print('average NMI for gauss ORL is:',(0.6451 + 0.6895 + 0.7259 + 0.7102+ 0.7045)/5)"
   ]
  },
  {
   "cell_type": "code",
   "execution_count": 141,
   "metadata": {},
   "outputs": [
    {
     "name": "stdout",
     "output_type": "stream",
     "text": [
      "==> Evaluate Acc and NMI ...\n",
      "Acc(NMI) for salt 1 _ORL = 0.5125 (0.7476)\n",
      "Acc(NMI) for salt 2 _ORL = 0.4750 (0.7033)\n",
      "Acc(NMI) for salt 3 _ORL = 0.5000 (0.7330)\n",
      "Acc(NMI) for salt 4 _ORL= 0.4375 (0.6736)\n",
      "Acc(NMI) for salt 5 _ORL = 0.5375 (0.7352)\n"
     ]
    }
   ],
   "source": [
    "print('==> Evaluate Acc and NMI ...')\n",
    "\n",
    "# Assign cluster labels.\n",
    "Y_pred1_salt_ORL = assign_cluster_label(W1_estimate_salt_ORL, Y_hat_1_ORL)\n",
    "acc = accuracy_score(Y_hat_1_ORL, Y_pred1_salt_ORL)\n",
    "nmi = normalized_mutual_info_score(Y_hat_1_ORL, Y_pred1_salt_ORL)\n",
    "print('Acc(NMI) for salt 1 _ORL = {:.4f} ({:.4f})'.format(acc, nmi))\n",
    "Y_pred2_salt_ORL = assign_cluster_label(W2_estimate_salt_ORL, Y_hat_2_ORL)\n",
    "acc = accuracy_score(Y_hat_2_ORL, Y_pred2_salt_ORL)\n",
    "nmi = normalized_mutual_info_score(Y_hat_2_ORL, Y_pred2_salt_ORL)\n",
    "print('Acc(NMI) for salt 2 _ORL = {:.4f} ({:.4f})'.format(acc, nmi))\n",
    "Y_pred3_salt_ORL = assign_cluster_label(W3_estimate_salt_ORL, Y_hat_3_ORL)\n",
    "acc = accuracy_score(Y_hat_3_ORL, Y_pred3_salt_ORL)\n",
    "nmi = normalized_mutual_info_score(Y_hat_3_ORL, Y_pred3_salt_ORL)\n",
    "print('Acc(NMI) for salt 3 _ORL = {:.4f} ({:.4f})'.format(acc, nmi))\n",
    "Y_pred4_salt_ORL = assign_cluster_label(W4_estimate_salt_ORL, Y_hat_4_ORL)\n",
    "acc = accuracy_score(Y_hat_4_ORL, Y_pred4_salt_ORL)\n",
    "nmi = normalized_mutual_info_score(Y_hat_4_ORL, Y_pred4_salt_ORL)\n",
    "print('Acc(NMI) for salt 4 _ORL= {:.4f} ({:.4f})'.format(acc, nmi))\n",
    "Y_pred5_salt_ORL = assign_cluster_label(W5_estimate_salt_ORL, Y_hat_5_ORL)\n",
    "acc = accuracy_score(Y_hat_5_ORL, Y_pred5_salt_ORL)\n",
    "nmi = normalized_mutual_info_score(Y_hat_5_ORL, Y_pred5_salt_ORL)\n",
    "print('Acc(NMI) for salt 5 _ORL = {:.4f} ({:.4f})'.format(acc, nmi))"
   ]
  },
  {
   "cell_type": "code",
   "execution_count": 142,
   "metadata": {},
   "outputs": [
    {
     "name": "stdout",
     "output_type": "stream",
     "text": [
      "average accuracy for salt pepper ORL is: 0.47000000000000003\n"
     ]
    }
   ],
   "source": [
    "print('average accuracy for salt pepper ORL is:', (0.4750+0.4500+0.5125+0.4625+0.4500)/5)"
   ]
  },
  {
   "cell_type": "code",
   "execution_count": 143,
   "metadata": {},
   "outputs": [
    {
     "name": "stdout",
     "output_type": "stream",
     "text": [
      "average NMI for salt pepper ORL is: 0.69794\n"
     ]
    }
   ],
   "source": [
    "print('average NMI for salt pepper ORL is:', (0.6869+0.6856+0.72+0.7014+0.6958)/5)"
   ]
  },
  {
   "cell_type": "code",
   "execution_count": 144,
   "metadata": {},
   "outputs": [],
   "source": [
    "## Define a L1-RNMF class\n",
    "class L1RNMF1( ):\n",
    "    def __init__(\n",
    "            self,\n",
    "            n_components,\n",
    "            tol=0.01,\n",
    "            max_iter=300,\n",
    "            skip_iter=10,\n",
    "            lambda_=128):\n",
    "        self.n_components = n_components\n",
    "        self.tol = tol\n",
    "        self.max_iter = max_iter\n",
    "        self.skip_iter = skip_iter\n",
    "        self.lambda_ = lambda_\n",
    "\n",
    "    def _compute_loss(self, R, W, H, E):\n",
    "        return (np.linalg.norm(R - W.dot(H) - E) ** 2 +\n",
    "                128 * np.sum(np.abs(E)))\n",
    "\n",
    "    def _update(self, R, W, H):\n",
    "        # compute E\n",
    "        E = R - W.dot(H)\n",
    "        idx_gre = E > 128 / 2\n",
    "        E[idx_gre] = E[idx_gre] - 128 / 2\n",
    "        idx_les = E < -128 / 2\n",
    "        E[idx_les] = E[idx_les] + 128 / 2\n",
    "        E[np.logical_not(np.logical_or(idx_gre, idx_les))] = 0\n",
    "        \n",
    "        # update W\n",
    "        de_W = 2 * W.dot(H).dot(H.T)\n",
    "        de_W[de_W == 0] = np.finfo(np.float32).eps\n",
    "        W = (W * (np.abs((E-R).dot(H.T)) - (E-R).dot(H.T)) /\n",
    "             de_W)\n",
    "        \n",
    "        # update H\n",
    "        de_H = 2 * W.T.dot(W).dot(H)\n",
    "        de_H[de_H == 0] = np.finfo(np.float32).eps\n",
    "        H = (H * (np.abs(W.T.dot(E-R)) - W.T.dot(E-R)) /\n",
    "             de_H)\n",
    "    \n",
    "        # normalize W and H\n",
    "        nor = np.sqrt(np.sum(np.square(W), axis=0, keepdims=True))\n",
    "        W = W / nor\n",
    "        H = H * nor.T\n",
    "        return W, H, E\n",
    "\n",
    "    def fit(self, R , n_components):\n",
    "       \n",
    "        rng = np.random.RandomState(1)\n",
    "        W = rng.rand(80, n_components)\n",
    "        H = rng.rand( n_components,2576)\n",
    "\n",
    "        los = [self._compute_loss(R, W, H, R - W.dot(H))]\n",
    "        for iter_ in range(300):\n",
    "            W, H, E = self._update(R, W, H)\n",
    "            if iter_ % self.skip_iter == 0:\n",
    "                los.append(self._compute_loss(R, W, H, E))\n",
    "                criterion = abs(los[-1] - los[-2]) / los[-2]\n",
    "            if criterion < 0.001:\n",
    "                 break\n",
    "        return W, H, E"
   ]
  },
  {
   "cell_type": "code",
   "execution_count": 145,
   "metadata": {},
   "outputs": [],
   "source": [
    "data_L1RNMF = L1RNMF1(n_components = len(set(labels)))"
   ]
  },
  {
   "cell_type": "code",
   "execution_count": 146,
   "metadata": {},
   "outputs": [],
   "source": [
    "##result after gaussian noises\n",
    "W1_estimate_gau_ORL_1, H1_estimate_gau_ORL_1, E_estimate_gau_ORL_1 = data_L1RNMF.fit(trial1_gau_ORL, n_components = len(set(labels_ORL)))\n",
    "W2_estimate_gau_ORL_1, H2_estimate_gau_ORL_1, E_estimate_gau_ORL_1 = data_L1RNMF.fit(trial2_gau_ORL, n_components = len(set(labels_ORL)))\n",
    "W3_estimate_gau_ORL_1, H3_estimate_gau_ORL_1, E_estimate_gau_ORL_1 = data_L1RNMF.fit(trial3_gau_ORL, n_components = len(set(labels_ORL)))\n",
    "W4_estimate_gau_ORL_1, H4_estimate_gau_ORL_1, E_estimate_gau_ORL_1 = data_L1RNMF.fit(trial4_gau_ORL, n_components = len(set(labels_ORL)))\n",
    "W5_estimate_gau_ORL_1, H5_estimate_gau_ORL_1, E_estimate_gau_ORL_1 = data_L1RNMF.fit(trial5_gau_ORL, n_components = len(set(labels_ORL)))"
   ]
  },
  {
   "cell_type": "code",
   "execution_count": 147,
   "metadata": {},
   "outputs": [],
   "source": [
    "##result after saltpepper noises\n",
    "W1_estimate_salt_ORL_1, H1_estimate_salt_ORL_1, E_estimate_salt_ORL_1 = data_L1RNMF.fit(trial1_salt_ORL, n_components = len(set(labels_ORL)))\n",
    "W2_estimate_salt_ORL_1, H2_estimate_salt_ORL_1, E_estimate_salt_ORL_1 = data_L1RNMF.fit(trial2_salt_ORL, n_components = len(set(labels_ORL)))\n",
    "W3_estimate_salt_ORL_1, H3_estimate_salt_ORL_1, E_estimate_salt_ORL_1 = data_L1RNMF.fit(trial3_salt_ORL, n_components = len(set(labels_ORL)))\n",
    "W4_estimate_salt_ORL_1, H4_estimate_salt_ORL_1, E_estimate_salt_ORL_1 = data_L1RNMF.fit(trial4_salt_ORL, n_components = len(set(labels_ORL)))\n",
    "W5_estimate_salt_ORL_1, H5_estimate_salt_ORL_1, E_estimate_salt_ORL_1 = data_L1RNMF.fit(trial5_salt_ORL, n_components = len(set(labels_ORL)))"
   ]
  },
  {
   "cell_type": "code",
   "execution_count": 151,
   "metadata": {},
   "outputs": [
    {
     "name": "stdout",
     "output_type": "stream",
     "text": [
      "==> Evaluate RRE on Gaussian noises via L1RNMF.....\n",
      "RRE_gau1_ORL_1 = 0.11766725185172355\n",
      "RRE_gau2_ORL_1 = 0.11706065976021382\n",
      "RRE_gau3_ORL_1 = 0.1196516359838736\n",
      "RRE_gau4_ORL_1 = 0.11946527245513675\n",
      "RRE_gau5_ORL_1 = 0.12159662823238898\n",
      "average RRE gaussian for ORL via L1RNMF=0.11908828965666736 \n"
     ]
    }
   ],
   "source": [
    "print('==> Evaluate RRE on Gaussian noises via L1RNMF.....')\n",
    "RRE_gau1_ORL_1 = np.linalg.norm((trial_train1_ORL - np.array(W1_estimate_gau_ORL_1).dot(np.array(H1_estimate_gau_ORL_1)))) / np.linalg.norm(trial_train1_ORL)\n",
    "RRE_gau2_ORL_1 = np.linalg.norm((trial_train2_ORL - np.array(W2_estimate_gau_ORL_1).dot(np.array(H2_estimate_gau_ORL_1)))) / np.linalg.norm(trial_train2_ORL)\n",
    "RRE_gau3_ORL_1 = np.linalg.norm((trial_train3_ORL - np.array(W3_estimate_gau_ORL_1).dot(np.array(H3_estimate_gau_ORL_1)))) / np.linalg.norm(trial_train3_ORL)\n",
    "RRE_gau4_ORL_1 = np.linalg.norm((trial_train4_ORL - np.array(W4_estimate_gau_ORL_1).dot(np.array(H4_estimate_gau_ORL_1)))) / np.linalg.norm(trial_train4_ORL)\n",
    "RRE_gau5_ORL_1 = np.linalg.norm((trial_train5_ORL - np.array(W5_estimate_gau_ORL_1).dot(np.array(H5_estimate_gau_ORL_1)))) / np.linalg.norm(trial_train5_ORL)\n",
    "print('RRE_gau1_ORL_1 = {}'.format(RRE_gau1_ORL_1))\n",
    "print('RRE_gau2_ORL_1 = {}'.format(RRE_gau2_ORL_1))\n",
    "print('RRE_gau3_ORL_1 = {}'.format(RRE_gau3_ORL_1))\n",
    "print('RRE_gau4_ORL_1 = {}'.format(RRE_gau4_ORL_1))\n",
    "print('RRE_gau5_ORL_1 = {}'.format(RRE_gau5_ORL_1))\n",
    "total_gau_ORL_1 = RRE_gau1_ORL_1+RRE_gau2_ORL_1+RRE_gau3_ORL_1+RRE_gau4_ORL_1+RRE_gau5_ORL_1\n",
    "average_RRE_gau_ORL_1 = total_gau_ORL_1 / 5\n",
    "print('average RRE gaussian for ORL via L1RNMF={} '.format(average_RRE_gau_ORL_1))"
   ]
  },
  {
   "cell_type": "code",
   "execution_count": 150,
   "metadata": {},
   "outputs": [
    {
     "name": "stdout",
     "output_type": "stream",
     "text": [
      "==> Evaluate RRE on Saltpepper noises via L1RNMF.....\n",
      "RRE_salt1_ORL_1 = 0.1950933674800396\n",
      "RRE_salt2_ORL_1 = 0.19338739717484532\n",
      "RRE_salt3_ORL_1 = 0.197358632489274\n",
      "RRE_salt4_ORL_1 = 0.19716713810954328\n",
      "RRE_salt5_ORL_1 = 0.2058769830092876\n",
      "average RRE Saltpepper for ORL via L1RNMF=0.19777670365259795 \n"
     ]
    }
   ],
   "source": [
    "print('==> Evaluate RRE on Saltpepper noises via L1RNMF.....')\n",
    "RRE_salt1_ORL_1 = np.linalg.norm((trial_train1_ORL - np.array(W1_estimate_salt_ORL_1).dot(np.array(H1_estimate_salt_ORL_1)))) / np.linalg.norm(trial_train1_ORL)\n",
    "RRE_salt2_ORL_1 = np.linalg.norm((trial_train2_ORL - np.array(W2_estimate_salt_ORL_1).dot(np.array(H2_estimate_salt_ORL_1)))) / np.linalg.norm(trial_train2_ORL)\n",
    "RRE_salt3_ORL_1 = np.linalg.norm((trial_train3_ORL - np.array(W3_estimate_salt_ORL_1).dot(np.array(H3_estimate_salt_ORL_1)))) / np.linalg.norm(trial_train3_ORL)\n",
    "RRE_salt4_ORL_1 = np.linalg.norm((trial_train4_ORL - np.array(W4_estimate_salt_ORL_1).dot(np.array(H4_estimate_salt_ORL_1)))) / np.linalg.norm(trial_train4_ORL)\n",
    "RRE_salt5_ORL_1 = np.linalg.norm((trial_train5_ORL - np.array(W5_estimate_salt_ORL_1).dot(np.array(H5_estimate_salt_ORL_1)))) / np.linalg.norm(trial_train5_ORL)\n",
    "\n",
    "print('RRE_salt1_ORL_1 = {}'.format(RRE_salt1_ORL_1))\n",
    "print('RRE_salt2_ORL_1 = {}'.format(RRE_salt2_ORL_1))\n",
    "print('RRE_salt3_ORL_1 = {}'.format(RRE_salt3_ORL_1))\n",
    "print('RRE_salt4_ORL_1 = {}'.format(RRE_salt4_ORL_1))\n",
    "print('RRE_salt5_ORL_1 = {}'.format(RRE_salt5_ORL_1))\n",
    "total_salt_ORL_1 = RRE_salt1_ORL_1+RRE_salt2_ORL_1+RRE_salt3_ORL_1+RRE_salt4_ORL_1+RRE_salt5_ORL_1\n",
    "average_RRE_salt_ORL_1 = total_salt_ORL_1 / 5\n",
    "print('average RRE Saltpepper for ORL via L1RNMF={} '.format(average_RRE_salt_ORL_1))"
   ]
  },
  {
   "cell_type": "code",
   "execution_count": null,
   "metadata": {},
   "outputs": [],
   "source": []
  }
 ],
 "metadata": {
  "kernelspec": {
   "display_name": "Python 3",
   "language": "python",
   "name": "python3"
  },
  "language_info": {
   "codemirror_mode": {
    "name": "ipython",
    "version": 3
   },
   "file_extension": ".py",
   "mimetype": "text/x-python",
   "name": "python",
   "nbconvert_exporter": "python",
   "pygments_lexer": "ipython3",
   "version": "3.8.5"
  },
  "latex_envs": {
   "LaTeX_envs_menu_present": true,
   "autoclose": false,
   "autocomplete": true,
   "bibliofile": "biblio.bib",
   "cite_by": "apalike",
   "current_citInitial": 1,
   "eqLabelWithNumbers": true,
   "eqNumInitial": 1,
   "hotkeys": {
    "equation": "Ctrl-E",
    "itemize": "Ctrl-I"
   },
   "labels_anchors": false,
   "latex_user_defs": false,
   "report_style_numbering": false,
   "user_envs_cfg": false
  }
 },
 "nbformat": 4,
 "nbformat_minor": 4
}
